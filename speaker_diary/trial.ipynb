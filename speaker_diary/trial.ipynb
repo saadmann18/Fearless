{
 "cells": [
  {
   "cell_type": "code",
   "execution_count": 2,
   "metadata": {},
   "outputs": [],
   "source": [
    "from padercontrib.database.fearless import Fearless\n",
    "import padertorch as pt\n",
    "import paderbox as pb\n",
    "import numpy as np\n",
    "import paderbox as pb\n",
    "from padercontrib.database.iterator import AudioReader\n",
    "from paderbox.transform import stft,fbank\n",
    "import scipy\n",
    "import torch.nn as nn\n",
    "import pydub\n",
    "from sklearn.preprocessing import LabelEncoder\n",
    "from keras.utils.np_utils import to_categorical\n",
    "import tensorflow as tf\n",
    "import pandas as pd\n",
    "from pydub import AudioSegment\n",
    "import torch\n",
    "from functools import partial\n",
    "import lazy_dataset\n",
    "from padertorch.data.utils import collate_fn\n",
    "import json,pickle\n",
    "#from loss_functions2 import AngularPenaltySMLoss2\n",
    "from torch.nn.utils.rnn import pad_sequence"
   ]
  },
  {
   "cell_type": "code",
   "execution_count": 3,
   "metadata": {},
   "outputs": [],
   "source": [
    "db = Fearless()\n",
    "ds = db.get_dataset('Train_segment')\n",
    "lb = LabelEncoder()\n",
    "dev = torch.device(\"cuda\")"
   ]
  }
 ],
 "metadata": {
  "kernelspec": {
   "display_name": "project_2020",
   "language": "python",
   "name": "project_2020"
  },
  "language_info": {
   "codemirror_mode": {
    "name": "ipython",
    "version": 3
   },
   "file_extension": ".py",
   "mimetype": "text/x-python",
   "name": "python",
   "nbconvert_exporter": "python",
   "pygments_lexer": "ipython3",
   "version": "3.7.6"
  }
 },
 "nbformat": 4,
 "nbformat_minor": 4
}

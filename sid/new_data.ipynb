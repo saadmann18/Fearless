{
 "cells": [
  {
   "cell_type": "code",
   "execution_count": 281,
   "metadata": {},
   "outputs": [],
   "source": [
    "from padercontrib.database.fearless import Fearless\n",
    "import padertorch as pt\n",
    "import paderbox as pb\n",
    "import numpy as np\n",
    "import paderbox as pb\n",
    "from padercontrib.database.iterator import AudioReader\n",
    "from paderbox.transform import stft,fbank\n",
    "import scipy\n",
    "import torch.nn as nn\n",
    "import pydub\n",
    "from sklearn.preprocessing import LabelEncoder\n",
    "from keras.utils.np_utils import to_categorical\n",
    "import tensorflow as tf\n",
    "import pandas as pd\n",
    "from pydub import AudioSegment\n",
    "import torch\n",
    "from functools import partial\n",
    "import lazy_dataset\n",
    "from padertorch.data.utils import collate_fn\n",
    "import json,pickle\n",
    "from loss_functions2 import AngularPenaltySMLoss2\n",
    "from torch.nn.utils.rnn import pad_sequence"
   ]
  },
  {
   "cell_type": "code",
   "execution_count": 282,
   "metadata": {},
   "outputs": [],
   "source": [
    "db = Fearless()\n",
    "ds = db.get_dataset('Train_segment')\n",
    "lb = LabelEncoder()\n",
    "dev = torch.device(\"cuda\")"
   ]
  },
  {
   "cell_type": "code",
   "execution_count": 22,
   "metadata": {},
   "outputs": [],
   "source": [
    "train_167 = pb.io.load_json(\"/net/home/dheerajpr/my_project/fearless/fearless/sid/train_167.json\")\n",
    "train_167_lazy = lazy_dataset.new(train_167['Train_167'])\n",
    "dev_167 = pb.io.load_json(\"/net/home/dheerajpr/my_project/fearless/fearless/sid/dev_167.json\")\n",
    "dev_167_lazy = lazy_dataset.new(dev_167['Dev_167'])"
   ]
  },
  {
   "cell_type": "code",
   "execution_count": 12,
   "metadata": {},
   "outputs": [],
   "source": [
    "def prep_example(example):\n",
    "    audio = pb.io.load_audio(example['audio_path']['observation'])\n",
    "    example['array_samples'] = audio\n",
    "    return example"
   ]
  },
  {
   "cell_type": "code",
   "execution_count": 13,
   "metadata": {},
   "outputs": [
    {
     "ename": "KeyboardInterrupt",
     "evalue": "",
     "output_type": "error",
     "traceback": [
      "\u001b[0;31m---------------------------------------------------------------------------\u001b[0m",
      "\u001b[0;31mKeyboardInterrupt\u001b[0m                         Traceback (most recent call last)",
      "\u001b[0;32m<ipython-input-13-f9f01ceffb23>\u001b[0m in \u001b[0;36m<module>\u001b[0;34m\u001b[0m\n\u001b[1;32m      2\u001b[0m \u001b[0mnew_train\u001b[0m \u001b[0;34m=\u001b[0m \u001b[0;34m[\u001b[0m\u001b[0;34m]\u001b[0m\u001b[0;34m\u001b[0m\u001b[0;34m\u001b[0m\u001b[0m\n\u001b[1;32m      3\u001b[0m \u001b[0;32mfor\u001b[0m \u001b[0mi\u001b[0m \u001b[0;32min\u001b[0m \u001b[0mdev_167_lazy\u001b[0m\u001b[0;34m:\u001b[0m\u001b[0;34m\u001b[0m\u001b[0;34m\u001b[0m\u001b[0m\n\u001b[0;32m----> 4\u001b[0;31m     \u001b[0mnew_dev\u001b[0m\u001b[0;34m.\u001b[0m\u001b[0mappend\u001b[0m\u001b[0;34m(\u001b[0m\u001b[0mprep_example\u001b[0m\u001b[0;34m(\u001b[0m\u001b[0mi\u001b[0m\u001b[0;34m)\u001b[0m\u001b[0;34m)\u001b[0m\u001b[0;34m\u001b[0m\u001b[0;34m\u001b[0m\u001b[0m\n\u001b[0m\u001b[1;32m      5\u001b[0m \u001b[0;32mfor\u001b[0m \u001b[0mj\u001b[0m \u001b[0;32min\u001b[0m \u001b[0mtrain_167_lazy\u001b[0m\u001b[0;34m:\u001b[0m\u001b[0;34m\u001b[0m\u001b[0;34m\u001b[0m\u001b[0m\n\u001b[1;32m      6\u001b[0m     \u001b[0mnew_train\u001b[0m\u001b[0;34m.\u001b[0m\u001b[0mappend\u001b[0m\u001b[0;34m(\u001b[0m\u001b[0mprep_example\u001b[0m\u001b[0;34m(\u001b[0m\u001b[0mj\u001b[0m\u001b[0;34m)\u001b[0m\u001b[0;34m)\u001b[0m\u001b[0;34m\u001b[0m\u001b[0;34m\u001b[0m\u001b[0m\n",
      "\u001b[0;32m<ipython-input-12-59624467a6d0>\u001b[0m in \u001b[0;36mprep_example\u001b[0;34m(example)\u001b[0m\n\u001b[1;32m      1\u001b[0m \u001b[0;32mdef\u001b[0m \u001b[0mprep_example\u001b[0m\u001b[0;34m(\u001b[0m\u001b[0mexample\u001b[0m\u001b[0;34m)\u001b[0m\u001b[0;34m:\u001b[0m\u001b[0;34m\u001b[0m\u001b[0;34m\u001b[0m\u001b[0m\n\u001b[0;32m----> 2\u001b[0;31m     \u001b[0maudio\u001b[0m \u001b[0;34m=\u001b[0m \u001b[0mpb\u001b[0m\u001b[0;34m.\u001b[0m\u001b[0mio\u001b[0m\u001b[0;34m.\u001b[0m\u001b[0mload_audio\u001b[0m\u001b[0;34m(\u001b[0m\u001b[0mexample\u001b[0m\u001b[0;34m[\u001b[0m\u001b[0;34m'audio_path'\u001b[0m\u001b[0;34m]\u001b[0m\u001b[0;34m[\u001b[0m\u001b[0;34m'observation'\u001b[0m\u001b[0;34m]\u001b[0m\u001b[0;34m)\u001b[0m\u001b[0;34m\u001b[0m\u001b[0;34m\u001b[0m\u001b[0m\n\u001b[0m\u001b[1;32m      3\u001b[0m     \u001b[0mexample\u001b[0m\u001b[0;34m[\u001b[0m\u001b[0;34m'array_samples'\u001b[0m\u001b[0;34m]\u001b[0m \u001b[0;34m=\u001b[0m \u001b[0maudio\u001b[0m\u001b[0;34m\u001b[0m\u001b[0;34m\u001b[0m\u001b[0m\n\u001b[1;32m      4\u001b[0m     \u001b[0;32mreturn\u001b[0m \u001b[0mexample\u001b[0m\u001b[0;34m\u001b[0m\u001b[0;34m\u001b[0m\u001b[0m\n",
      "\u001b[0;32m/net/home/dheerajpr/my_project/paderbox/paderbox/io/audioread.py\u001b[0m in \u001b[0;36mload_audio\u001b[0;34m(path, frames, start, stop, dtype, fill_value, expected_sample_rate, unit, return_sample_rate)\u001b[0m\n\u001b[1;32m    187\u001b[0m             with soundfile.SoundFile(\n\u001b[1;32m    188\u001b[0m                     \u001b[0mpath\u001b[0m\u001b[0;34m,\u001b[0m\u001b[0;34m\u001b[0m\u001b[0;34m\u001b[0m\u001b[0m\n\u001b[0;32m--> 189\u001b[0;31m                     \u001b[0;34m'r'\u001b[0m\u001b[0;34m,\u001b[0m\u001b[0;34m\u001b[0m\u001b[0;34m\u001b[0m\u001b[0m\n\u001b[0m\u001b[1;32m    190\u001b[0m             ) as f:\n\u001b[1;32m    191\u001b[0m                 \u001b[0;32mif\u001b[0m \u001b[0mdtype\u001b[0m \u001b[0;32mis\u001b[0m \u001b[0;32mNone\u001b[0m\u001b[0;34m:\u001b[0m\u001b[0;34m\u001b[0m\u001b[0;34m\u001b[0m\u001b[0m\n",
      "\u001b[0;32m/net/software/python/2020_06/anaconda/lib/python3.7/site-packages/soundfile.py\u001b[0m in \u001b[0;36m__init__\u001b[0;34m(self, file, mode, samplerate, channels, subtype, endian, format, closefd)\u001b[0m\n\u001b[1;32m    738\u001b[0m         self._info = _create_info_struct(file, mode, samplerate, channels,\n\u001b[1;32m    739\u001b[0m                                          format, subtype, endian)\n\u001b[0;32m--> 740\u001b[0;31m         \u001b[0mself\u001b[0m\u001b[0;34m.\u001b[0m\u001b[0m_file\u001b[0m \u001b[0;34m=\u001b[0m \u001b[0mself\u001b[0m\u001b[0;34m.\u001b[0m\u001b[0m_open\u001b[0m\u001b[0;34m(\u001b[0m\u001b[0mfile\u001b[0m\u001b[0;34m,\u001b[0m \u001b[0mmode_int\u001b[0m\u001b[0;34m,\u001b[0m \u001b[0mclosefd\u001b[0m\u001b[0;34m)\u001b[0m\u001b[0;34m\u001b[0m\u001b[0;34m\u001b[0m\u001b[0m\n\u001b[0m\u001b[1;32m    741\u001b[0m         \u001b[0;32mif\u001b[0m \u001b[0mset\u001b[0m\u001b[0;34m(\u001b[0m\u001b[0mmode\u001b[0m\u001b[0;34m)\u001b[0m\u001b[0;34m.\u001b[0m\u001b[0missuperset\u001b[0m\u001b[0;34m(\u001b[0m\u001b[0;34m'r+'\u001b[0m\u001b[0;34m)\u001b[0m \u001b[0;32mand\u001b[0m \u001b[0mself\u001b[0m\u001b[0;34m.\u001b[0m\u001b[0mseekable\u001b[0m\u001b[0;34m(\u001b[0m\u001b[0;34m)\u001b[0m\u001b[0;34m:\u001b[0m\u001b[0;34m\u001b[0m\u001b[0;34m\u001b[0m\u001b[0m\n\u001b[1;32m    742\u001b[0m             \u001b[0;31m# Move write position to 0 (like in Python file objects)\u001b[0m\u001b[0;34m\u001b[0m\u001b[0;34m\u001b[0m\u001b[0;34m\u001b[0m\u001b[0m\n",
      "\u001b[0;32m/net/software/python/2020_06/anaconda/lib/python3.7/site-packages/soundfile.py\u001b[0m in \u001b[0;36m_open\u001b[0;34m(self, file, mode_int, closefd)\u001b[0m\n\u001b[1;32m   1254\u001b[0m                 \u001b[0;32melse\u001b[0m\u001b[0;34m:\u001b[0m\u001b[0;34m\u001b[0m\u001b[0;34m\u001b[0m\u001b[0m\n\u001b[1;32m   1255\u001b[0m                     \u001b[0mfile\u001b[0m \u001b[0;34m=\u001b[0m \u001b[0mfile\u001b[0m\u001b[0;34m.\u001b[0m\u001b[0mencode\u001b[0m\u001b[0;34m(\u001b[0m\u001b[0m_sys\u001b[0m\u001b[0;34m.\u001b[0m\u001b[0mgetfilesystemencoding\u001b[0m\u001b[0;34m(\u001b[0m\u001b[0;34m)\u001b[0m\u001b[0;34m)\u001b[0m\u001b[0;34m\u001b[0m\u001b[0;34m\u001b[0m\u001b[0m\n\u001b[0;32m-> 1256\u001b[0;31m             \u001b[0mfile_ptr\u001b[0m \u001b[0;34m=\u001b[0m \u001b[0mopenfunction\u001b[0m\u001b[0;34m(\u001b[0m\u001b[0mfile\u001b[0m\u001b[0;34m,\u001b[0m \u001b[0mmode_int\u001b[0m\u001b[0;34m,\u001b[0m \u001b[0mself\u001b[0m\u001b[0;34m.\u001b[0m\u001b[0m_info\u001b[0m\u001b[0;34m)\u001b[0m\u001b[0;34m\u001b[0m\u001b[0;34m\u001b[0m\u001b[0m\n\u001b[0m\u001b[1;32m   1257\u001b[0m         \u001b[0;32melif\u001b[0m \u001b[0misinstance\u001b[0m\u001b[0;34m(\u001b[0m\u001b[0mfile\u001b[0m\u001b[0;34m,\u001b[0m \u001b[0mint\u001b[0m\u001b[0;34m)\u001b[0m\u001b[0;34m:\u001b[0m\u001b[0;34m\u001b[0m\u001b[0;34m\u001b[0m\u001b[0m\n\u001b[1;32m   1258\u001b[0m             \u001b[0mfile_ptr\u001b[0m \u001b[0;34m=\u001b[0m \u001b[0m_snd\u001b[0m\u001b[0;34m.\u001b[0m\u001b[0msf_open_fd\u001b[0m\u001b[0;34m(\u001b[0m\u001b[0mfile\u001b[0m\u001b[0;34m,\u001b[0m \u001b[0mmode_int\u001b[0m\u001b[0;34m,\u001b[0m \u001b[0mself\u001b[0m\u001b[0;34m.\u001b[0m\u001b[0m_info\u001b[0m\u001b[0;34m,\u001b[0m \u001b[0mclosefd\u001b[0m\u001b[0;34m)\u001b[0m\u001b[0;34m\u001b[0m\u001b[0;34m\u001b[0m\u001b[0m\n",
      "\u001b[0;31mKeyboardInterrupt\u001b[0m: "
     ]
    }
   ],
   "source": [
    "new_dev = []\n",
    "new_train = []\n",
    "for i in dev_167_lazy:\n",
    "    new_dev.append(prep_example(i))\n",
    "for j in train_167_lazy:\n",
    "    new_train.append(prep_example(j))"
   ]
  },
  {
   "cell_type": "code",
   "execution_count": 14,
   "metadata": {},
   "outputs": [],
   "source": [
    "import pandas as pd"
   ]
  },
  {
   "cell_type": "code",
   "execution_count": 15,
   "metadata": {},
   "outputs": [],
   "source": [
    "df = pd.DataFrame(dev_167['Dev_167'])\n",
    "df_grt = df[df['num_samples']>=32000]\n",
    "df_low =  df[df['num_samples']<32000]"
   ]
  },
  {
   "cell_type": "code",
   "execution_count": 19,
   "metadata": {},
   "outputs": [
    {
     "data": {
      "text/plain": [
       "167"
      ]
     },
     "execution_count": 19,
     "metadata": {},
     "output_type": "execute_result"
    }
   ],
   "source": [
    "len(set(df['speaker_id']))"
   ]
  },
  {
   "cell_type": "code",
   "execution_count": null,
   "metadata": {},
   "outputs": [],
   "source": [
    "segmenter = pt.data.segment.Segmenter(length=32000,include_keys='array_samples',padding=True,copy_keys=True,\n",
    "                                      mode='constant')\n",
    "segmented_train = []\n",
    "\n"
   ]
  },
  {
   "cell_type": "code",
   "execution_count": null,
   "metadata": {},
   "outputs": [],
   "source": [
    "df_grt_dict = pd.DataFrame.to_dict(df_grt,'records')\n",
    "df_low_dict = pd.DataFrame.to_dict(df_low,'records')\n",
    "len(df_low_dict)\n"
   ]
  },
  {
   "cell_type": "code",
   "execution_count": null,
   "metadata": {},
   "outputs": [],
   "source": [
    "for i in df_grt_dict:\n",
    "    segmented_train.append(segmenter(i))"
   ]
  },
  {
   "cell_type": "code",
   "execution_count": null,
   "metadata": {},
   "outputs": [],
   "source": [
    "segmented_train_unbatch = []\n",
    "\n",
    "for i in segmented_train:\n",
    "    for j in i:\n",
    "        segmented_train_unbatch.append(j)"
   ]
  },
  {
   "cell_type": "code",
   "execution_count": null,
   "metadata": {},
   "outputs": [],
   "source": [
    "segmented_train_unbatch = [{k: v for k, v in d.items() if k != 'segment_start'} for d in segmented_train_unbatch]\n",
    "segmented_train_unbatch = [{k: v for k, v in d.items() if k != 'segment_stop'} for d in segmented_train_unbatch]"
   ]
  },
  {
   "cell_type": "code",
   "execution_count": null,
   "metadata": {},
   "outputs": [],
   "source": [
    "len(segmented_train_unbatch[-2])"
   ]
  },
  {
   "cell_type": "code",
   "execution_count": null,
   "metadata": {},
   "outputs": [],
   "source": [
    "final_train_list = []\n",
    "\n",
    "for i in df_low_dict:\n",
    "    final_train_list.append(i)\n"
   ]
  },
  {
   "cell_type": "code",
   "execution_count": null,
   "metadata": {},
   "outputs": [],
   "source": [
    "len(df_low_dict)"
   ]
  },
  {
   "cell_type": "code",
   "execution_count": null,
   "metadata": {},
   "outputs": [],
   "source": [
    "for j in segmented_train_unbatch:\n",
    "    final_train_list.append(j)"
   ]
  },
  {
   "cell_type": "code",
   "execution_count": null,
   "metadata": {},
   "outputs": [],
   "source": [
    "len(final_train_list)"
   ]
  },
  {
   "cell_type": "code",
   "execution_count": null,
   "metadata": {},
   "outputs": [],
   "source": [
    "for i in final_train_list:\n",
    "    if i['num_samples']<32000:\n",
    "        j = 32000 - i['num_samples']\n",
    "        i['array_samples'] = np.concatenate((i['array_samples'],np.zeros(j)))"
   ]
  },
  {
   "cell_type": "code",
   "execution_count": null,
   "metadata": {},
   "outputs": [],
   "source": [
    "len(final_train_list)"
   ]
  },
  {
   "cell_type": "code",
   "execution_count": null,
   "metadata": {},
   "outputs": [],
   "source": [
    "trainlist_final = sorted(final_train_list, key=lambda k: k['audio_path']['observation'])"
   ]
  },
  {
   "cell_type": "code",
   "execution_count": null,
   "metadata": {},
   "outputs": [],
   "source": [
    "for i in trainlist_final:\n",
    "    i['array_samples'] = np.float32(i['array_samples'])"
   ]
  },
  {
   "cell_type": "code",
   "execution_count": null,
   "metadata": {},
   "outputs": [],
   "source": [
    "train_167_seg = {'Train_167':trainlist_final}"
   ]
  },
  {
   "cell_type": "code",
   "execution_count": null,
   "metadata": {},
   "outputs": [],
   "source": [
    "train_167_seg"
   ]
  },
  {
   "cell_type": "code",
   "execution_count": null,
   "metadata": {},
   "outputs": [],
   "source": [
    "def prepare_data(example):\n",
    "    \n",
    "    def prep_data(example):\n",
    "        audio = pb.io.load_audio(example['audio_path']['observation'],dtype=np.float32)\n",
    "        example['array_samples'] = audio\n",
    "        \n",
    "        if len(audio)<32000:\n",
    "            j = 32000-len(audio)            \n",
    "            audio = np.concatenate((audio,np.zeros(j)))\n",
    "            example['array_samples'] = audio\n",
    "        \n",
    "        elif len(audio)>=32000:\n",
    "            segmenter = pt.data.segment.Segmenter(length=32000,include_keys='array_samples',padding=True,copy_keys=True,\n",
    "                                      mode='constant')\n",
    "            segmented = segmenter(example)\n",
    "            \n",
    "            example['array_samples'] = segmented[0]['array_samples']\n",
    "            \n",
    "        return example\n",
    "    \n",
    "    return example.map(prep_data)"
   ]
  },
  {
   "cell_type": "code",
   "execution_count": null,
   "metadata": {},
   "outputs": [],
   "source": [
    "def segmented(example):\n",
    "    \n",
    "    seg_unbatch = []\n",
    "    ds = example\n",
    "    for j in ds:\n",
    "        \n",
    "        audio = pb.io.load_audio(j['audio_path']['observation'],dtype=np.int16)\n",
    "        j['array_samples'] = audio\n",
    "        seg = []\n",
    "        if len(audio)>=32000:\n",
    "            \n",
    "            segmenter = pt.data.segment.Segmenter(length=32000,include_keys='array_samples',padding=True,\n",
    "                                      mode='constant')\n",
    "            seg.append(segmenter(j))\n",
    "            \n",
    "        for i in seg:\n",
    "            for j in i:\n",
    "                seg_unbatch.append(j)\n",
    "                \n",
    "    seg_unbatch = [{k: v for k, v in d.items() if k != 'segment_start'} for d in seg_unbatch]\n",
    "    seg_unbatch = [{k: v for k, v in d.items() if k != 'segment_stop'} for d in seg_unbatch] \n",
    "    \n",
    "    for o in ds:\n",
    "        audio = pb.io.load_audio(o['audio_path']['observation'],dtype=np.int16)\n",
    "        if len(audio)<32000:\n",
    "            p = 32000-len(audio)            \n",
    "            audio = np.concatenate((audio,np.zeros(p)))\n",
    "            o['array_samples'] = audio\n",
    "            \n",
    "            seg_unbatch.append(o)\n",
    "    \n",
    "    seg_unbatch = sorted(seg_unbatch, key=lambda k: k['audio_path']['observation'])\n",
    "    \n",
    "    return(seg_unbatch)\n",
    "\n",
    "\n"
   ]
  },
  {
   "cell_type": "code",
   "execution_count": 285,
   "metadata": {},
   "outputs": [],
   "source": [
    "train_sid = db.get_dataset(\"Train_SID\")\n",
    "dev_sid = db.get_dataset(\"Dev_SID\")"
   ]
  },
  {
   "cell_type": "code",
   "execution_count": null,
   "metadata": {},
   "outputs": [],
   "source": [
    "sg_dev_sid = segmented(dev_sid)"
   ]
  },
  {
   "cell_type": "code",
   "execution_count": null,
   "metadata": {},
   "outputs": [],
   "source": [
    "sg_dev_sid = lazy_dataset.new(sg_dev_sid)"
   ]
  },
  {
   "cell_type": "code",
   "execution_count": null,
   "metadata": {},
   "outputs": [],
   "source": [
    "sg_dev = segmented(dev_167['Dev_167'])\n",
    "sg_train = segmented(train_167['Train_167'])"
   ]
  },
  {
   "cell_type": "code",
   "execution_count": 287,
   "metadata": {},
   "outputs": [
    {
     "data": {
      "text/plain": [
       "27336"
      ]
     },
     "execution_count": 287,
     "metadata": {},
     "output_type": "execute_result"
    }
   ],
   "source": [
    "len(train_sid)"
   ]
  },
  {
   "cell_type": "code",
   "execution_count": null,
   "metadata": {},
   "outputs": [],
   "source": [
    "sg_dev_lazy = lazy_dataset.new(sg_dev)\n",
    "\n",
    "sg_train_lazy = lazy_dataset.new(sg_train)"
   ]
  },
  {
   "cell_type": "code",
   "execution_count": 283,
   "metadata": {},
   "outputs": [],
   "source": [
    "def prepare_data_4(example, batch_size, shuffle = False):\n",
    "\n",
    "    ds = example\n",
    "    \n",
    "    def prep_features(example):\n",
    "        \n",
    "        fbank_data = []\n",
    "        audio = example['array_samples']\n",
    "        \n",
    "        \"\"\" Compute the 64 dimensional filter banks for the 4secs fixed length audio segments\"\"\"\n",
    "    \n",
    "        fbank = pb.transform.fbank(audio, sample_rate=8000, window_length=400, stft_shift=160,number_of_filters=64,\n",
    "                        stft_size=512,lowest_frequency=0,highest_frequency=None, preemphasis_factor=0.97, \n",
    "                        window=scipy.signal.windows.hamming)\n",
    "        fbank_data.append(fbank)\n",
    "        tens_fbank = torch.FloatTensor(fbank_data)\n",
    "\n",
    "        example['features'] = (tens_fbank)\n",
    "        \n",
    "        return example\n",
    "    \n",
    "    def prep_label(example):\n",
    "\n",
    "        label_dict_hot = pb.io.load_json(path = '/net/home/dheerajpr/my_project/fearless/fearless/sid/labels_sid_hot.json')\n",
    "        label_dict3 = pb.io.load_json(path = '/net/home/dheerajpr/my_project/fearless/fearless/sid/labels_sid.json')\n",
    "\n",
    "        if example['speaker_id'] in label_dict_hot.keys():\n",
    "        \n",
    "            pos = label_dict_hot[example['speaker_id']]\n",
    "            example['label_hot'] = np.array(pos)\n",
    "        \n",
    "    \n",
    "        if example['speaker_id'] in label_dict3.keys():\n",
    "        \n",
    "            pos = label_dict3[example['speaker_id']]\n",
    "            example['label_array'] = np.array(pos)\n",
    "        return example\n",
    "        \n",
    "    \n",
    "    def stack(example):\n",
    "        example['features'] = np.stack(example['features'])\n",
    "        example['label_hot'] = np.stack(example['label_hot'])\n",
    "        example['label_array'] = np.stack(example['label_array'])\n",
    "        \n",
    "        \n",
    "        return example\n",
    "    \n",
    "    example = (example\n",
    "               .map(prep_features)\n",
    "               .map(prep_label)\n",
    "               .batch(batch_size).map(collate_fn)\n",
    "               .map(stack))\n",
    "               #.prefetch(buffer_size=8, num_workers=8))\n",
    "            \n",
    "            \n",
    "    return example"
   ]
  },
  {
   "cell_type": "code",
   "execution_count": 284,
   "metadata": {},
   "outputs": [
    {
     "ename": "NameError",
     "evalue": "name 'sg_dev_sid' is not defined",
     "output_type": "error",
     "traceback": [
      "\u001b[0;31m---------------------------------------------------------------------------\u001b[0m",
      "\u001b[0;31mNameError\u001b[0m                                 Traceback (most recent call last)",
      "\u001b[0;32m<ipython-input-284-1adbc528edef>\u001b[0m in \u001b[0;36m<module>\u001b[0;34m\u001b[0m\n\u001b[0;32m----> 1\u001b[0;31m \u001b[0ma\u001b[0m \u001b[0;34m=\u001b[0m \u001b[0mprepare_data_4\u001b[0m\u001b[0;34m(\u001b[0m\u001b[0msg_dev_sid\u001b[0m\u001b[0;34m,\u001b[0m\u001b[0;36m10\u001b[0m\u001b[0;34m)\u001b[0m\u001b[0;34m\u001b[0m\u001b[0;34m\u001b[0m\u001b[0m\n\u001b[0m\u001b[1;32m      2\u001b[0m \u001b[0ma\u001b[0m\u001b[0;34m[\u001b[0m\u001b[0;36m0\u001b[0m\u001b[0;34m]\u001b[0m\u001b[0;34m\u001b[0m\u001b[0;34m\u001b[0m\u001b[0m\n",
      "\u001b[0;31mNameError\u001b[0m: name 'sg_dev_sid' is not defined"
     ]
    }
   ],
   "source": [
    "a = prepare_data_4(sg_dev_sid,10)\n",
    "a[0]"
   ]
  },
  {
   "cell_type": "code",
   "execution_count": null,
   "metadata": {},
   "outputs": [],
   "source": [
    "from fearless.sid.model_resnet_SID import ResNet_SID"
   ]
  },
  {
   "cell_type": "code",
   "execution_count": null,
   "metadata": {},
   "outputs": [],
   "source": [
    "model = ResNet_SID()"
   ]
  },
  {
   "cell_type": "code",
   "execution_count": null,
   "metadata": {},
   "outputs": [],
   "source": [
    "import sklearn\n",
    "from sklearn import metrics\n",
    "    \n",
    "trainer = pt.train.trainer.InteractiveTrainer(\n",
    "                model.to('cuda'),\n",
    "                optimizer=pt.train.optimizer.SGD(lr=0.1),#,nesterov=True,momentum=0.9),\n",
    "            \n",
    "                stop_trigger=(10,'epoch'),\n",
    "                summary_trigger=(1,'iteration'),\n",
    "            \n",
    "                )\n",
    "#trainer.register_hook(pt.train.hooks.LRSchedulerHook(\n",
    "#torch.optim.lr_scheduler.ExponentialLR(trainer.optimizer.optimizer, gamma=0.1))) #, milestones=[25,40]))\n",
    "trainer.train(a[0:1])"
   ]
  },
  {
   "cell_type": "code",
   "execution_count": null,
   "metadata": {},
   "outputs": [],
   "source": []
  },
  {
   "cell_type": "code",
   "execution_count": 56,
   "metadata": {},
   "outputs": [],
   "source": [
    "import pandas as pd\n",
    "label_dict = pb.io.load_json(path = '/net/home/dheerajpr/my_project/fearless/fearless/sid/labels_167.json')"
   ]
  },
  {
   "cell_type": "code",
   "execution_count": 57,
   "metadata": {},
   "outputs": [
    {
     "data": {
      "text/plain": [
       "{'AFD1': 0,\n",
       " 'AFD3': 1,\n",
       " 'AFD5': 2,\n",
       " 'AGC': 3,\n",
       " 'ALDS': 4,\n",
       " 'ALSEP': 5,\n",
       " 'ANTIGUA': 6,\n",
       " 'ARIA': 7,\n",
       " 'ASCENSION': 8,\n",
       " 'ASCENSIONCOMMTECH': 9,\n",
       " 'BERMUDA': 10,\n",
       " 'BOOSTER1': 11,\n",
       " 'BUZZ': 12,\n",
       " 'CALIFORNIA': 13,\n",
       " 'CANARY': 14,\n",
       " 'CAPCOM1': 15,\n",
       " 'CAPCOM2': 16,\n",
       " 'CARNARVON': 17,\n",
       " 'CCATSCOMMAND': 18,\n",
       " 'CCATSTELEMETRY': 19,\n",
       " 'CLTC': 20,\n",
       " 'COLLINS': 21,\n",
       " 'COMM': 22,\n",
       " 'COMMANAGER1': 23,\n",
       " 'COMMANAGER3': 24,\n",
       " 'COMMCONTROL1': 25,\n",
       " 'COMMCONTROL2': 26,\n",
       " 'COMMCONTROL3': 27,\n",
       " 'COMMCONTROL4': 28,\n",
       " 'COMPUTERMNO': 29,\n",
       " 'COMPUTERTM': 30,\n",
       " 'CONSUMABLES': 31,\n",
       " 'CONTROL1': 32,\n",
       " 'CONTROL2': 33,\n",
       " 'CPSPK': 34,\n",
       " 'CPSS': 35,\n",
       " 'CTSC': 36,\n",
       " 'CVTS': 37,\n",
       " 'DATACORE': 38,\n",
       " 'DEPUTYLOM': 39,\n",
       " 'DISPLAY': 40,\n",
       " 'ECS1': 41,\n",
       " 'ECS2': 42,\n",
       " 'EECOM1': 43,\n",
       " 'EECOM2': 44,\n",
       " 'EECOM3': 45,\n",
       " 'EECOM5': 46,\n",
       " 'EMU': 47,\n",
       " 'EPE': 48,\n",
       " 'EPS2': 49,\n",
       " 'EPS3': 50,\n",
       " 'EVA': 51,\n",
       " 'EXPERIMENTS': 52,\n",
       " 'FAO1': 53,\n",
       " 'FAO2': 54,\n",
       " 'FAO3': 55,\n",
       " 'FD1': 56,\n",
       " 'FD2': 57,\n",
       " 'FD3': 58,\n",
       " 'FEMALE2': 59,\n",
       " 'FIDO1': 60,\n",
       " 'FIDO3': 61,\n",
       " 'FORTYEIGHT': 62,\n",
       " 'GBM': 63,\n",
       " 'GCC': 64,\n",
       " 'GMIL': 65,\n",
       " 'GNC1': 66,\n",
       " 'GNC4': 67,\n",
       " 'GNN1': 68,\n",
       " 'GNN2': 69,\n",
       " 'GODDARDOPS': 70,\n",
       " 'GODDARDVOICE': 71,\n",
       " 'GOLDSTONE': 72,\n",
       " 'GOLDSTONECOMMTECH': 73,\n",
       " 'GOLDSTONEVIDEO': 74,\n",
       " 'GUAM': 75,\n",
       " 'GUAYMAS': 76,\n",
       " 'GUIDANCE1': 77,\n",
       " 'GUIDANCE2': 78,\n",
       " 'GUIDANCE3': 79,\n",
       " 'GUIDANCE4': 80,\n",
       " 'HAWAII': 81,\n",
       " 'HONEYSUCKLE': 82,\n",
       " 'HOUSTONCOMMTECH1': 83,\n",
       " 'HOUSTONCOMMTECH2': 84,\n",
       " 'HOUSTONCOMMTECH3': 85,\n",
       " 'HOUSTONTV1': 86,\n",
       " 'HUNTSVILLE': 87,\n",
       " 'INCO1': 88,\n",
       " 'INCO3': 89,\n",
       " 'INCO4': 90,\n",
       " 'LC': 91,\n",
       " 'LMPROPULSION': 92,\n",
       " 'LOADCONTROL': 93,\n",
       " 'MADRID': 94,\n",
       " 'MADRIDCOMMTECH': 95,\n",
       " 'MCCFILEspk1': 96,\n",
       " 'MCCFILEspk2': 97,\n",
       " 'MCCFILEspk3': 98,\n",
       " 'MCCFILEspk4': 99,\n",
       " 'MCCFILEspk5': 100,\n",
       " 'MCCFILEspk6': 101,\n",
       " 'MCCFILEspk7': 102,\n",
       " 'MECS': 103,\n",
       " 'MEPS': 104,\n",
       " 'MERCURY': 105,\n",
       " 'MIKE': 106,\n",
       " 'MILA': 107,\n",
       " 'MLSC': 108,\n",
       " 'MSTC1': 109,\n",
       " 'MSTC2': 110,\n",
       " 'NEIL': 111,\n",
       " 'NETWORK1': 112,\n",
       " 'NETWORK2': 113,\n",
       " 'NETWORK3': 114,\n",
       " 'NETWORK4': 115,\n",
       " 'NETWORK5': 116,\n",
       " 'NETWORK6': 117,\n",
       " 'NETWORK7': 118,\n",
       " 'NETWORK9': 119,\n",
       " 'NIXON': 120,\n",
       " 'ONP': 121,\n",
       " 'OPS': 122,\n",
       " 'PLSS1': 123,\n",
       " 'PLSSCOMM': 124,\n",
       " 'PROCEDURES1': 125,\n",
       " 'PROCEDURES3': 126,\n",
       " 'PROPULSION1': 127,\n",
       " 'PROPULSION3': 128,\n",
       " 'RECOVERY': 129,\n",
       " 'REDSTONE': 130,\n",
       " 'RETRO1': 131,\n",
       " 'RETRO3': 132,\n",
       " 'RSO': 133,\n",
       " 'RTC1': 134,\n",
       " 'RTC2': 135,\n",
       " 'RTC3': 136,\n",
       " 'RTC4': 137,\n",
       " 'SCHEDULING': 138,\n",
       " 'SCS': 139,\n",
       " 'SELECT': 140,\n",
       " 'SEQUENCER': 141,\n",
       " 'SPAN1': 142,\n",
       " 'SPAN3': 143,\n",
       " 'SPAN5': 144,\n",
       " 'SPS': 145,\n",
       " 'SRO2': 146,\n",
       " 'STONY': 147,\n",
       " 'SURGEON1': 148,\n",
       " 'SURGEON2': 149,\n",
       " 'SYDNEYVIDEO': 150,\n",
       " 'TANANARIVE': 151,\n",
       " 'TELCOM1': 152,\n",
       " 'TELCOM2': 153,\n",
       " 'TEXAS': 154,\n",
       " 'TIC0': 155,\n",
       " 'TIC1': 156,\n",
       " 'TIC2': 157,\n",
       " 'TIC5': 158,\n",
       " 'TRACK0': 159,\n",
       " 'TRACK1': 160,\n",
       " 'TRACK4': 161,\n",
       " 'TRACK5': 162,\n",
       " 'TRACK6': 163,\n",
       " 'UNK': 164,\n",
       " 'VANGUARD': 165,\n",
       " 'VOICE': 166}"
      ]
     },
     "execution_count": 57,
     "metadata": {},
     "output_type": "execute_result"
    }
   ],
   "source": [
    "label_dict."
   ]
  },
  {
   "cell_type": "code",
   "execution_count": 177,
   "metadata": {},
   "outputs": [],
   "source": [
    "df = pd.DataFrame(train_167['Train_167'])\n",
    "\n",
    "df1 = df.sort_values(by=['speaker_id'])\n",
    "\n",
    "spk_train = []\n",
    "\n",
    "for i in df['speaker_id']:\n",
    "    if i in label_dict.keys():\n",
    "        spk_train.append(i)\n"
   ]
  },
  {
   "cell_type": "code",
   "execution_count": 178,
   "metadata": {},
   "outputs": [],
   "source": [
    "unique, counts = np.unique(spk_train, return_counts=True)\n",
    "dict1 = dict(zip(unique, counts))"
   ]
  },
  {
   "cell_type": "code",
   "execution_count": 183,
   "metadata": {},
   "outputs": [],
   "source": [
    "dict_new = dict(sorted(dict1.items(), key=lambda item:item[1]))\n"
   ]
  },
  {
   "cell_type": "code",
   "execution_count": 227,
   "metadata": {},
   "outputs": [
    {
     "data": {
      "text/plain": [
       "2282      AFD1\n",
       "25358     AFD1\n",
       "13695     AFD1\n",
       "16309     AFD1\n",
       "18725     AFD1\n",
       "         ...  \n",
       "19914    VOICE\n",
       "32979    VOICE\n",
       "754      VOICE\n",
       "28953    VOICE\n",
       "31787    VOICE\n",
       "Name: speaker_id, Length: 33345, dtype: object"
      ]
     },
     "execution_count": 227,
     "metadata": {},
     "output_type": "execute_result"
    }
   ],
   "source": [
    "dict_50 = []\n",
    "for i in dict_new.items():\n",
    "    if i[1]<50:\n",
    "        dict_50.append(i[0])\n",
    "\n",
    "df1['speaker_id']"
   ]
  },
  {
   "cell_type": "code",
   "execution_count": 243,
   "metadata": {},
   "outputs": [],
   "source": [
    "df_50 = df[df['speaker_id'].isin(dict_50)]\n",
    "\n",
    "df_50_dict = pd.DataFrame.to_dict(df_50,'records')"
   ]
  },
  {
   "cell_type": "code",
   "execution_count": 260,
   "metadata": {},
   "outputs": [],
   "source": [
    "import nlpaug.augmenter.audio as naa\n",
    "import librosa\n",
    "import librosa.display as librosa_display\n",
    "import matplotlib.pyplot as plt"
   ]
  },
  {
   "cell_type": "code",
   "execution_count": 258,
   "metadata": {},
   "outputs": [],
   "source": [
    "data = pb.io.load_audio(df_50_dict[0]['audio_path']['observation'])"
   ]
  },
  {
   "cell_type": "code",
   "execution_count": 280,
   "metadata": {},
   "outputs": [
    {
     "data": {
      "image/png": "[encoded data removed]",
      "text/plain": [
       "<Figure size 432x288 with 1 Axes>"
      ]
     },
     "metadata": {
      "needs_background": "light"
     },
     "output_type": "display_data"
    }
   ],
   "source": [
    "sr=8000\n",
    "\n",
    "aug = naa.MaskAug(sampling_rate=sr, mask_with_noise=False)\n",
    "augmented_data = aug.augment(data)\n",
    "\n",
    "librosa_display.waveplot(data, sr=sr, alpha=0.25)\n",
    "librosa_display.waveplot(augmented_data, sr=sr, color='r', alpha=0.5)\n",
    "\n",
    "plt.tight_layout()\n",
    "plt.show()"
   ]
  },
  {
   "cell_type": "code",
   "execution_count": 279,
   "metadata": {},
   "outputs": [
    {
     "data": {
      "text/plain": [
       "array([ True,  True,  True, ...,  True,  True,  True])"
      ]
     },
     "execution_count": 279,
     "metadata": {},
     "output_type": "execute_result"
    }
   ],
   "source": [
    " augmented_data == data"
   ]
  },
  {
   "cell_type": "code",
   "execution_count": 247,
   "metadata": {},
   "outputs": [],
   "source": [
    "def balance_datasets(dataset, balance_factor):\n",
    "    \"\"\"\n",
    "    examples in each event of the dataset is repeated to surpass balance_factor * event with the max number of examples\n",
    "    input dataset must be of type lazy_dataset\n",
    "    returns both the original dataset and the extended one(repeated one)\n",
    "    \"\"\"\n",
    "    \n",
    "    data1 = lazy_dataset.new(dataset)\n",
    "    new_dataset_dict_orig = copy.deepcopy(data1)\n",
    "    for key in new_dataset_dict_orig:\n",
    "        new_dataset_dict_orig[key]['example_id'] = key\n",
    "        new_dataset_dict_orig[key]['mode'] = 'orig'\n",
    "\n",
    "    ds_orig = lazy_dataset.new(new_dataset_dict_orig)\n",
    "    #ds_orig = dataset\n",
    "\n",
    "    data = {(data1[key])['speaker_id'][0] : 0 for key in data1.keys()}\n",
    "    \"\"\"\n",
    "    Calculate how many examples are there in each event\n",
    "    \"\"\"\n",
    "    for key in data1:\n",
    "        event = data1[key]['speaker_id'][0]\n",
    "        data[event] = data[event] + 1\n",
    "\n",
    "    maximum = (max(data.items(), key=operator.itemgetter(1))[1])\n",
    "    \"\"\"\n",
    "    Calculate how many times examples in each event have to repeated\n",
    "    \"\"\"\n",
    "    repetitions = {(key if value != maximum else key): (\n",
    "        (int)(balance_factor * (maximum / value)) if (int)(balance_factor * (maximum / value)) != 0 else 1) for\n",
    "        key, value in data.items()}\n",
    "    \"\"\"\n",
    "    Repeat the examples and concatenate everything in ds(a new dataset)\n",
    "    \"\"\"\n",
    "    new_dataset_ls = []\n",
    "    for i in repetitions:\n",
    "        new_dataset_dict = {}\n",
    "        # new_dataset_dict = {key: value for key, value in data1.items() if value['events'][0] == sound_events}\n",
    "        for key in data1:\n",
    "            if data1[key]['speaker_id'][0] == i:\n",
    "                new_dataset_dict.update({key: data1[key]})\n",
    "                new_dataset_dict[key]['mode'] = 'ext'\n",
    "        new_dataset_ls.extend(repetitions[i] * [lazy_dataset.new(new_dataset_dict)])\n",
    "    ds = lazy_dataset.concatenate(*new_dataset_ls)\n",
    "\n",
    "    return ds, ds_orig, repetitions"
   ]
  },
  {
   "cell_type": "code",
   "execution_count": 251,
   "metadata": {},
   "outputs": [
    {
     "ename": "NotImplementedError",
     "evalue": "__getitem__ is not implemented for <class 'lazy_dataset.core.MapDataset'>[{'audio_path': {'observation': '/net/db/fearless/Audio/Segments/ASR_track2/Train/FS02_ASR_track2_train_00002.wav'}, 'dataset': 'Train_segment', 'example_id': 'FS02_train_00002', 'num_samples': 16720, 'speaker_id': 'CONTROL2', 'transcription': 'OKAY WERE CLEAN UH ON [unk]'}],\nwhere type({'audio_path': {'observation': '/net/db/fearless/Audio/Segments/ASR_track2/Train/FS02_ASR_track2_train_00002.wav'}, 'dataset': 'Train_segment', 'example_id': 'FS02_train_00002', 'num_samples': 16720, 'speaker_id': 'CONTROL2', 'transcription': 'OKAY WERE CLEAN UH ON [unk]'}) == <class 'dict'>\nself:\n  ListDataset(len=1422)\nMapDataset(_pickle.loads)",
     "output_type": "error",
     "traceback": [
      "\u001b[0;31m---------------------------------------------------------------------------\u001b[0m",
      "\u001b[0;31mNotImplementedError\u001b[0m                       Traceback (most recent call last)",
      "\u001b[0;32m<ipython-input-251-1ab7473b855b>\u001b[0m in \u001b[0;36m<module>\u001b[0;34m\u001b[0m\n\u001b[1;32m      1\u001b[0m \u001b[0;32mimport\u001b[0m \u001b[0mcopy\u001b[0m\u001b[0;34m\u001b[0m\u001b[0;34m\u001b[0m\u001b[0m\n\u001b[1;32m      2\u001b[0m \u001b[0;32mimport\u001b[0m \u001b[0moperator\u001b[0m\u001b[0;34m\u001b[0m\u001b[0;34m\u001b[0m\u001b[0m\n\u001b[0;32m----> 3\u001b[0;31m \u001b[0mnew\u001b[0m \u001b[0;34m=\u001b[0m \u001b[0mbalance_datasets\u001b[0m\u001b[0;34m(\u001b[0m\u001b[0mdf_50_dict\u001b[0m\u001b[0;34m,\u001b[0m\u001b[0;36m0.1\u001b[0m\u001b[0;34m)\u001b[0m\u001b[0;34m\u001b[0m\u001b[0;34m\u001b[0m\u001b[0m\n\u001b[0m",
      "\u001b[0;32m<ipython-input-247-64413d2eea36>\u001b[0m in \u001b[0;36mbalance_datasets\u001b[0;34m(dataset, balance_factor)\u001b[0m\n\u001b[1;32m      9\u001b[0m     \u001b[0mnew_dataset_dict_orig\u001b[0m \u001b[0;34m=\u001b[0m \u001b[0mcopy\u001b[0m\u001b[0;34m.\u001b[0m\u001b[0mdeepcopy\u001b[0m\u001b[0;34m(\u001b[0m\u001b[0mdata1\u001b[0m\u001b[0;34m)\u001b[0m\u001b[0;34m\u001b[0m\u001b[0;34m\u001b[0m\u001b[0m\n\u001b[1;32m     10\u001b[0m     \u001b[0;32mfor\u001b[0m \u001b[0mkey\u001b[0m \u001b[0;32min\u001b[0m \u001b[0mnew_dataset_dict_orig\u001b[0m\u001b[0;34m:\u001b[0m\u001b[0;34m\u001b[0m\u001b[0;34m\u001b[0m\u001b[0m\n\u001b[0;32m---> 11\u001b[0;31m         \u001b[0mnew_dataset_dict_orig\u001b[0m\u001b[0;34m[\u001b[0m\u001b[0mkey\u001b[0m\u001b[0;34m]\u001b[0m\u001b[0;34m[\u001b[0m\u001b[0;34m'example_id'\u001b[0m\u001b[0;34m]\u001b[0m \u001b[0;34m=\u001b[0m \u001b[0mkey\u001b[0m\u001b[0;34m\u001b[0m\u001b[0;34m\u001b[0m\u001b[0m\n\u001b[0m\u001b[1;32m     12\u001b[0m         \u001b[0mnew_dataset_dict_orig\u001b[0m\u001b[0;34m[\u001b[0m\u001b[0mkey\u001b[0m\u001b[0;34m]\u001b[0m\u001b[0;34m[\u001b[0m\u001b[0;34m'mode'\u001b[0m\u001b[0;34m]\u001b[0m \u001b[0;34m=\u001b[0m \u001b[0;34m'orig'\u001b[0m\u001b[0;34m\u001b[0m\u001b[0;34m\u001b[0m\u001b[0m\n\u001b[1;32m     13\u001b[0m \u001b[0;34m\u001b[0m\u001b[0m\n",
      "\u001b[0;32m/net/software/python/2020_06/anaconda/lib/python3.7/site-packages/lazy_dataset/core.py\u001b[0m in \u001b[0;36m__getitem__\u001b[0;34m(self, item)\u001b[0m\n\u001b[1;32m   1283\u001b[0m             \u001b[0;32mreturn\u001b[0m \u001b[0mself\u001b[0m\u001b[0;34m.\u001b[0m\u001b[0mmap_function\u001b[0m\u001b[0;34m(\u001b[0m\u001b[0mself\u001b[0m\u001b[0;34m.\u001b[0m\u001b[0minput_dataset\u001b[0m\u001b[0;34m[\u001b[0m\u001b[0mitem\u001b[0m\u001b[0;34m]\u001b[0m\u001b[0;34m)\u001b[0m\u001b[0;34m\u001b[0m\u001b[0;34m\u001b[0m\u001b[0m\n\u001b[1;32m   1284\u001b[0m         \u001b[0;32melse\u001b[0m\u001b[0;34m:\u001b[0m\u001b[0;34m\u001b[0m\u001b[0;34m\u001b[0m\u001b[0m\n\u001b[0;32m-> 1285\u001b[0;31m             \u001b[0;32mreturn\u001b[0m \u001b[0msuper\u001b[0m\u001b[0;34m(\u001b[0m\u001b[0;34m)\u001b[0m\u001b[0;34m.\u001b[0m\u001b[0m__getitem__\u001b[0m\u001b[0;34m(\u001b[0m\u001b[0mitem\u001b[0m\u001b[0;34m)\u001b[0m\u001b[0;34m\u001b[0m\u001b[0;34m\u001b[0m\u001b[0m\n\u001b[0m\u001b[1;32m   1286\u001b[0m \u001b[0;34m\u001b[0m\u001b[0m\n\u001b[1;32m   1287\u001b[0m \u001b[0;34m\u001b[0m\u001b[0m\n",
      "\u001b[0;32m/net/software/python/2020_06/anaconda/lib/python3.7/site-packages/lazy_dataset/core.py\u001b[0m in \u001b[0;36m__getitem__\u001b[0;34m(self, item)\u001b[0m\n\u001b[1;32m    319\u001b[0m             )\n\u001b[1;32m    320\u001b[0m         raise NotImplementedError(\n\u001b[0;32m--> 321\u001b[0;31m             \u001b[0;34mf'__getitem__ is not implemented for {self.__class__}[{item!r}],\\n'\u001b[0m\u001b[0;34m\u001b[0m\u001b[0;34m\u001b[0m\u001b[0m\n\u001b[0m\u001b[1;32m    322\u001b[0m             \u001b[0;34mf'where type({item!r}) == {type(item)}\\n'\u001b[0m\u001b[0;34m\u001b[0m\u001b[0;34m\u001b[0m\u001b[0m\n\u001b[1;32m    323\u001b[0m             \u001b[0;34mf'self:\\n{self!r}'\u001b[0m\u001b[0;34m\u001b[0m\u001b[0;34m\u001b[0m\u001b[0m\n",
      "\u001b[0;31mNotImplementedError\u001b[0m: __getitem__ is not implemented for <class 'lazy_dataset.core.MapDataset'>[{'audio_path': {'observation': '/net/db/fearless/Audio/Segments/ASR_track2/Train/FS02_ASR_track2_train_00002.wav'}, 'dataset': 'Train_segment', 'example_id': 'FS02_train_00002', 'num_samples': 16720, 'speaker_id': 'CONTROL2', 'transcription': 'OKAY WERE CLEAN UH ON [unk]'}],\nwhere type({'audio_path': {'observation': '/net/db/fearless/Audio/Segments/ASR_track2/Train/FS02_ASR_track2_train_00002.wav'}, 'dataset': 'Train_segment', 'example_id': 'FS02_train_00002', 'num_samples': 16720, 'speaker_id': 'CONTROL2', 'transcription': 'OKAY WERE CLEAN UH ON [unk]'}) == <class 'dict'>\nself:\n  ListDataset(len=1422)\nMapDataset(_pickle.loads)"
     ]
    }
   ],
   "source": [
    "import copy\n",
    "import operator\n",
    "new = balance_datasets(df_50_dict,0.1)"
   ]
  },
  {
   "cell_type": "code",
   "execution_count": 172,
   "metadata": {},
   "outputs": [
    {
     "data": {
      "text/plain": [
       "(69797, 35473)"
      ]
     },
     "execution_count": 172,
     "metadata": {},
     "output_type": "execute_result"
    }
   ],
   "source": [
    "len(new[0]),len(new[1])"
   ]
  },
  {
   "cell_type": "code",
   "execution_count": 173,
   "metadata": {},
   "outputs": [
    {
     "data": {
      "text/plain": [
       "{'N': 1,\n",
       " 'C': 1,\n",
       " 'G': 1,\n",
       " 'U': 3,\n",
       " 'P': 3,\n",
       " 'B': 2,\n",
       " 'F': 1,\n",
       " 'R': 3,\n",
       " 'I': 21,\n",
       " 'L': 110,\n",
       " 'S': 5,\n",
       " 'E': 1,\n",
       " 'H': 3,\n",
       " 'T': 1,\n",
       " 'M': 1,\n",
       " 'A': 4,\n",
       " 'O': 24,\n",
       " 'V': 67,\n",
       " 'J': 81,\n",
       " 'D': 53}"
      ]
     },
     "execution_count": 173,
     "metadata": {},
     "output_type": "execute_result"
    }
   ],
   "source": [
    "new[2]"
   ]
  },
  {
   "cell_type": "code",
   "execution_count": 166,
   "metadata": {},
   "outputs": [],
   "source": [
    "df = pd.DataFrame(new[0])\n",
    "\n",
    "df1 = df.sort_values(by=['speaker_id'])\n",
    "\n",
    "spk_train = []\n",
    "\n",
    "for i in df1['speaker_id']:\n",
    "    if i in label_dict.keys():\n",
    "        spk_train.append(i)\n"
   ]
  },
  {
   "cell_type": "code",
   "execution_count": 169,
   "metadata": {},
   "outputs": [
    {
     "ename": "TypeError",
     "evalue": "Object of type ConcatenateDataset is not JSON serializable",
     "output_type": "error",
     "traceback": [
      "\u001b[0;31m---------------------------------------------------------------------------\u001b[0m",
      "\u001b[0;31mTypeError\u001b[0m                                 Traceback (most recent call last)",
      "\u001b[0;32m<ipython-input-169-88ad03c0d382>\u001b[0m in \u001b[0;36m<module>\u001b[0;34m\u001b[0m\n\u001b[0;32m----> 1\u001b[0;31m \u001b[0mpb\u001b[0m\u001b[0;34m.\u001b[0m\u001b[0mio\u001b[0m\u001b[0;34m.\u001b[0m\u001b[0mdump_json\u001b[0m\u001b[0;34m(\u001b[0m\u001b[0mnew\u001b[0m\u001b[0;34m[\u001b[0m\u001b[0;36m0\u001b[0m\u001b[0;34m]\u001b[0m\u001b[0;34m,\u001b[0m\u001b[0mpath\u001b[0m\u001b[0;34m=\u001b[0m\u001b[0;34m'train_167_new.json'\u001b[0m\u001b[0;34m)\u001b[0m\u001b[0;34m\u001b[0m\u001b[0;34m\u001b[0m\u001b[0m\n\u001b[0m",
      "\u001b[0;32m/net/home/dheerajpr/my_project/paderbox/paderbox/io/json_module.py\u001b[0m in \u001b[0;36mdump_json\u001b[0;34m(obj, path, indent, create_path, sort_keys, **kwargs)\u001b[0m\n\u001b[1;32m     93\u001b[0m         \u001b[0;32mwith\u001b[0m \u001b[0mpath\u001b[0m\u001b[0;34m.\u001b[0m\u001b[0mopen\u001b[0m\u001b[0;34m(\u001b[0m\u001b[0;34m'w'\u001b[0m\u001b[0;34m)\u001b[0m \u001b[0;32mas\u001b[0m \u001b[0mf\u001b[0m\u001b[0;34m:\u001b[0m\u001b[0;34m\u001b[0m\u001b[0;34m\u001b[0m\u001b[0m\n\u001b[1;32m     94\u001b[0m             json.dump(obj, f, cls=Encoder, indent=indent,\n\u001b[0;32m---> 95\u001b[0;31m                       sort_keys=sort_keys, **kwargs)\n\u001b[0m\u001b[1;32m     96\u001b[0m     \u001b[0;32melse\u001b[0m\u001b[0;34m:\u001b[0m\u001b[0;34m\u001b[0m\u001b[0;34m\u001b[0m\u001b[0m\n\u001b[1;32m     97\u001b[0m         \u001b[0;32mraise\u001b[0m \u001b[0mTypeError\u001b[0m\u001b[0;34m(\u001b[0m\u001b[0mpath\u001b[0m\u001b[0;34m)\u001b[0m\u001b[0;34m\u001b[0m\u001b[0;34m\u001b[0m\u001b[0m\n",
      "\u001b[0;32m/net/software/python/2020_06/anaconda/lib/python3.7/json/__init__.py\u001b[0m in \u001b[0;36mdump\u001b[0;34m(obj, fp, skipkeys, ensure_ascii, check_circular, allow_nan, cls, indent, separators, default, sort_keys, **kw)\u001b[0m\n\u001b[1;32m    177\u001b[0m     \u001b[0;31m# could accelerate with writelines in some versions of Python, at\u001b[0m\u001b[0;34m\u001b[0m\u001b[0;34m\u001b[0m\u001b[0;34m\u001b[0m\u001b[0m\n\u001b[1;32m    178\u001b[0m     \u001b[0;31m# a debuggability cost\u001b[0m\u001b[0;34m\u001b[0m\u001b[0;34m\u001b[0m\u001b[0;34m\u001b[0m\u001b[0m\n\u001b[0;32m--> 179\u001b[0;31m     \u001b[0;32mfor\u001b[0m \u001b[0mchunk\u001b[0m \u001b[0;32min\u001b[0m \u001b[0miterable\u001b[0m\u001b[0;34m:\u001b[0m\u001b[0;34m\u001b[0m\u001b[0;34m\u001b[0m\u001b[0m\n\u001b[0m\u001b[1;32m    180\u001b[0m         \u001b[0mfp\u001b[0m\u001b[0;34m.\u001b[0m\u001b[0mwrite\u001b[0m\u001b[0;34m(\u001b[0m\u001b[0mchunk\u001b[0m\u001b[0;34m)\u001b[0m\u001b[0;34m\u001b[0m\u001b[0;34m\u001b[0m\u001b[0m\n\u001b[1;32m    181\u001b[0m \u001b[0;34m\u001b[0m\u001b[0m\n",
      "\u001b[0;32m/net/software/python/2020_06/anaconda/lib/python3.7/json/encoder.py\u001b[0m in \u001b[0;36m_iterencode\u001b[0;34m(o, _current_indent_level)\u001b[0m\n\u001b[1;32m    436\u001b[0m                     \u001b[0;32mraise\u001b[0m \u001b[0mValueError\u001b[0m\u001b[0;34m(\u001b[0m\u001b[0;34m\"Circular reference detected\"\u001b[0m\u001b[0;34m)\u001b[0m\u001b[0;34m\u001b[0m\u001b[0;34m\u001b[0m\u001b[0m\n\u001b[1;32m    437\u001b[0m                 \u001b[0mmarkers\u001b[0m\u001b[0;34m[\u001b[0m\u001b[0mmarkerid\u001b[0m\u001b[0;34m]\u001b[0m \u001b[0;34m=\u001b[0m \u001b[0mo\u001b[0m\u001b[0;34m\u001b[0m\u001b[0;34m\u001b[0m\u001b[0m\n\u001b[0;32m--> 438\u001b[0;31m             \u001b[0mo\u001b[0m \u001b[0;34m=\u001b[0m \u001b[0m_default\u001b[0m\u001b[0;34m(\u001b[0m\u001b[0mo\u001b[0m\u001b[0;34m)\u001b[0m\u001b[0;34m\u001b[0m\u001b[0;34m\u001b[0m\u001b[0m\n\u001b[0m\u001b[1;32m    439\u001b[0m             \u001b[0;32myield\u001b[0m \u001b[0;32mfrom\u001b[0m \u001b[0m_iterencode\u001b[0m\u001b[0;34m(\u001b[0m\u001b[0mo\u001b[0m\u001b[0;34m,\u001b[0m \u001b[0m_current_indent_level\u001b[0m\u001b[0;34m)\u001b[0m\u001b[0;34m\u001b[0m\u001b[0;34m\u001b[0m\u001b[0m\n\u001b[1;32m    440\u001b[0m             \u001b[0;32mif\u001b[0m \u001b[0mmarkers\u001b[0m \u001b[0;32mis\u001b[0m \u001b[0;32mnot\u001b[0m \u001b[0;32mNone\u001b[0m\u001b[0;34m:\u001b[0m\u001b[0;34m\u001b[0m\u001b[0;34m\u001b[0m\u001b[0m\n",
      "\u001b[0;32m/net/home/dheerajpr/my_project/paderbox/paderbox/io/json_module.py\u001b[0m in \u001b[0;36mdefault\u001b[0;34m(self, obj)\u001b[0m\n\u001b[1;32m     25\u001b[0m             \u001b[0;32mreturn\u001b[0m \u001b[0mstr\u001b[0m\u001b[0;34m(\u001b[0m\u001b[0mobj\u001b[0m\u001b[0;34m)\u001b[0m\u001b[0;34m\u001b[0m\u001b[0;34m\u001b[0m\u001b[0m\n\u001b[1;32m     26\u001b[0m         \u001b[0;32melse\u001b[0m\u001b[0;34m:\u001b[0m\u001b[0;34m\u001b[0m\u001b[0;34m\u001b[0m\u001b[0m\n\u001b[0;32m---> 27\u001b[0;31m             \u001b[0;32mreturn\u001b[0m \u001b[0msuper\u001b[0m\u001b[0;34m(\u001b[0m\u001b[0;34m)\u001b[0m\u001b[0;34m.\u001b[0m\u001b[0mdefault\u001b[0m\u001b[0;34m(\u001b[0m\u001b[0mobj\u001b[0m\u001b[0;34m)\u001b[0m\u001b[0;34m\u001b[0m\u001b[0;34m\u001b[0m\u001b[0m\n\u001b[0m\u001b[1;32m     28\u001b[0m \u001b[0;34m\u001b[0m\u001b[0m\n\u001b[1;32m     29\u001b[0m \u001b[0;34m\u001b[0m\u001b[0m\n",
      "\u001b[0;32m/net/software/python/2020_06/anaconda/lib/python3.7/json/encoder.py\u001b[0m in \u001b[0;36mdefault\u001b[0;34m(self, o)\u001b[0m\n\u001b[1;32m    177\u001b[0m \u001b[0;34m\u001b[0m\u001b[0m\n\u001b[1;32m    178\u001b[0m         \"\"\"\n\u001b[0;32m--> 179\u001b[0;31m         raise TypeError(f'Object of type {o.__class__.__name__} '\n\u001b[0m\u001b[1;32m    180\u001b[0m                         f'is not JSON serializable')\n\u001b[1;32m    181\u001b[0m \u001b[0;34m\u001b[0m\u001b[0m\n",
      "\u001b[0;31mTypeError\u001b[0m: Object of type ConcatenateDataset is not JSON serializable"
     ]
    }
   ],
   "source": [
    "pb.io.dump_json(new[0],path='train_167_new.json')"
   ]
  },
  {
   "cell_type": "code",
   "execution_count": 167,
   "metadata": {},
   "outputs": [
    {
     "data": {
      "text/plain": [
       "{'CALIFORNIA': 1,\n",
       " 'COMPUTERTM': 1,\n",
       " 'GBM': 1,\n",
       " 'GUAYMAS': 1,\n",
       " 'MIKE': 1,\n",
       " 'GUAM': 2,\n",
       " 'COMMANAGER3': 3,\n",
       " 'FORTYEIGHT': 3,\n",
       " 'GMIL': 3,\n",
       " 'HUNTSVILLE': 3,\n",
       " 'COMPUTERMNO': 4,\n",
       " 'CPSS': 4,\n",
       " 'EPE': 4,\n",
       " 'NETWORK9': 4,\n",
       " 'SPS': 5,\n",
       " 'MSTC2': 6,\n",
       " 'MEPS': 7,\n",
       " 'NIXON': 10,\n",
       " 'CTSC': 12,\n",
       " 'FEMALE2': 12,\n",
       " 'GOLDSTONEVIDEO': 13,\n",
       " 'GCC': 14,\n",
       " 'SEQUENCER': 15,\n",
       " 'NETWORK4': 16,\n",
       " 'COMMCONTROL4': 17,\n",
       " 'TEXAS': 17,\n",
       " 'SCS': 20,\n",
       " 'MCCFILEspk6': 22,\n",
       " 'CLTC': 23,\n",
       " 'COMM': 23,\n",
       " 'CONTROL2': 23,\n",
       " 'RSO': 24,\n",
       " 'ALDS': 28,\n",
       " 'MCCFILEspk4': 28,\n",
       " 'TANANARIVE': 28,\n",
       " 'CONSUMABLES': 29,\n",
       " 'TIC5': 29,\n",
       " 'TRACK1': 30,\n",
       " 'GODDARDOPS': 31,\n",
       " 'CCATSCOMMAND': 32,\n",
       " 'CPSPK': 32,\n",
       " 'GOLDSTONECOMMTECH': 33,\n",
       " 'ANTIGUA': 36,\n",
       " 'EECOM5': 36,\n",
       " 'PROCEDURES3': 36,\n",
       " 'TRACK6': 37,\n",
       " 'GODDARDVOICE': 43,\n",
       " 'STONY': 45,\n",
       " 'COMMCONTROL2': 46,\n",
       " 'MCCFILEspk3': 46,\n",
       " 'BERMUDA': 48,\n",
       " 'MECS': 50,\n",
       " 'SPAN3': 50,\n",
       " 'MCCFILEspk5': 52,\n",
       " 'PLSSCOMM': 54,\n",
       " 'MLSC': 55,\n",
       " 'FAO3': 56,\n",
       " 'COMMCONTROL1': 59,\n",
       " 'ECS2': 60,\n",
       " 'EVA': 62,\n",
       " 'RTC2': 63,\n",
       " 'CANARY': 68,\n",
       " 'AGC': 72,\n",
       " 'ARIA': 72,\n",
       " 'MADRIDCOMMTECH': 72,\n",
       " 'FAO2': 74,\n",
       " 'SRO2': 75,\n",
       " 'AFD3': 76,\n",
       " 'ALSEP': 76,\n",
       " 'TIC2': 76,\n",
       " 'GUIDANCE2': 78,\n",
       " 'HAWAII': 78,\n",
       " 'CARNARVON': 83,\n",
       " 'MILA': 89,\n",
       " 'EXPERIMENTS': 90,\n",
       " 'ONP': 96,\n",
       " 'CVTS': 98,\n",
       " 'MCCFILEspk2': 99,\n",
       " 'RECOVERY': 99,\n",
       " 'DATACORE': 106,\n",
       " 'MERCURY': 111,\n",
       " 'CCATSTELEMETRY': 121,\n",
       " 'SELECT': 125,\n",
       " 'REDSTONE': 129,\n",
       " 'SYDNEYVIDEO': 130,\n",
       " 'EPS3': 132,\n",
       " 'TIC0': 135,\n",
       " 'ECS1': 138,\n",
       " 'MCCFILEspk1': 140,\n",
       " 'RTC4': 141,\n",
       " 'GNN1': 143,\n",
       " 'TRACK5': 144,\n",
       " 'COMMANAGER1': 146,\n",
       " 'MCCFILEspk7': 149,\n",
       " 'SCHEDULING': 150,\n",
       " 'ASCENSIONCOMMTECH': 152,\n",
       " 'EPS2': 155,\n",
       " 'COMMCONTROL3': 156,\n",
       " 'NETWORK7': 167,\n",
       " 'PLSS1': 168,\n",
       " 'TRACK0': 171,\n",
       " 'FAO1': 173,\n",
       " 'TELCOM2': 173,\n",
       " 'NETWORK6': 190,\n",
       " 'LC': 220,\n",
       " 'SURGEON2': 225,\n",
       " 'RTC3': 228,\n",
       " 'GNN2': 235,\n",
       " 'FD3': 250,\n",
       " 'SURGEON1': 250,\n",
       " 'DEPUTYLOM': 265,\n",
       " 'EMU': 269,\n",
       " 'INCO3': 273,\n",
       " 'HOUSTONCOMMTECH3': 282,\n",
       " 'TRACK4': 285,\n",
       " 'RTC1': 294,\n",
       " 'FD2': 297,\n",
       " 'AFD1': 324,\n",
       " 'GUIDANCE3': 325,\n",
       " 'LMPROPULSION': 330,\n",
       " 'BOOSTER1': 380,\n",
       " 'GOLDSTONE': 386,\n",
       " 'GUIDANCE1': 392,\n",
       " 'MSTC1': 408,\n",
       " 'PROPULSION1': 423,\n",
       " 'EECOM2': 433,\n",
       " 'CONTROL1': 437,\n",
       " 'HOUSTONTV1': 441,\n",
       " 'FIDO1': 443,\n",
       " 'NETWORK5': 452,\n",
       " 'TIC1': 465,\n",
       " 'GNC1': 486,\n",
       " 'SPAN1': 490,\n",
       " 'FIDO3': 492,\n",
       " 'INCO4': 504,\n",
       " 'HONEYSUCKLE': 507,\n",
       " 'GNC4': 527,\n",
       " 'COLLINS': 541,\n",
       " 'MADRID': 557,\n",
       " 'TELCOM1': 561,\n",
       " 'NETWORK2': 571,\n",
       " 'EECOM1': 593,\n",
       " 'PROCEDURES1': 666,\n",
       " 'VANGUARD': 670,\n",
       " 'PROPULSION3': 687,\n",
       " 'EECOM3': 688,\n",
       " 'SPAN5': 700,\n",
       " 'HOUSTONCOMMTECH1': 816,\n",
       " 'RETRO3': 855,\n",
       " 'NETWORK3': 879,\n",
       " 'AFD5': 908,\n",
       " 'RETRO1': 927,\n",
       " 'NETWORK1': 969,\n",
       " 'GUIDANCE4': 1113,\n",
       " 'HOUSTONCOMMTECH2': 1128,\n",
       " 'ASCENSION': 1160,\n",
       " 'NEIL': 1172,\n",
       " 'CAPCOM2': 1323,\n",
       " 'CAPCOM1': 1407,\n",
       " 'INCO1': 1995,\n",
       " 'DISPLAY': 2014,\n",
       " 'LOADCONTROL': 2640,\n",
       " 'VOICE': 2747,\n",
       " 'UNK': 2922,\n",
       " 'BUZZ': 2998,\n",
       " 'OPS': 3240,\n",
       " 'FD1': 4949}"
      ]
     },
     "execution_count": 167,
     "metadata": {},
     "output_type": "execute_result"
    }
   ],
   "source": [
    "unique, counts = np.unique(spk_train, return_counts=True)\n",
    "dict1 = dict(zip(unique, counts))\n",
    "dict_new = dict(sorted(dict1.items(), key=lambda item:item[1]))\n",
    "dict_new"
   ]
  }
 ],
 "metadata": {
  "kernelspec": {
   "display_name": "project_2020",
   "language": "python",
   "name": "project_2020"
  },
  "language_info": {
   "codemirror_mode": {
    "name": "ipython",
    "version": 3
   },
   "file_extension": ".py",
   "mimetype": "text/x-python",
   "name": "python",
   "nbconvert_exporter": "python",
   "pygments_lexer": "ipython3",
   "version": "3.7.6"
  }
 },
 "nbformat": 4,
 "nbformat_minor": 4
}

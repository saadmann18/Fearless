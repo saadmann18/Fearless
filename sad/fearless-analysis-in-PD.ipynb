{
 "cells": [
  {
   "cell_type": "code",
   "execution_count": 1,
   "metadata": {},
   "outputs": [],
   "source": [
    "%matplotlib inline\n",
    "%reload_ext autoreload\n",
    "%autoreload 2"
   ]
  },
  {
   "cell_type": "code",
   "execution_count": 2,
   "metadata": {},
   "outputs": [],
   "source": [
    "import itertools\n",
    "\n",
    "import numpy as np\n",
    "import seaborn as sns\n",
    "import pandas as pd\n",
    "\n",
    "from paderbox.visualization import plot, context_manager\n",
    "from padercontrib.database.keys import *\n",
    "from padercontrib.database.iterator import AudioReader\n",
    "from paderbox.transform import stft\n",
    "from paderbox.array import interval\n",
    "from padercontrib.visualization.database_to_html import display_database_html\n",
    "\n",
    "from padercontrib.database.fearless import Fearless"
   ]
  },
  {
   "cell_type": "code",
   "execution_count": 3,
   "metadata": {},
   "outputs": [
    {
     "data": {
      "text/plain": [
       "Fearless(PosixPath('/net/vol/jenkins/jsons/fearless.json'))"
      ]
     },
     "execution_count": 3,
     "metadata": {},
     "output_type": "execute_result"
    }
   ],
   "source": [
    "db = Fearless()\n",
    "db"
   ]
  },
  {
   "cell_type": "code",
   "execution_count": 4,
   "metadata": {},
   "outputs": [
    {
     "data": {
      "text/plain": [
       "('Dev_SID',\n",
       " 'Dev_segment',\n",
       " 'Dev_stream',\n",
       " 'Eval_SID',\n",
       " 'Eval_segment',\n",
       " 'Eval_stream',\n",
       " 'Train_SID',\n",
       " 'Train_segment',\n",
       " 'Train_stream')"
      ]
     },
     "execution_count": 4,
     "metadata": {},
     "output_type": "execute_result"
    }
   ],
   "source": [
    "db.dataset_names"
   ]
  },
  {
   "cell_type": "code",
   "execution_count": 5,
   "metadata": {},
   "outputs": [
    {
     "data": {
      "text/plain": [
       "['Dev_segment', 'Eval_segment', 'Train_segment']"
      ]
     },
     "execution_count": 5,
     "metadata": {},
     "output_type": "execute_result"
    }
   ],
   "source": [
    "datasets = [dataset for dataset in db.dataset_names if \"segment\" in dataset]\n",
    "datasets"
   ]
  },
  {
   "cell_type": "code",
   "execution_count": 6,
   "metadata": {},
   "outputs": [],
   "source": [
    "# Working with ['Dev_segment', 'Eval_segment', 'Train_segment'] Sunday 9.39am"
   ]
  },
  {
   "cell_type": "markdown",
   "metadata": {},
   "source": [
    "### 1. Dev Segment"
   ]
  },
  {
   "cell_type": "code",
   "execution_count": 7,
   "metadata": {},
   "outputs": [],
   "source": [
    "dataset_Dev_seg = db.get_dataset('Dev_segment')\n",
    "df_dev_seg = pd.DataFrame(dataset_Dev_seg)"
   ]
  },
  {
   "cell_type": "code",
   "execution_count": 8,
   "metadata": {},
   "outputs": [
    {
     "data": {
      "text/html": [
       "<div>\n",
       "<style scoped>\n",
       "    .dataframe tbody tr th:only-of-type {\n",
       "        vertical-align: middle;\n",
       "    }\n",
       "\n",
       "    .dataframe tbody tr th {\n",
       "        vertical-align: top;\n",
       "    }\n",
       "\n",
       "    .dataframe thead th {\n",
       "        text-align: right;\n",
       "    }\n",
       "</style>\n",
       "<table border=\"1\" class=\"dataframe\">\n",
       "  <thead>\n",
       "    <tr style=\"text-align: right;\">\n",
       "      <th></th>\n",
       "      <th>num_samples</th>\n",
       "      <th>speaker_id</th>\n",
       "      <th>transcription</th>\n",
       "      <th>example_id</th>\n",
       "      <th>dataset</th>\n",
       "      <th>totalwords</th>\n",
       "      <th>totl_wrd_lngth</th>\n",
       "      <th>time_in_sec</th>\n",
       "    </tr>\n",
       "  </thead>\n",
       "  <tbody>\n",
       "    <tr>\n",
       "      <th>0</th>\n",
       "      <td>37280</td>\n",
       "      <td>GNC1</td>\n",
       "      <td>ROG AND WED LIKE UH ZERO AND FOUR ONES [unk]</td>\n",
       "      <td>FS02_dev_0001</td>\n",
       "      <td>Dev_segment</td>\n",
       "      <td>10</td>\n",
       "      <td>35</td>\n",
       "      <td>4.66</td>\n",
       "    </tr>\n",
       "    <tr>\n",
       "      <th>1</th>\n",
       "      <td>56720</td>\n",
       "      <td>CAPCOM1</td>\n",
       "      <td>COLUMBIA THIS IS HOUSTON DID YOU COPY L O S A ...</td>\n",
       "      <td>FS02_dev_0002</td>\n",
       "      <td>Dev_segment</td>\n",
       "      <td>17</td>\n",
       "      <td>53</td>\n",
       "      <td>7.09</td>\n",
       "    </tr>\n",
       "    <tr>\n",
       "      <th>2</th>\n",
       "      <td>49520</td>\n",
       "      <td>BUZZ</td>\n",
       "      <td>THE UH PANORAMA ILL BE TAKING IS ABOUT THIRTY ...</td>\n",
       "      <td>FS02_dev_0003</td>\n",
       "      <td>Dev_segment</td>\n",
       "      <td>15</td>\n",
       "      <td>58</td>\n",
       "      <td>6.19</td>\n",
       "    </tr>\n",
       "    <tr>\n",
       "      <th>3</th>\n",
       "      <td>54880</td>\n",
       "      <td>GNC4</td>\n",
       "      <td>TEST WOULD BE CYCLING AT ONE COUNT PER FIVE SE...</td>\n",
       "      <td>FS02_dev_0004</td>\n",
       "      <td>Dev_segment</td>\n",
       "      <td>22</td>\n",
       "      <td>107</td>\n",
       "      <td>6.86</td>\n",
       "    </tr>\n",
       "    <tr>\n",
       "      <th>4</th>\n",
       "      <td>47120</td>\n",
       "      <td>RETRO1</td>\n",
       "      <td>DID UH [unk] SOMETHING ABOUT P TWENTY DATA THA...</td>\n",
       "      <td>FS02_dev_0005</td>\n",
       "      <td>Dev_segment</td>\n",
       "      <td>14</td>\n",
       "      <td>56</td>\n",
       "      <td>5.89</td>\n",
       "    </tr>\n",
       "  </tbody>\n",
       "</table>\n",
       "</div>"
      ],
      "text/plain": [
       "   num_samples speaker_id                                      transcription  \\\n",
       "0        37280       GNC1       ROG AND WED LIKE UH ZERO AND FOUR ONES [unk]   \n",
       "1        56720    CAPCOM1  COLUMBIA THIS IS HOUSTON DID YOU COPY L O S A ...   \n",
       "2        49520       BUZZ  THE UH PANORAMA ILL BE TAKING IS ABOUT THIRTY ...   \n",
       "3        54880       GNC4  TEST WOULD BE CYCLING AT ONE COUNT PER FIVE SE...   \n",
       "4        47120     RETRO1  DID UH [unk] SOMETHING ABOUT P TWENTY DATA THA...   \n",
       "\n",
       "      example_id      dataset  totalwords  totl_wrd_lngth  time_in_sec  \n",
       "0  FS02_dev_0001  Dev_segment          10              35         4.66  \n",
       "1  FS02_dev_0002  Dev_segment          17              53         7.09  \n",
       "2  FS02_dev_0003  Dev_segment          15              58         6.19  \n",
       "3  FS02_dev_0004  Dev_segment          22             107         6.86  \n",
       "4  FS02_dev_0005  Dev_segment          14              56         5.89  "
      ]
     },
     "execution_count": 8,
     "metadata": {},
     "output_type": "execute_result"
    }
   ],
   "source": [
    "df_dev_seg = df_dev_seg.drop(columns=['audio_path'])\n",
    "df_dev_seg['totalwords'] = df_dev_seg['transcription'].str.split().str.len()\n",
    "WL = df_dev_seg['transcription']\n",
    "df_dev_seg['totl_wrd_lngth'] = WL.str.split().explode().str.len().sum(level=0)\n",
    "df_dev_seg['time_in_sec'] = df_dev_seg['num_samples']/8000\n",
    "df_dev_seg.head()"
   ]
  },
  {
   "cell_type": "code",
   "execution_count": 9,
   "metadata": {},
   "outputs": [
    {
     "data": {
      "text/plain": [
       "'ROG AND WED LIKE UH ZERO AND FOUR ONES [unk]'"
      ]
     },
     "execution_count": 9,
     "metadata": {},
     "output_type": "execute_result"
    }
   ],
   "source": [
    "df_dev_seg['transcription'][0]"
   ]
  },
  {
   "cell_type": "code",
   "execution_count": null,
   "metadata": {},
   "outputs": [],
   "source": []
  },
  {
   "cell_type": "code",
   "execution_count": 10,
   "metadata": {},
   "outputs": [
    {
     "name": "stdout",
     "output_type": "stream",
     "text": [
      "0            ROG AND WED LIKE UH ZERO AND FOUR ONES [unk]\n",
      "1       COLUMBIA THIS IS HOUSTON DID YOU COPY L O S A ...\n",
      "2       THE UH PANORAMA ILL BE TAKING IS ABOUT THIRTY ...\n",
      "3       TEST WOULD BE CYCLING AT ONE COUNT PER FIVE SE...\n",
      "4       DID UH [unk] SOMETHING ABOUT P TWENTY DATA THA...\n",
      "                              ...                        \n",
      "9198                                              WERE GO\n",
      "9199    ROGER AFTER UH THIS FIRST P FIFTY SEVEN YOU WA...\n",
      "9200                    ROGER ONE TWO THREE THREE TWO ONE\n",
      "9201                               CHARLIE LETS GO TO ONE\n",
      "9202                                   I THINK HE WILL BE\n",
      "Name: transcription, Length: 9203, dtype: object\n"
     ]
    }
   ],
   "source": [
    "print(df_dev_seg['transcription'])"
   ]
  },
  {
   "cell_type": "code",
   "execution_count": 11,
   "metadata": {},
   "outputs": [
    {
     "data": {
      "text/plain": [
       "[{'speaker_id': 'AFD1', 'time_in_sec': 51.92999999999999},\n",
       " {'speaker_id': 'AFD3', 'time_in_sec': 4.27},\n",
       " {'speaker_id': 'AFD5', 'time_in_sec': 26.160000000000004},\n",
       " {'speaker_id': 'AGC', 'time_in_sec': 4.02},\n",
       " {'speaker_id': 'ALDS', 'time_in_sec': 21.339999999999996},\n",
       " {'speaker_id': 'ALSEP', 'time_in_sec': 29.599999999999998},\n",
       " {'speaker_id': 'ANTIGUA', 'time_in_sec': 1.25},\n",
       " {'speaker_id': 'ARIA', 'time_in_sec': 12.79},\n",
       " {'speaker_id': 'ASCENSION', 'time_in_sec': 11.719999999999999},\n",
       " {'speaker_id': 'ASCENSIONCOMMTECH', 'time_in_sec': 43.47999999999999},\n",
       " {'speaker_id': 'BERMUDA', 'time_in_sec': 2.29},\n",
       " {'speaker_id': 'BOB', 'time_in_sec': 21.08},\n",
       " {'speaker_id': 'BOOSTER1', 'time_in_sec': 36.94},\n",
       " {'speaker_id': 'BOOSTER2', 'time_in_sec': 4.9399999999999995},\n",
       " {'speaker_id': 'BTU', 'time_in_sec': 18.35},\n",
       " {'speaker_id': 'BUZZ', 'time_in_sec': 3703.0899999999983},\n",
       " {'speaker_id': 'CALIFORNIA', 'time_in_sec': 2.23},\n",
       " {'speaker_id': 'CANARY', 'time_in_sec': 17.06},\n",
       " {'speaker_id': 'CAPCOM1', 'time_in_sec': 2097.3800000000006},\n",
       " {'speaker_id': 'CAPCOM2', 'time_in_sec': 1072.6599999999999},\n",
       " {'speaker_id': 'CARNARVON', 'time_in_sec': 1.91},\n",
       " {'speaker_id': 'CCATSCOMMAND', 'time_in_sec': 26.199999999999996},\n",
       " {'speaker_id': 'CCATSTELEMETRY', 'time_in_sec': 74.69},\n",
       " {'speaker_id': 'CLTC', 'time_in_sec': 36.269999999999996},\n",
       " {'speaker_id': 'COLLINS', 'time_in_sec': 572.52},\n",
       " {'speaker_id': 'COMM', 'time_in_sec': 10.839999999999998},\n",
       " {'speaker_id': 'COMMANAGER1', 'time_in_sec': 62.59},\n",
       " {'speaker_id': 'COMMANAGER2', 'time_in_sec': 2.7},\n",
       " {'speaker_id': 'COMMANAGER3', 'time_in_sec': 1.34},\n",
       " {'speaker_id': 'COMMCONTROL1', 'time_in_sec': 14.83},\n",
       " {'speaker_id': 'COMMCONTROL2', 'time_in_sec': 37.980000000000004},\n",
       " {'speaker_id': 'COMMCONTROL3', 'time_in_sec': 250.27999999999992},\n",
       " {'speaker_id': 'COMMCONTROL4', 'time_in_sec': 2.9699999999999998},\n",
       " {'speaker_id': 'COMPUTER1', 'time_in_sec': 0.62},\n",
       " {'speaker_id': 'COMPUTERMNO', 'time_in_sec': 45.25},\n",
       " {'speaker_id': 'COMPUTERTM', 'time_in_sec': 3.97},\n",
       " {'speaker_id': 'CONSUMABLES', 'time_in_sec': 4.46},\n",
       " {'speaker_id': 'CONTROL1', 'time_in_sec': 173.47000000000006},\n",
       " {'speaker_id': 'CONTROL2', 'time_in_sec': 288.8900000000001},\n",
       " {'speaker_id': 'CPSPK', 'time_in_sec': 2.4400000000000004},\n",
       " {'speaker_id': 'CPSS', 'time_in_sec': 19.529999999999998},\n",
       " {'speaker_id': 'CSANINE', 'time_in_sec': 29.770000000000003},\n",
       " {'speaker_id': 'CSAT', 'time_in_sec': 14.54},\n",
       " {'speaker_id': 'CSATM', 'time_in_sec': 2.62},\n",
       " {'speaker_id': 'CSE', 'time_in_sec': 6.68},\n",
       " {'speaker_id': 'CTSC', 'time_in_sec': 15.030000000000001},\n",
       " {'speaker_id': 'CVTS', 'time_in_sec': 252.37000000000003},\n",
       " {'speaker_id': 'DATACORE', 'time_in_sec': 2.73},\n",
       " {'speaker_id': 'DEPUTYLOM', 'time_in_sec': 80.21000000000001},\n",
       " {'speaker_id': 'DISPLAY', 'time_in_sec': 53.35999999999999},\n",
       " {'speaker_id': 'ECS1', 'time_in_sec': 356.7000000000001},\n",
       " {'speaker_id': 'ECS2', 'time_in_sec': 17.889999999999997},\n",
       " {'speaker_id': 'EECOM1', 'time_in_sec': 684.4100000000004},\n",
       " {'speaker_id': 'EECOM2', 'time_in_sec': 33.870000000000005},\n",
       " {'speaker_id': 'EECOM3', 'time_in_sec': 114.69000000000004},\n",
       " {'speaker_id': 'EECOM5', 'time_in_sec': 4.74},\n",
       " {'speaker_id': 'EMU', 'time_in_sec': 137.93999999999997},\n",
       " {'speaker_id': 'EPE', 'time_in_sec': 19.26},\n",
       " {'speaker_id': 'EPS2', 'time_in_sec': 220.17000000000004},\n",
       " {'speaker_id': 'EPS3', 'time_in_sec': 29.019999999999996},\n",
       " {'speaker_id': 'ERNIE', 'time_in_sec': 15.51},\n",
       " {'speaker_id': 'EVA', 'time_in_sec': 73.13000000000002},\n",
       " {'speaker_id': 'EXPERIMENTS', 'time_in_sec': 81.81},\n",
       " {'speaker_id': 'FAO1', 'time_in_sec': 267.02000000000004},\n",
       " {'speaker_id': 'FAO2', 'time_in_sec': 1.5},\n",
       " {'speaker_id': 'FAO3', 'time_in_sec': 81.92},\n",
       " {'speaker_id': 'FD1', 'time_in_sec': 2141.9499999999994},\n",
       " {'speaker_id': 'FD2', 'time_in_sec': 20.839999999999996},\n",
       " {'speaker_id': 'FD3', 'time_in_sec': 473.4800000000001},\n",
       " {'speaker_id': 'FEMALE2', 'time_in_sec': 4.2700000000000005},\n",
       " {'speaker_id': 'FIDO1', 'time_in_sec': 379.67},\n",
       " {'speaker_id': 'FIDO3', 'time_in_sec': 176.49999999999997},\n",
       " {'speaker_id': 'FORTYEIGHT', 'time_in_sec': 9.09},\n",
       " {'speaker_id': 'GBM', 'time_in_sec': 1.91},\n",
       " {'speaker_id': 'GCC', 'time_in_sec': 1.59},\n",
       " {'speaker_id': 'GEORGELOWE', 'time_in_sec': 2.87},\n",
       " {'speaker_id': 'GMIL', 'time_in_sec': 27.9},\n",
       " {'speaker_id': 'GNC1', 'time_in_sec': 550.8599999999999},\n",
       " {'speaker_id': 'GNC4', 'time_in_sec': 101.66999999999999},\n",
       " {'speaker_id': 'GNN1', 'time_in_sec': 179.33000000000007},\n",
       " {'speaker_id': 'GNN2', 'time_in_sec': 6.7700000000000005},\n",
       " {'speaker_id': 'GNS', 'time_in_sec': 1.5},\n",
       " {'speaker_id': 'GODDARDOPS', 'time_in_sec': 1.93},\n",
       " {'speaker_id': 'GODDARDVOICE', 'time_in_sec': 41.34999999999999},\n",
       " {'speaker_id': 'GOLDSTONE', 'time_in_sec': 139.07000000000002},\n",
       " {'speaker_id': 'GOLDSTONECOMMTECH', 'time_in_sec': 36.410000000000004},\n",
       " {'speaker_id': 'GOLDSTONETV', 'time_in_sec': 4.85},\n",
       " {'speaker_id': 'GOLDSTONEVIDEO', 'time_in_sec': 39.94},\n",
       " {'speaker_id': 'GUAM', 'time_in_sec': 18.48},\n",
       " {'speaker_id': 'GUAYMAS', 'time_in_sec': 12.7},\n",
       " {'speaker_id': 'GUIDANCE1', 'time_in_sec': 522.15},\n",
       " {'speaker_id': 'GUIDANCE2', 'time_in_sec': 1.85},\n",
       " {'speaker_id': 'GUIDANCE3', 'time_in_sec': 149.48000000000005},\n",
       " {'speaker_id': 'GUIDANCE4', 'time_in_sec': 403.47000000000014},\n",
       " {'speaker_id': 'HAWAII', 'time_in_sec': 14.37},\n",
       " {'speaker_id': 'HONEYSUCKLE', 'time_in_sec': 208.35000000000005},\n",
       " {'speaker_id': 'HOUSTONCOMMTECH1', 'time_in_sec': 187.39000000000001},\n",
       " {'speaker_id': 'HOUSTONCOMMTECH2', 'time_in_sec': 335.83000000000004},\n",
       " {'speaker_id': 'HOUSTONCOMMTECH3', 'time_in_sec': 39.24},\n",
       " {'speaker_id': 'HOUSTONTV1', 'time_in_sec': 371.08999999999986},\n",
       " {'speaker_id': 'HUNTSVILLE', 'time_in_sec': 23.1},\n",
       " {'speaker_id': 'INCO1', 'time_in_sec': 76.62000000000002},\n",
       " {'speaker_id': 'INCO3', 'time_in_sec': 1.0},\n",
       " {'speaker_id': 'INCO4', 'time_in_sec': 7.430000000000001},\n",
       " {'speaker_id': 'LC', 'time_in_sec': 57.29999999999999},\n",
       " {'speaker_id': 'LCG1', 'time_in_sec': 5.49},\n",
       " {'speaker_id': 'LCG2', 'time_in_sec': 12.78},\n",
       " {'speaker_id': 'LCS', 'time_in_sec': 0.66},\n",
       " {'speaker_id': 'LGCSUPPORT', 'time_in_sec': 12.23},\n",
       " {'speaker_id': 'LMPGNS', 'time_in_sec': 35.96},\n",
       " {'speaker_id': 'LMPROPULSION', 'time_in_sec': 9.040000000000001},\n",
       " {'speaker_id': 'LOADCONTROL', 'time_in_sec': 6.18},\n",
       " {'speaker_id': 'MADRID', 'time_in_sec': 125.58999999999997},\n",
       " {'speaker_id': 'MADRIDCOMMTECH', 'time_in_sec': 121.43000000000002},\n",
       " {'speaker_id': 'MCCFILEspk1', 'time_in_sec': 110.19999999999999},\n",
       " {'speaker_id': 'MCCFILEspk10', 'time_in_sec': 15.78},\n",
       " {'speaker_id': 'MCCFILEspk14', 'time_in_sec': 11.169999999999998},\n",
       " {'speaker_id': 'MCCFILEspk2', 'time_in_sec': 29.430000000000007},\n",
       " {'speaker_id': 'MCCFILEspk3', 'time_in_sec': 15.120000000000001},\n",
       " {'speaker_id': 'MCCFILEspk4', 'time_in_sec': 10.07},\n",
       " {'speaker_id': 'MCCFILEspk5', 'time_in_sec': 53.28999999999999},\n",
       " {'speaker_id': 'MCCFILEspk6', 'time_in_sec': 38.910000000000004},\n",
       " {'speaker_id': 'MCCFILEspk7', 'time_in_sec': 5.72},\n",
       " {'speaker_id': 'MCSC', 'time_in_sec': 125.35},\n",
       " {'speaker_id': 'MECS', 'time_in_sec': 0.69},\n",
       " {'speaker_id': 'MEPS', 'time_in_sec': 8.34},\n",
       " {'speaker_id': 'MERCURY', 'time_in_sec': 8.76},\n",
       " {'speaker_id': 'MESA', 'time_in_sec': 14.899999999999999},\n",
       " {'speaker_id': 'MGTC', 'time_in_sec': 12.690000000000001},\n",
       " {'speaker_id': 'MIKE', 'time_in_sec': 1.35},\n",
       " {'speaker_id': 'MILA', 'time_in_sec': 58.63},\n",
       " {'speaker_id': 'MISSIONDIRECTOR', 'time_in_sec': 3.75},\n",
       " {'speaker_id': 'MLSC', 'time_in_sec': 3.1499999999999995},\n",
       " {'speaker_id': 'MQLD', 'time_in_sec': 1.97},\n",
       " {'speaker_id': 'MSTC1', 'time_in_sec': 1246.0600000000004},\n",
       " {'speaker_id': 'MSTC2', 'time_in_sec': 51.17999999999999},\n",
       " {'speaker_id': 'NEIL', 'time_in_sec': 2297.990000000001},\n",
       " {'speaker_id': 'NETWORK1', 'time_in_sec': 188.69999999999996},\n",
       " {'speaker_id': 'NETWORK2', 'time_in_sec': 225.82000000000002},\n",
       " {'speaker_id': 'NETWORK3', 'time_in_sec': 612.1800000000002},\n",
       " {'speaker_id': 'NETWORK4', 'time_in_sec': 0.37},\n",
       " {'speaker_id': 'NETWORK5', 'time_in_sec': 127.73000000000003},\n",
       " {'speaker_id': 'NETWORK6', 'time_in_sec': 234.98999999999992},\n",
       " {'speaker_id': 'NETWORK7', 'time_in_sec': 135.51},\n",
       " {'speaker_id': 'NETWORK9', 'time_in_sec': 64.24000000000001},\n",
       " {'speaker_id': 'NIXON', 'time_in_sec': 75.86},\n",
       " {'speaker_id': 'ONP', 'time_in_sec': 3.01},\n",
       " {'speaker_id': 'OPS', 'time_in_sec': 89.54},\n",
       " {'speaker_id': 'PLSS1', 'time_in_sec': 1.09},\n",
       " {'speaker_id': 'PLSSCOMM', 'time_in_sec': 92.58000000000001},\n",
       " {'speaker_id': 'POSPK', 'time_in_sec': 5.37},\n",
       " {'speaker_id': 'PROCEDURES1', 'time_in_sec': 66.28},\n",
       " {'speaker_id': 'PROCEDURES3', 'time_in_sec': 5.959999999999999},\n",
       " {'speaker_id': 'PROPULSION1', 'time_in_sec': 205.11999999999995},\n",
       " {'speaker_id': 'PROPULSION3', 'time_in_sec': 106.01999999999998},\n",
       " {'speaker_id': 'QLD', 'time_in_sec': 3.58},\n",
       " {'speaker_id': 'RCS', 'time_in_sec': 19.079999999999995},\n",
       " {'speaker_id': 'REC', 'time_in_sec': 8.889999999999999},\n",
       " {'speaker_id': 'RECOVERY', 'time_in_sec': 70.95},\n",
       " {'speaker_id': 'REDSTONE', 'time_in_sec': 42.86},\n",
       " {'speaker_id': 'REENTRYSUPPORT', 'time_in_sec': 8.47},\n",
       " {'speaker_id': 'RETRO1', 'time_in_sec': 290.1500000000001},\n",
       " {'speaker_id': 'RETRO3', 'time_in_sec': 100.64000000000001},\n",
       " {'speaker_id': 'RSO', 'time_in_sec': 18.52},\n",
       " {'speaker_id': 'RTC1', 'time_in_sec': 39.349999999999994},\n",
       " {'speaker_id': 'RTC2', 'time_in_sec': 22.749999999999996},\n",
       " {'speaker_id': 'RTC3', 'time_in_sec': 85.23999999999994},\n",
       " {'speaker_id': 'RTC4', 'time_in_sec': 11.2},\n",
       " {'speaker_id': 'SCHEDULING', 'time_in_sec': 49.13},\n",
       " {'speaker_id': 'SCS', 'time_in_sec': 2.27},\n",
       " {'speaker_id': 'SELECT', 'time_in_sec': 3.63},\n",
       " {'speaker_id': 'SEQUENCER', 'time_in_sec': 50.99999999999999},\n",
       " {'speaker_id': 'SNOOPY', 'time_in_sec': 3.25},\n",
       " {'speaker_id': 'SPAN1', 'time_in_sec': 227.16},\n",
       " {'speaker_id': 'SPAN3', 'time_in_sec': 6.6899999999999995},\n",
       " {'speaker_id': 'SPAN5', 'time_in_sec': 19.54},\n",
       " {'speaker_id': 'SPS', 'time_in_sec': 2.23},\n",
       " {'speaker_id': 'SRO2', 'time_in_sec': 62.4},\n",
       " {'speaker_id': 'STONY', 'time_in_sec': 37.730000000000004},\n",
       " {'speaker_id': 'SURGEON1', 'time_in_sec': 30.81},\n",
       " {'speaker_id': 'SURGEON2', 'time_in_sec': 20.79},\n",
       " {'speaker_id': 'SYDNEYVIDEO', 'time_in_sec': 82.55},\n",
       " {'speaker_id': 'TANANARIVE', 'time_in_sec': 4.77},\n",
       " {'speaker_id': 'TELCOM1', 'time_in_sec': 69.61},\n",
       " {'speaker_id': 'TELCOM2', 'time_in_sec': 192.09000000000003},\n",
       " {'speaker_id': 'TELEMETRY', 'time_in_sec': 1.55},\n",
       " {'speaker_id': 'TEXAS', 'time_in_sec': 9.26},\n",
       " {'speaker_id': 'TIC0', 'time_in_sec': 4.7},\n",
       " {'speaker_id': 'TIC1', 'time_in_sec': 122.16},\n",
       " {'speaker_id': 'TIC2', 'time_in_sec': 101.53000000000002},\n",
       " {'speaker_id': 'TIC5', 'time_in_sec': 23.169999999999998},\n",
       " {'speaker_id': 'TRACK0', 'time_in_sec': 50.56},\n",
       " {'speaker_id': 'TRACK1', 'time_in_sec': 44.35},\n",
       " {'speaker_id': 'TRACK4', 'time_in_sec': 34.00000000000001},\n",
       " {'speaker_id': 'TRACK5', 'time_in_sec': 11.410000000000002},\n",
       " {'speaker_id': 'TRACK6', 'time_in_sec': 4.57},\n",
       " {'speaker_id': 'TRENCH', 'time_in_sec': 0.47},\n",
       " {'speaker_id': 'TUCKER', 'time_in_sec': 28.0},\n",
       " {'speaker_id': 'UNK', 'time_in_sec': 425.81999999999977},\n",
       " {'speaker_id': 'VANGUARD', 'time_in_sec': 15.07},\n",
       " {'speaker_id': 'VOICE', 'time_in_sec': 48.68}]"
      ]
     },
     "execution_count": 11,
     "metadata": {},
     "output_type": "execute_result"
    }
   ],
   "source": [
    "#1. Average speech activity per speaker in seconds, dataset = Dev_segment\n",
    "avg_speech_activity = (df_dev_seg\n",
    "   .groupby(['speaker_id'], as_index=False)\n",
    "   .time_in_sec.sum()\n",
    "   .to_dict('r'))\n",
    "avg_speech_activity"
   ]
  },
  {
   "cell_type": "code",
   "execution_count": 12,
   "metadata": {},
   "outputs": [
    {
     "data": {
      "text/plain": [
       "201"
      ]
     },
     "execution_count": 12,
     "metadata": {},
     "output_type": "execute_result"
    }
   ],
   "source": [
    "#2. no. of speakers in a dataset, dataset = Dev_segment\n",
    "speakers_dev_seg = df_dev_seg['speaker_id']\n",
    "speakers_dev_seg = set(speakers_dev_seg)\n",
    "len(speakers_dev_seg)"
   ]
  },
  {
   "cell_type": "code",
   "execution_count": 13,
   "metadata": {},
   "outputs": [
    {
     "name": "stdout",
     "output_type": "stream",
     "text": [
      "number of unique words 3626\n"
     ]
    }
   ],
   "source": [
    "#3. No. of words per dataset, dataset = Dev_segment\n",
    "number_of_words_dev_seg = [len(x.split()) for x in df_dev_seg['transcription'].tolist()]\n",
    "print('number of unique words',sum(set(number_of_words_dev_seg)))"
   ]
  },
  {
   "cell_type": "code",
   "execution_count": 14,
   "metadata": {},
   "outputs": [
    {
     "data": {
      "text/plain": [
       "3.8697010930514226"
      ]
     },
     "execution_count": 14,
     "metadata": {},
     "output_type": "execute_result"
    }
   ],
   "source": [
    "#4. Avg word length per dataset, dataset = Dev_segment\n",
    "sum(df_dev_seg.totl_wrd_lngth)/sum(df_dev_seg.totalwords)"
   ]
  },
  {
   "cell_type": "markdown",
   "metadata": {},
   "source": [
    "### 2. Train Segment"
   ]
  },
  {
   "cell_type": "code",
   "execution_count": 15,
   "metadata": {},
   "outputs": [],
   "source": [
    "dataset_Train_seg = db.get_dataset('Train_segment')\n",
    "df_tr_seg = pd.DataFrame(dataset_Train_seg)"
   ]
  },
  {
   "cell_type": "code",
   "execution_count": 16,
   "metadata": {},
   "outputs": [
    {
     "data": {
      "text/html": [
       "<div>\n",
       "<style scoped>\n",
       "    .dataframe tbody tr th:only-of-type {\n",
       "        vertical-align: middle;\n",
       "    }\n",
       "\n",
       "    .dataframe tbody tr th {\n",
       "        vertical-align: top;\n",
       "    }\n",
       "\n",
       "    .dataframe thead th {\n",
       "        text-align: right;\n",
       "    }\n",
       "</style>\n",
       "<table border=\"1\" class=\"dataframe\">\n",
       "  <thead>\n",
       "    <tr style=\"text-align: right;\">\n",
       "      <th></th>\n",
       "      <th>audio_path</th>\n",
       "      <th>num_samples</th>\n",
       "      <th>speaker_id</th>\n",
       "      <th>transcription</th>\n",
       "      <th>example_id</th>\n",
       "      <th>dataset</th>\n",
       "      <th>totalwords</th>\n",
       "      <th>totl_wrd_lngth</th>\n",
       "      <th>time_in_sec</th>\n",
       "    </tr>\n",
       "  </thead>\n",
       "  <tbody>\n",
       "    <tr>\n",
       "      <th>0</th>\n",
       "      <td>{'observation': '/net/db/fearless/Audio/Segmen...</td>\n",
       "      <td>7760</td>\n",
       "      <td>NETWORK5</td>\n",
       "      <td>ROGER</td>\n",
       "      <td>FS02_train_00001</td>\n",
       "      <td>Train_segment</td>\n",
       "      <td>1</td>\n",
       "      <td>5.0</td>\n",
       "      <td>0.97</td>\n",
       "    </tr>\n",
       "    <tr>\n",
       "      <th>1</th>\n",
       "      <td>{'observation': '/net/db/fearless/Audio/Segmen...</td>\n",
       "      <td>16720</td>\n",
       "      <td>CONTROL2</td>\n",
       "      <td>OKAY WERE CLEAN UH ON [unk]</td>\n",
       "      <td>FS02_train_00002</td>\n",
       "      <td>Train_segment</td>\n",
       "      <td>6</td>\n",
       "      <td>22.0</td>\n",
       "      <td>2.09</td>\n",
       "    </tr>\n",
       "    <tr>\n",
       "      <th>2</th>\n",
       "      <td>{'observation': '/net/db/fearless/Audio/Segmen...</td>\n",
       "      <td>23360</td>\n",
       "      <td>COLLINS</td>\n",
       "      <td>UPTEL I U TO ACCEPT</td>\n",
       "      <td>FS02_train_00003</td>\n",
       "      <td>Train_segment</td>\n",
       "      <td>5</td>\n",
       "      <td>15.0</td>\n",
       "      <td>2.92</td>\n",
       "    </tr>\n",
       "    <tr>\n",
       "      <th>3</th>\n",
       "      <td>{'observation': '/net/db/fearless/Audio/Segmen...</td>\n",
       "      <td>11760</td>\n",
       "      <td>GNC2</td>\n",
       "      <td>ROG</td>\n",
       "      <td>FS02_train_00004</td>\n",
       "      <td>Train_segment</td>\n",
       "      <td>1</td>\n",
       "      <td>3.0</td>\n",
       "      <td>1.47</td>\n",
       "    </tr>\n",
       "    <tr>\n",
       "      <th>4</th>\n",
       "      <td>{'observation': '/net/db/fearless/Audio/Segmen...</td>\n",
       "      <td>6240</td>\n",
       "      <td>UNK</td>\n",
       "      <td>[unk] ON THE</td>\n",
       "      <td>FS02_train_00005</td>\n",
       "      <td>Train_segment</td>\n",
       "      <td>3</td>\n",
       "      <td>10.0</td>\n",
       "      <td>0.78</td>\n",
       "    </tr>\n",
       "  </tbody>\n",
       "</table>\n",
       "</div>"
      ],
      "text/plain": [
       "                                          audio_path  num_samples speaker_id  \\\n",
       "0  {'observation': '/net/db/fearless/Audio/Segmen...         7760   NETWORK5   \n",
       "1  {'observation': '/net/db/fearless/Audio/Segmen...        16720   CONTROL2   \n",
       "2  {'observation': '/net/db/fearless/Audio/Segmen...        23360    COLLINS   \n",
       "3  {'observation': '/net/db/fearless/Audio/Segmen...        11760       GNC2   \n",
       "4  {'observation': '/net/db/fearless/Audio/Segmen...         6240        UNK   \n",
       "\n",
       "                 transcription        example_id        dataset  totalwords  \\\n",
       "0                        ROGER  FS02_train_00001  Train_segment           1   \n",
       "1  OKAY WERE CLEAN UH ON [unk]  FS02_train_00002  Train_segment           6   \n",
       "2          UPTEL I U TO ACCEPT  FS02_train_00003  Train_segment           5   \n",
       "3                          ROG  FS02_train_00004  Train_segment           1   \n",
       "4                 [unk] ON THE  FS02_train_00005  Train_segment           3   \n",
       "\n",
       "   totl_wrd_lngth  time_in_sec  \n",
       "0             5.0         0.97  \n",
       "1            22.0         2.09  \n",
       "2            15.0         2.92  \n",
       "3             3.0         1.47  \n",
       "4            10.0         0.78  "
      ]
     },
     "execution_count": 16,
     "metadata": {},
     "output_type": "execute_result"
    }
   ],
   "source": [
    "#df_tr_seg = df_tr_seg.drop(columns=['audio_path'])\n",
    "df_tr_seg['totalwords'] = df_tr_seg['transcription'].str.split().str.len()\n",
    "WL_tr_seg = df_tr_seg['transcription']\n",
    "df_tr_seg['totl_wrd_lngth'] = WL_tr_seg.str.split().explode().str.len().sum(level=0)\n",
    "df_tr_seg['time_in_sec'] = df_tr_seg['num_samples']/8000\n",
    "df_tr_seg.head()"
   ]
  },
  {
   "cell_type": "code",
   "execution_count": 17,
   "metadata": {},
   "outputs": [
    {
     "data": {
      "text/plain": [
       "[{'speaker_id': 'AFD1', 'time_in_sec': 176.57999999999998},\n",
       " {'speaker_id': 'AFD2', 'time_in_sec': 18.51},\n",
       " {'speaker_id': 'AFD3', 'time_in_sec': 62.23},\n",
       " {'speaker_id': 'AFD4', 'time_in_sec': 7.08},\n",
       " {'speaker_id': 'AFD5', 'time_in_sec': 688.3400000000001},\n",
       " {'speaker_id': 'AGC', 'time_in_sec': 74.89999999999999},\n",
       " {'speaker_id': 'ALDS', 'time_in_sec': 20.32},\n",
       " {'speaker_id': 'ALSEP', 'time_in_sec': 40.370000000000005},\n",
       " {'speaker_id': 'ANTIGUA', 'time_in_sec': 21.69},\n",
       " {'speaker_id': 'ARIA', 'time_in_sec': 49.40999999999999},\n",
       " {'speaker_id': 'ASCENSION', 'time_in_sec': 765.4399999999997},\n",
       " {'speaker_id': 'ASCENSIONCOMMTECH', 'time_in_sec': 91.24000000000001},\n",
       " {'speaker_id': 'BERMUDA', 'time_in_sec': 44.89000000000001},\n",
       " {'speaker_id': 'BOOSTER1', 'time_in_sec': 458.35999999999996},\n",
       " {'speaker_id': 'BUZZ', 'time_in_sec': 6496.479999999987},\n",
       " {'speaker_id': 'CALIFORNIA', 'time_in_sec': 2.41},\n",
       " {'speaker_id': 'CANARY', 'time_in_sec': 212.71999999999994},\n",
       " {'speaker_id': 'CANARYCOMMTECH', 'time_in_sec': 9.54},\n",
       " {'speaker_id': 'CAPCOM1', 'time_in_sec': 6611.190000000001},\n",
       " {'speaker_id': 'CAPCOM2', 'time_in_sec': 4149.220000000001},\n",
       " {'speaker_id': 'CAPCOM3', 'time_in_sec': 1252.9299999999998},\n",
       " {'speaker_id': 'CAPCOM4', 'time_in_sec': 993.1300000000002},\n",
       " {'speaker_id': 'CARNARVON', 'time_in_sec': 210.91000000000005},\n",
       " {'speaker_id': 'CARNARVONCOMMTECH', 'time_in_sec': 5.05},\n",
       " {'speaker_id': 'CCATSCOMMAND', 'time_in_sec': 66.57},\n",
       " {'speaker_id': 'CCATSTELEMETRY', 'time_in_sec': 366.16999999999996},\n",
       " {'speaker_id': 'CHUCK', 'time_in_sec': 4.54},\n",
       " {'speaker_id': 'CLTC', 'time_in_sec': 57.61000000000001},\n",
       " {'speaker_id': 'COLLINS', 'time_in_sec': 1889.2499999999993},\n",
       " {'speaker_id': 'COMM', 'time_in_sec': 54.37},\n",
       " {'speaker_id': 'COMMANAGER1', 'time_in_sec': 292.6800000000002},\n",
       " {'speaker_id': 'COMMANAGER3', 'time_in_sec': 2.47},\n",
       " {'speaker_id': 'COMMCONTROL1', 'time_in_sec': 106.8},\n",
       " {'speaker_id': 'COMMCONTROL2', 'time_in_sec': 151.01999999999998},\n",
       " {'speaker_id': 'COMMCONTROL3', 'time_in_sec': 316.97},\n",
       " {'speaker_id': 'COMMCONTROL4', 'time_in_sec': 26.27},\n",
       " {'speaker_id': 'COMPUTERMNO', 'time_in_sec': 9.219999999999999},\n",
       " {'speaker_id': 'COMPUTERTEN', 'time_in_sec': 10.05},\n",
       " {'speaker_id': 'COMPUTERTM', 'time_in_sec': 3.28},\n",
       " {'speaker_id': 'CONSUMABLES', 'time_in_sec': 80.52999999999999},\n",
       " {'speaker_id': 'CONTROL1', 'time_in_sec': 909.2700000000008},\n",
       " {'speaker_id': 'CONTROL2', 'time_in_sec': 64.57000000000001},\n",
       " {'speaker_id': 'CPSPK', 'time_in_sec': 87.49},\n",
       " {'speaker_id': 'CPSS', 'time_in_sec': 12.969999999999999},\n",
       " {'speaker_id': 'CSMEPS', 'time_in_sec': 18.83},\n",
       " {'speaker_id': 'CTSC', 'time_in_sec': 49.83},\n",
       " {'speaker_id': 'CVTS', 'time_in_sec': 169.83999999999997},\n",
       " {'speaker_id': 'DATA', 'time_in_sec': 10.19},\n",
       " {'speaker_id': 'DATACORE', 'time_in_sec': 1.96},\n",
       " {'speaker_id': 'DEPUTY', 'time_in_sec': 2.61},\n",
       " {'speaker_id': 'DEPUTYLOM', 'time_in_sec': 11.89},\n",
       " {'speaker_id': 'DISPLAY', 'time_in_sec': 72.2},\n",
       " {'speaker_id': 'DOCUMENTATION', 'time_in_sec': 30.22},\n",
       " {'speaker_id': 'DYNAMICS', 'time_in_sec': 4.37},\n",
       " {'speaker_id': 'ECS1', 'time_in_sec': 478.5100000000003},\n",
       " {'speaker_id': 'ECS2', 'time_in_sec': 165.75999999999996},\n",
       " {'speaker_id': 'ECS3', 'time_in_sec': 166.43},\n",
       " {'speaker_id': 'ECS4', 'time_in_sec': 269.27000000000004},\n",
       " {'speaker_id': 'EECOM1', 'time_in_sec': 1534.4400000000005},\n",
       " {'speaker_id': 'EECOM2', 'time_in_sec': 1268.8099999999981},\n",
       " {'speaker_id': 'EECOM3', 'time_in_sec': 1461.21},\n",
       " {'speaker_id': 'EECOM4', 'time_in_sec': 3.9},\n",
       " {'speaker_id': 'EECOM5', 'time_in_sec': 64.77},\n",
       " {'speaker_id': 'EMU', 'time_in_sec': 726.1},\n",
       " {'speaker_id': 'EPE', 'time_in_sec': 17.77},\n",
       " {'speaker_id': 'EPS1', 'time_in_sec': 216.83},\n",
       " {'speaker_id': 'EPS2', 'time_in_sec': 482.76000000000005},\n",
       " {'speaker_id': 'EPS3', 'time_in_sec': 410.5000000000002},\n",
       " {'speaker_id': 'ETIM', 'time_in_sec': 6.710000000000001},\n",
       " {'speaker_id': 'EVA', 'time_in_sec': 170.02000000000004},\n",
       " {'speaker_id': 'EXPERIMENTS', 'time_in_sec': 275.58},\n",
       " {'speaker_id': 'FAO1', 'time_in_sec': 425.65000000000003},\n",
       " {'speaker_id': 'FAO2', 'time_in_sec': 233.96000000000006},\n",
       " {'speaker_id': 'FAO3', 'time_in_sec': 131.08999999999995},\n",
       " {'speaker_id': 'FD1', 'time_in_sec': 10727.429999999993},\n",
       " {'speaker_id': 'FD2', 'time_in_sec': 693.4400000000005},\n",
       " {'speaker_id': 'FD3', 'time_in_sec': 758.2400000000001},\n",
       " {'speaker_id': 'FEMALE1', 'time_in_sec': 6.29},\n",
       " {'speaker_id': 'FEMALE2', 'time_in_sec': 29.580000000000002},\n",
       " {'speaker_id': 'FEMALE4', 'time_in_sec': 1.31},\n",
       " {'speaker_id': 'FEMALE6', 'time_in_sec': 3.2199999999999998},\n",
       " {'speaker_id': 'FIDO1', 'time_in_sec': 1331.0900000000001},\n",
       " {'speaker_id': 'FIDO2', 'time_in_sec': 62.09},\n",
       " {'speaker_id': 'FIDO3', 'time_in_sec': 1016.7700000000002},\n",
       " {'speaker_id': 'FLIGHTPLAN1', 'time_in_sec': 30.29},\n",
       " {'speaker_id': 'FLIGHTPLANSUPPORT', 'time_in_sec': 118.86},\n",
       " {'speaker_id': 'FORTYEIGHT', 'time_in_sec': 4.040000000000001},\n",
       " {'speaker_id': 'FRANK', 'time_in_sec': 40.53},\n",
       " {'speaker_id': 'GBM', 'time_in_sec': 0.38},\n",
       " {'speaker_id': 'GCC', 'time_in_sec': 30.33},\n",
       " {'speaker_id': 'GEORGE', 'time_in_sec': 128.24},\n",
       " {'speaker_id': 'GMI', 'time_in_sec': 2.28},\n",
       " {'speaker_id': 'GMIL', 'time_in_sec': 3.92},\n",
       " {'speaker_id': 'GNC1', 'time_in_sec': 1415.2300000000002},\n",
       " {'speaker_id': 'GNC2', 'time_in_sec': 1033.5399999999997},\n",
       " {'speaker_id': 'GNC3', 'time_in_sec': 390.78999999999996},\n",
       " {'speaker_id': 'GNC4', 'time_in_sec': 1184.7400000000002},\n",
       " {'speaker_id': 'GNN1', 'time_in_sec': 464.16},\n",
       " {'speaker_id': 'GNN2', 'time_in_sec': 768.4900000000001},\n",
       " {'speaker_id': 'GNN3', 'time_in_sec': 84.64},\n",
       " {'speaker_id': 'GNN4', 'time_in_sec': 60.160000000000004},\n",
       " {'speaker_id': 'GODDARDOPS', 'time_in_sec': 82.77999999999997},\n",
       " {'speaker_id': 'GODDARDVOICE', 'time_in_sec': 85.71000000000001},\n",
       " {'speaker_id': 'GOLDSTONE', 'time_in_sec': 1136.8199999999993},\n",
       " {'speaker_id': 'GOLDSTONECOMMTECH', 'time_in_sec': 87.56},\n",
       " {'speaker_id': 'GOLDSTONEVIDEO', 'time_in_sec': 30.139999999999997},\n",
       " {'speaker_id': 'GUAM', 'time_in_sec': 7.779999999999999},\n",
       " {'speaker_id': 'GUAYMAS', 'time_in_sec': 2.75},\n",
       " {'speaker_id': 'GUIDANCE1', 'time_in_sec': 1365.6600000000003},\n",
       " {'speaker_id': 'GUIDANCE2', 'time_in_sec': 231.35},\n",
       " {'speaker_id': 'GUIDANCE3', 'time_in_sec': 974.97},\n",
       " {'speaker_id': 'GUIDANCE4', 'time_in_sec': 2324.549999999996},\n",
       " {'speaker_id': 'HAL', 'time_in_sec': 9.040000000000001},\n",
       " {'speaker_id': 'HARRY', 'time_in_sec': 15.059999999999999},\n",
       " {'speaker_id': 'HAWAII', 'time_in_sec': 51.2},\n",
       " {'speaker_id': 'HAWAIICOMMTECH', 'time_in_sec': 7.69},\n",
       " {'speaker_id': 'HONEYSUCKLE', 'time_in_sec': 490.4900000000001},\n",
       " {'speaker_id': 'HOUSTONCOMMTECH1', 'time_in_sec': 668.6199999999993},\n",
       " {'speaker_id': 'HOUSTONCOMMTECH2', 'time_in_sec': 1157.8900000000006},\n",
       " {'speaker_id': 'HOUSTONCOMMTECH3', 'time_in_sec': 279.72999999999985},\n",
       " {'speaker_id': 'HOUSTONCOMMTECH4', 'time_in_sec': 45.67999999999999},\n",
       " {'speaker_id': 'HOUSTONTV1', 'time_in_sec': 534.3100000000003},\n",
       " {'speaker_id': 'HOUSTONTV2', 'time_in_sec': 19.73},\n",
       " {'speaker_id': 'HOUSTONVOICE', 'time_in_sec': 2.7},\n",
       " {'speaker_id': 'HUNTSVILLE', 'time_in_sec': 5.54},\n",
       " {'speaker_id': 'INCO1', 'time_in_sec': 262.52000000000004},\n",
       " {'speaker_id': 'INCO2', 'time_in_sec': 94.16999999999999},\n",
       " {'speaker_id': 'INCO3', 'time_in_sec': 22.84},\n",
       " {'speaker_id': 'INCO4', 'time_in_sec': 80.93999999999998},\n",
       " {'speaker_id': 'JACK', 'time_in_sec': 80.87},\n",
       " {'speaker_id': 'JIM', 'time_in_sec': 8.81},\n",
       " {'speaker_id': 'JOHN', 'time_in_sec': 115.88999999999999},\n",
       " {'speaker_id': 'LC', 'time_in_sec': 2.67},\n",
       " {'speaker_id': 'LMPROPULSION', 'time_in_sec': 8.84},\n",
       " {'speaker_id': 'LOADCONTROL', 'time_in_sec': 50.40999999999998},\n",
       " {'speaker_id': 'LOM', 'time_in_sec': 5.6899999999999995},\n",
       " {'speaker_id': 'MADRID', 'time_in_sec': 1495.370000000001},\n",
       " {'speaker_id': 'MADRIDCOMMTECH', 'time_in_sec': 190.5},\n",
       " {'speaker_id': 'MCCFILEspk', 'time_in_sec': 3.56},\n",
       " {'speaker_id': 'MCCFILEspk1', 'time_in_sec': 450.17000000000013},\n",
       " {'speaker_id': 'MCCFILEspk11', 'time_in_sec': 3.9000000000000004},\n",
       " {'speaker_id': 'MCCFILEspk13', 'time_in_sec': 8.850000000000001},\n",
       " {'speaker_id': 'MCCFILEspk15', 'time_in_sec': 11.82},\n",
       " {'speaker_id': 'MCCFILEspk16', 'time_in_sec': 1.98},\n",
       " {'speaker_id': 'MCCFILEspk17', 'time_in_sec': 51.60999999999999},\n",
       " {'speaker_id': 'MCCFILEspk2', 'time_in_sec': 306.74999999999994},\n",
       " {'speaker_id': 'MCCFILEspk3', 'time_in_sec': 122.50999999999998},\n",
       " {'speaker_id': 'MCCFILEspk4', 'time_in_sec': 134.35000000000002},\n",
       " {'speaker_id': 'MCCFILEspk5', 'time_in_sec': 156.34999999999994},\n",
       " {'speaker_id': 'MCCFILEspk6', 'time_in_sec': 80.38999999999999},\n",
       " {'speaker_id': 'MCCFILEspk7', 'time_in_sec': 476.91999999999996},\n",
       " {'speaker_id': 'MCCFILEspk8', 'time_in_sec': 29.099999999999998},\n",
       " {'speaker_id': 'MCCFILEspk9', 'time_in_sec': 12.16},\n",
       " {'speaker_id': 'MECS', 'time_in_sec': 114.27000000000001},\n",
       " {'speaker_id': 'MEPS', 'time_in_sec': 17.95},\n",
       " {'speaker_id': 'MERCURY', 'time_in_sec': 272.53},\n",
       " {'speaker_id': 'MERCURYCOMMTECH', 'time_in_sec': 7.82},\n",
       " {'speaker_id': 'MIKE', 'time_in_sec': 0.64},\n",
       " {'speaker_id': 'MILA', 'time_in_sec': 200.00999999999993},\n",
       " {'speaker_id': 'MLEC', 'time_in_sec': 0.66},\n",
       " {'speaker_id': 'MLSC', 'time_in_sec': 134.25},\n",
       " {'speaker_id': 'MSCR', 'time_in_sec': 1.74},\n",
       " {'speaker_id': 'MSCS', 'time_in_sec': 1.55},\n",
       " {'speaker_id': 'MSQC', 'time_in_sec': 9.26},\n",
       " {'speaker_id': 'MSTC1', 'time_in_sec': 1232.5299999999993},\n",
       " {'speaker_id': 'MSTC2', 'time_in_sec': 14.95},\n",
       " {'speaker_id': 'NEIL', 'time_in_sec': 4492.349999999994},\n",
       " {'speaker_id': 'NETWORK0', 'time_in_sec': 125.16000000000001},\n",
       " {'speaker_id': 'NETWORK1', 'time_in_sec': 2796.0500000000006},\n",
       " {'speaker_id': 'NETWORK2', 'time_in_sec': 1295.589999999999},\n",
       " {'speaker_id': 'NETWORK3', 'time_in_sec': 2317.9299999999967},\n",
       " {'speaker_id': 'NETWORK4', 'time_in_sec': 38.190000000000005},\n",
       " {'speaker_id': 'NETWORK5', 'time_in_sec': 1120.0},\n",
       " {'speaker_id': 'NETWORK6', 'time_in_sec': 518.3100000000004},\n",
       " {'speaker_id': 'NETWORK7', 'time_in_sec': 319.2300000000001},\n",
       " {'speaker_id': 'NETWORK8', 'time_in_sec': 49.67999999999999},\n",
       " {'speaker_id': 'NETWORK9', 'time_in_sec': 7.26},\n",
       " {'speaker_id': 'NIXON', 'time_in_sec': 224.48999999999998},\n",
       " {'speaker_id': 'ONP', 'time_in_sec': 1.82},\n",
       " {'speaker_id': 'OPS', 'time_in_sec': 393.7499999999999},\n",
       " {'speaker_id': 'OZZIE', 'time_in_sec': 5.08},\n",
       " {'speaker_id': 'PAO', 'time_in_sec': 123.96000000000001},\n",
       " {'speaker_id': 'PETE', 'time_in_sec': 27.039999999999996},\n",
       " {'speaker_id': 'PGNS', 'time_in_sec': 23.3},\n",
       " {'speaker_id': 'PLSS1', 'time_in_sec': 134.09999999999997},\n",
       " {'speaker_id': 'PLSS2', 'time_in_sec': 99.32999999999998},\n",
       " {'speaker_id': 'PLSSCOMM', 'time_in_sec': 76.78},\n",
       " {'speaker_id': 'POWERCORD', 'time_in_sec': 27.6},\n",
       " {'speaker_id': 'PROCEDURES1', 'time_in_sec': 498.1800000000002},\n",
       " {'speaker_id': 'PROCEDURES2', 'time_in_sec': 76.49},\n",
       " {'speaker_id': 'PROCEDURES3', 'time_in_sec': 21.8},\n",
       " {'speaker_id': 'PROPULSION1', 'time_in_sec': 452.6800000000001},\n",
       " {'speaker_id': 'PROPULSION2', 'time_in_sec': 442.6100000000002},\n",
       " {'speaker_id': 'PROPULSION3', 'time_in_sec': 914.22},\n",
       " {'speaker_id': 'RECOVERY', 'time_in_sec': 87.92999999999999},\n",
       " {'speaker_id': 'REDSTONE', 'time_in_sec': 119.05},\n",
       " {'speaker_id': 'REDSTONECOMMTECH', 'time_in_sec': 8.75},\n",
       " {'speaker_id': 'RETRO1', 'time_in_sec': 944.4100000000001},\n",
       " {'speaker_id': 'RETRO2', 'time_in_sec': 356.30999999999983},\n",
       " {'speaker_id': 'RETRO3', 'time_in_sec': 706.7099999999998},\n",
       " {'speaker_id': 'RSO', 'time_in_sec': 32.63},\n",
       " {'speaker_id': 'RTC1', 'time_in_sec': 234.59000000000006},\n",
       " {'speaker_id': 'RTC2', 'time_in_sec': 33.42},\n",
       " {'speaker_id': 'RTC3', 'time_in_sec': 165.75000000000009},\n",
       " {'speaker_id': 'RTC4', 'time_in_sec': 116.13000000000001},\n",
       " {'speaker_id': 'RTC5', 'time_in_sec': 40.23},\n",
       " {'speaker_id': 'SAM', 'time_in_sec': 1.53},\n",
       " {'speaker_id': 'SCHEDULING', 'time_in_sec': 75.29},\n",
       " {'speaker_id': 'SCL', 'time_in_sec': 2.5},\n",
       " {'speaker_id': 'SCOTTY', 'time_in_sec': 147.3},\n",
       " {'speaker_id': 'SCS', 'time_in_sec': 11.63},\n",
       " {'speaker_id': 'SELECT', 'time_in_sec': 61.230000000000004},\n",
       " {'speaker_id': 'SEQUENCER', 'time_in_sec': 3.16},\n",
       " {'speaker_id': 'SISPK', 'time_in_sec': 17.61},\n",
       " {'speaker_id': 'SPAN1', 'time_in_sec': 381.04},\n",
       " {'speaker_id': 'SPAN2', 'time_in_sec': 26.02},\n",
       " {'speaker_id': 'SPAN3', 'time_in_sec': 25.069999999999997},\n",
       " {'speaker_id': 'SPAN4', 'time_in_sec': 17.72},\n",
       " {'speaker_id': 'SPAN5', 'time_in_sec': 368.5000000000001},\n",
       " {'speaker_id': 'SPARKS', 'time_in_sec': 27.220000000000006},\n",
       " {'speaker_id': 'SPENCE', 'time_in_sec': 4.33},\n",
       " {'speaker_id': 'SPS', 'time_in_sec': 1.92},\n",
       " {'speaker_id': 'SRO2', 'time_in_sec': 30.330000000000002},\n",
       " {'speaker_id': 'STATUS', 'time_in_sec': 109.13999999999996},\n",
       " {'speaker_id': 'STONY', 'time_in_sec': 11.900000000000002},\n",
       " {'speaker_id': 'SURGEON1', 'time_in_sec': 97.46999999999998},\n",
       " {'speaker_id': 'SURGEON2', 'time_in_sec': 70.72999999999998},\n",
       " {'speaker_id': 'SURGEON3', 'time_in_sec': 59.59999999999999},\n",
       " {'speaker_id': 'SYDNEYVIDEO', 'time_in_sec': 102.42},\n",
       " {'speaker_id': 'TANANARIVE', 'time_in_sec': 61.13},\n",
       " {'speaker_id': 'TECHOPS1', 'time_in_sec': 22.78},\n",
       " {'speaker_id': 'TECHOPS2', 'time_in_sec': 48.46},\n",
       " {'speaker_id': 'TELCOM1', 'time_in_sec': 1348.6799999999992},\n",
       " {'speaker_id': 'TELCOM2', 'time_in_sec': 492.8800000000001},\n",
       " {'speaker_id': 'TELCOM3', 'time_in_sec': 188.53999999999996},\n",
       " {'speaker_id': 'TEXAS', 'time_in_sec': 70.88000000000001},\n",
       " {'speaker_id': 'TIC0', 'time_in_sec': 359.26},\n",
       " {'speaker_id': 'TIC1', 'time_in_sec': 1186.62},\n",
       " {'speaker_id': 'TIC2', 'time_in_sec': 200.80999999999992},\n",
       " {'speaker_id': 'TIC3', 'time_in_sec': 8.59},\n",
       " {'speaker_id': 'TIC4', 'time_in_sec': 132.85},\n",
       " {'speaker_id': 'TIC5', 'time_in_sec': 50.15000000000001},\n",
       " {'speaker_id': 'TMSPK', 'time_in_sec': 24.660000000000004},\n",
       " {'speaker_id': 'TRACK0', 'time_in_sec': 501.88999999999993},\n",
       " {'speaker_id': 'TRACK1', 'time_in_sec': 63.26999999999999},\n",
       " {'speaker_id': 'TRACK2', 'time_in_sec': 26.26},\n",
       " {'speaker_id': 'TRACK3', 'time_in_sec': 103.19999999999999},\n",
       " {'speaker_id': 'TRACK4', 'time_in_sec': 790.67},\n",
       " {'speaker_id': 'TRACK5', 'time_in_sec': 421.42},\n",
       " {'speaker_id': 'TRACK6', 'time_in_sec': 93.16999999999999},\n",
       " {'speaker_id': 'TRAJECTORY1', 'time_in_sec': 112.46999999999998},\n",
       " {'speaker_id': 'TRAJECTORY2', 'time_in_sec': 6.52},\n",
       " {'speaker_id': 'TRAJECTORY3', 'time_in_sec': 7.23},\n",
       " {'speaker_id': 'UNK', 'time_in_sec': 1398.7600000000002},\n",
       " {'speaker_id': 'VANGUARD', 'time_in_sec': 48.44},\n",
       " {'speaker_id': 'VOICE', 'time_in_sec': 68.16000000000001}]"
      ]
     },
     "execution_count": 17,
     "metadata": {},
     "output_type": "execute_result"
    }
   ],
   "source": [
    "#1. Average speech activity per speaker in seconds, dataset = Train_segment\n",
    "avg_speech_activity_tr_seg = (df_tr_seg\n",
    "   .groupby(['speaker_id'], as_index=False)\n",
    "   .time_in_sec.sum()\n",
    "   .to_dict('r'))\n",
    "avg_speech_activity_tr_seg"
   ]
  },
  {
   "cell_type": "code",
   "execution_count": 18,
   "metadata": {},
   "outputs": [
    {
     "data": {
      "text/plain": [
       "256"
      ]
     },
     "execution_count": 18,
     "metadata": {},
     "output_type": "execute_result"
    }
   ],
   "source": [
    "#2. no. of speakers in a dataset, dataset = Train_segment\n",
    "speakers_tr_seg = df_tr_seg['speaker_id']\n",
    "speakers_tr_seg = set(speakers_tr_seg)\n",
    "len(speakers_tr_seg)"
   ]
  },
  {
   "cell_type": "code",
   "execution_count": 19,
   "metadata": {},
   "outputs": [
    {
     "data": {
      "text/plain": [
       "262545"
      ]
     },
     "execution_count": 19,
     "metadata": {},
     "output_type": "execute_result"
    }
   ],
   "source": [
    "#3. No. of words per dataset, dataset = Train_segment\n",
    "number_of_words_tr_seg = [len(x.split()) for x in df_tr_seg['transcription'].tolist()]\n",
    "sum(number_of_words_tr_seg)"
   ]
  },
  {
   "cell_type": "code",
   "execution_count": 20,
   "metadata": {},
   "outputs": [
    {
     "data": {
      "text/plain": [
       "3.9228627473385513"
      ]
     },
     "execution_count": 20,
     "metadata": {},
     "output_type": "execute_result"
    }
   ],
   "source": [
    "#4. Avg word length per dataset, dataset = Train_segment\n",
    "sum(df_tr_seg.totl_wrd_lngth)/sum(df_tr_seg.totalwords)"
   ]
  },
  {
   "cell_type": "code",
   "execution_count": 21,
   "metadata": {},
   "outputs": [
    {
     "name": "stdout",
     "output_type": "stream",
     "text": [
      "['AFD1' 'AFD3' 'AFD5' 'AGC' 'ALDS' 'ALSEP' 'ANTIGUA' 'ARIA' 'ASCENSION'\n",
      " 'ASCENSIONCOMMTECH' 'BERMUDA' 'BOOSTER1' 'BUZZ' 'CALIFORNIA' 'CANARY'\n",
      " 'CAPCOM1' 'CAPCOM2' 'CARNARVON' 'CCATSCOMMAND' 'CCATSTELEMETRY' 'CLTC'\n",
      " 'COLLINS' 'COMM' 'COMMANAGER1' 'COMMANAGER3' 'COMMCONTROL1'\n",
      " 'COMMCONTROL2' 'COMMCONTROL3' 'COMMCONTROL4' 'COMPUTERMNO' 'COMPUTERTM'\n",
      " 'CONSUMABLES' 'CONTROL1' 'CONTROL2' 'CPSPK' 'CPSS' 'CTSC' 'CVTS'\n",
      " 'DATACORE' 'DEPUTYLOM' 'DISPLAY' 'ECS1' 'ECS2' 'EECOM1' 'EECOM2' 'EECOM3'\n",
      " 'EECOM5' 'EMU' 'EPE' 'EPS2' 'EPS3' 'EVA' 'EXPERIMENTS' 'FAO1' 'FAO2'\n",
      " 'FAO3' 'FD1' 'FD2' 'FD3' 'FEMALE2' 'FIDO1' 'FIDO3' 'FORTYEIGHT' 'GBM'\n",
      " 'GCC' 'GMIL' 'GNC1' 'GNC4' 'GNN1' 'GNN2' 'GODDARDOPS' 'GODDARDVOICE'\n",
      " 'GOLDSTONE' 'GOLDSTONECOMMTECH' 'GOLDSTONEVIDEO' 'GUAM' 'GUAYMAS'\n",
      " 'GUIDANCE1' 'GUIDANCE2' 'GUIDANCE3' 'GUIDANCE4' 'HAWAII' 'HONEYSUCKLE'\n",
      " 'HOUSTONCOMMTECH1' 'HOUSTONCOMMTECH2' 'HOUSTONCOMMTECH3' 'HOUSTONTV1'\n",
      " 'HUNTSVILLE' 'INCO1' 'INCO3' 'INCO4' 'LC' 'LMPROPULSION' 'LOADCONTROL'\n",
      " 'MADRID' 'MADRIDCOMMTECH' 'MCCFILEspk1' 'MCCFILEspk2' 'MCCFILEspk3'\n",
      " 'MCCFILEspk4' 'MCCFILEspk5' 'MCCFILEspk6' 'MCCFILEspk7' 'MECS' 'MEPS'\n",
      " 'MERCURY' 'MIKE' 'MILA' 'MLSC' 'MSTC1' 'MSTC2' 'NEIL' 'NETWORK1'\n",
      " 'NETWORK2' 'NETWORK3' 'NETWORK4' 'NETWORK5' 'NETWORK6' 'NETWORK7'\n",
      " 'NETWORK9' 'NIXON' 'ONP' 'OPS' 'PLSS1' 'PLSSCOMM' 'PROCEDURES1'\n",
      " 'PROCEDURES3' 'PROPULSION1' 'PROPULSION3' 'RECOVERY' 'REDSTONE' 'RETRO1'\n",
      " 'RETRO3' 'RSO' 'RTC1' 'RTC2' 'RTC3' 'RTC4' 'SCHEDULING' 'SCS' 'SELECT'\n",
      " 'SEQUENCER' 'SPAN1' 'SPAN3' 'SPAN5' 'SPS' 'SRO2' 'STONY' 'SURGEON1'\n",
      " 'SURGEON2' 'SYDNEYVIDEO' 'TANANARIVE' 'TELCOM1' 'TELCOM2' 'TEXAS' 'TIC0'\n",
      " 'TIC1' 'TIC2' 'TIC5' 'TRACK0' 'TRACK1' 'TRACK4' 'TRACK5' 'TRACK6' 'UNK'\n",
      " 'VANGUARD' 'VOICE']\n"
     ]
    }
   ],
   "source": [
    "#5. Speaker intersection between datasets, dataset = Dev_segment\n",
    "speaker_intersection_between_datasets = np.intersect1d(df_dev_seg.speaker_id, \n",
    "                                        np.intersect1d(df_tr_seg.speaker_id, df_dev_seg.speaker_id))\n",
    "print(speaker_intersection_between_datasets)"
   ]
  },
  {
   "cell_type": "code",
   "execution_count": 22,
   "metadata": {},
   "outputs": [
    {
     "data": {
      "text/plain": [
       "167"
      ]
     },
     "execution_count": 22,
     "metadata": {},
     "output_type": "execute_result"
    }
   ],
   "source": [
    "len(speaker_intersection_between_datasets)"
   ]
  },
  {
   "cell_type": "code",
   "execution_count": null,
   "metadata": {},
   "outputs": [],
   "source": [
    "#6. Length of silence between utterances as histogram:"
   ]
  },
  {
   "cell_type": "markdown",
   "metadata": {},
   "source": [
    "### 3. Train_SID"
   ]
  },
  {
   "cell_type": "code",
   "execution_count": 23,
   "metadata": {},
   "outputs": [
    {
     "data": {
      "text/html": [
       "<div>\n",
       "<style scoped>\n",
       "    .dataframe tbody tr th:only-of-type {\n",
       "        vertical-align: middle;\n",
       "    }\n",
       "\n",
       "    .dataframe tbody tr th {\n",
       "        vertical-align: top;\n",
       "    }\n",
       "\n",
       "    .dataframe thead th {\n",
       "        text-align: right;\n",
       "    }\n",
       "</style>\n",
       "<table border=\"1\" class=\"dataframe\">\n",
       "  <thead>\n",
       "    <tr style=\"text-align: right;\">\n",
       "      <th></th>\n",
       "      <th>audio_path</th>\n",
       "      <th>num_samples</th>\n",
       "      <th>speaker_id</th>\n",
       "      <th>example_id</th>\n",
       "      <th>dataset</th>\n",
       "      <th>time_in_sec</th>\n",
       "    </tr>\n",
       "  </thead>\n",
       "  <tbody>\n",
       "    <tr>\n",
       "      <th>0</th>\n",
       "      <td>{'observation': '/net/db/fearless/Audio/Segmen...</td>\n",
       "      <td>27040</td>\n",
       "      <td>FD1</td>\n",
       "      <td>FS02_SID_train_00001</td>\n",
       "      <td>Train_SID</td>\n",
       "      <td>3.38</td>\n",
       "    </tr>\n",
       "    <tr>\n",
       "      <th>1</th>\n",
       "      <td>{'observation': '/net/db/fearless/Audio/Segmen...</td>\n",
       "      <td>32720</td>\n",
       "      <td>BUZZ</td>\n",
       "      <td>FS02_SID_train_00002</td>\n",
       "      <td>Train_SID</td>\n",
       "      <td>4.09</td>\n",
       "    </tr>\n",
       "    <tr>\n",
       "      <th>2</th>\n",
       "      <td>{'observation': '/net/db/fearless/Audio/Segmen...</td>\n",
       "      <td>29520</td>\n",
       "      <td>COMMCONTROL3</td>\n",
       "      <td>FS02_SID_train_00003</td>\n",
       "      <td>Train_SID</td>\n",
       "      <td>3.69</td>\n",
       "    </tr>\n",
       "    <tr>\n",
       "      <th>3</th>\n",
       "      <td>{'observation': '/net/db/fearless/Audio/Segmen...</td>\n",
       "      <td>34240</td>\n",
       "      <td>EECOM5</td>\n",
       "      <td>FS02_SID_train_00004</td>\n",
       "      <td>Train_SID</td>\n",
       "      <td>4.28</td>\n",
       "    </tr>\n",
       "    <tr>\n",
       "      <th>4</th>\n",
       "      <td>{'observation': '/net/db/fearless/Audio/Segmen...</td>\n",
       "      <td>30640</td>\n",
       "      <td>EECOM3</td>\n",
       "      <td>FS02_SID_train_00005</td>\n",
       "      <td>Train_SID</td>\n",
       "      <td>3.83</td>\n",
       "    </tr>\n",
       "  </tbody>\n",
       "</table>\n",
       "</div>"
      ],
      "text/plain": [
       "                                          audio_path  num_samples  \\\n",
       "0  {'observation': '/net/db/fearless/Audio/Segmen...        27040   \n",
       "1  {'observation': '/net/db/fearless/Audio/Segmen...        32720   \n",
       "2  {'observation': '/net/db/fearless/Audio/Segmen...        29520   \n",
       "3  {'observation': '/net/db/fearless/Audio/Segmen...        34240   \n",
       "4  {'observation': '/net/db/fearless/Audio/Segmen...        30640   \n",
       "\n",
       "     speaker_id            example_id    dataset  time_in_sec  \n",
       "0           FD1  FS02_SID_train_00001  Train_SID         3.38  \n",
       "1          BUZZ  FS02_SID_train_00002  Train_SID         4.09  \n",
       "2  COMMCONTROL3  FS02_SID_train_00003  Train_SID         3.69  \n",
       "3        EECOM5  FS02_SID_train_00004  Train_SID         4.28  \n",
       "4        EECOM3  FS02_SID_train_00005  Train_SID         3.83  "
      ]
     },
     "execution_count": 23,
     "metadata": {},
     "output_type": "execute_result"
    }
   ],
   "source": [
    "dataset_Train_SID = db.get_dataset('Train_SID')\n",
    "df_tr_sid = pd.DataFrame(dataset_Train_SID)\n",
    "df_tr_sid['time_in_sec'] = df_tr_sid['num_samples']/8000\n",
    "df_tr_sid.head()"
   ]
  },
  {
   "cell_type": "code",
   "execution_count": 24,
   "metadata": {},
   "outputs": [
    {
     "data": {
      "text/plain": [
       "[{'speaker_id': 'AFD1', 'time_in_sec': 190.31999999999996},\n",
       " {'speaker_id': 'AFD3', 'time_in_sec': 64.99},\n",
       " {'speaker_id': 'AFD5', 'time_in_sec': 428.3900000000002},\n",
       " {'speaker_id': 'AGC', 'time_in_sec': 89.32000000000001},\n",
       " {'speaker_id': 'AGCSUPPORT', 'time_in_sec': 12.25},\n",
       " {'speaker_id': 'ALDS', 'time_in_sec': 26.270000000000003},\n",
       " {'speaker_id': 'ALSEP', 'time_in_sec': 115.1},\n",
       " {'speaker_id': 'ANTIGUA', 'time_in_sec': 15.950000000000001},\n",
       " {'speaker_id': 'ARIA', 'time_in_sec': 80.26},\n",
       " {'speaker_id': 'ASCENSION', 'time_in_sec': 694.7799999999999},\n",
       " {'speaker_id': 'ASCENSIONCOMMTECH', 'time_in_sec': 101.42},\n",
       " {'speaker_id': 'BERMUDA', 'time_in_sec': 52.97},\n",
       " {'speaker_id': 'BERMUDACOMMTECH', 'time_in_sec': 11.01},\n",
       " {'speaker_id': 'BOB', 'time_in_sec': 7.78},\n",
       " {'speaker_id': 'BOOSTER1', 'time_in_sec': 534.1599999999996},\n",
       " {'speaker_id': 'BUZZ', 'time_in_sec': 8986.029999999988},\n",
       " {'speaker_id': 'CALIFORNIA', 'time_in_sec': 10.27},\n",
       " {'speaker_id': 'CANARY', 'time_in_sec': 179.5},\n",
       " {'speaker_id': 'CANARYCOMMTECH', 'time_in_sec': 13.04},\n",
       " {'speaker_id': 'CAPCOM1', 'time_in_sec': 8417.259999999995},\n",
       " {'speaker_id': 'CAPCOM2', 'time_in_sec': 4728.060000000008},\n",
       " {'speaker_id': 'CAPCOM3', 'time_in_sec': 896.7100000000002},\n",
       " {'speaker_id': 'CAPCOM4', 'time_in_sec': 619.5699999999997},\n",
       " {'speaker_id': 'CARNARVON', 'time_in_sec': 163.28000000000006},\n",
       " {'speaker_id': 'CCATSCOMMAND', 'time_in_sec': 128.82999999999998},\n",
       " {'speaker_id': 'CCATSTELEMETRY', 'time_in_sec': 433.76999999999987},\n",
       " {'speaker_id': 'CLTC', 'time_in_sec': 66.53999999999999},\n",
       " {'speaker_id': 'COLLINS', 'time_in_sec': 2469.7000000000016},\n",
       " {'speaker_id': 'COMM', 'time_in_sec': 114.96},\n",
       " {'speaker_id': 'COMMANAGER1', 'time_in_sec': 239.27999999999997},\n",
       " {'speaker_id': 'COMMCONTROL1', 'time_in_sec': 100.27},\n",
       " {'speaker_id': 'COMMCONTROL2', 'time_in_sec': 126.94999999999999},\n",
       " {'speaker_id': 'COMMCONTROL3', 'time_in_sec': 490.74000000000007},\n",
       " {'speaker_id': 'COMMCONTROL4', 'time_in_sec': 20.5},\n",
       " {'speaker_id': 'COMPUTERMNO', 'time_in_sec': 25.44},\n",
       " {'speaker_id': 'CONSUMABLES', 'time_in_sec': 51.86999999999999},\n",
       " {'speaker_id': 'CONTROL1', 'time_in_sec': 934.5599999999997},\n",
       " {'speaker_id': 'CONTROL2', 'time_in_sec': 307.2000000000001},\n",
       " {'speaker_id': 'CPSPK', 'time_in_sec': 65.85},\n",
       " {'speaker_id': 'CPSS', 'time_in_sec': 20.669999999999998},\n",
       " {'speaker_id': 'CSANINE', 'time_in_sec': 12.08},\n",
       " {'speaker_id': 'CSAT', 'time_in_sec': 6.99},\n",
       " {'speaker_id': 'CTSC', 'time_in_sec': 38.68},\n",
       " {'speaker_id': 'CVTS', 'time_in_sec': 316.78999999999996},\n",
       " {'speaker_id': 'DEPUTYLOM', 'time_in_sec': 56.36},\n",
       " {'speaker_id': 'DISPLAY', 'time_in_sec': 106.70999999999998},\n",
       " {'speaker_id': 'DOCUMENTATION', 'time_in_sec': 29.63},\n",
       " {'speaker_id': 'DONHUGHES', 'time_in_sec': 25.88},\n",
       " {'speaker_id': 'DYNAMICS', 'time_in_sec': 11.83},\n",
       " {'speaker_id': 'ECS1', 'time_in_sec': 731.2999999999997},\n",
       " {'speaker_id': 'ECS2', 'time_in_sec': 193.50000000000003},\n",
       " {'speaker_id': 'ECS3', 'time_in_sec': 106.86},\n",
       " {'speaker_id': 'ECS4', 'time_in_sec': 210.10000000000002},\n",
       " {'speaker_id': 'EECOM1', 'time_in_sec': 2291.7400000000002},\n",
       " {'speaker_id': 'EECOM2', 'time_in_sec': 853.8299999999999},\n",
       " {'speaker_id': 'EECOM3', 'time_in_sec': 1251.2699999999995},\n",
       " {'speaker_id': 'EECOM5', 'time_in_sec': 777.1},\n",
       " {'speaker_id': 'EMU', 'time_in_sec': 609.9899999999998},\n",
       " {'speaker_id': 'EPE', 'time_in_sec': 25.64},\n",
       " {'speaker_id': 'EPS1', 'time_in_sec': 138.69000000000003},\n",
       " {'speaker_id': 'EPS2', 'time_in_sec': 580.5200000000003},\n",
       " {'speaker_id': 'EPS3', 'time_in_sec': 301.66999999999985},\n",
       " {'speaker_id': 'ERNIE', 'time_in_sec': 10.19},\n",
       " {'speaker_id': 'EVA', 'time_in_sec': 279.8699999999999},\n",
       " {'speaker_id': 'EXPERIMENTS', 'time_in_sec': 303.99},\n",
       " {'speaker_id': 'FAO1', 'time_in_sec': 804.9099999999997},\n",
       " {'speaker_id': 'FAO2', 'time_in_sec': 228.93},\n",
       " {'speaker_id': 'FAO3', 'time_in_sec': 201.26000000000005},\n",
       " {'speaker_id': 'FD1', 'time_in_sec': 11254.361750000018},\n",
       " {'speaker_id': 'FD2', 'time_in_sec': 554.0999999999999},\n",
       " {'speaker_id': 'FD3', 'time_in_sec': 2941.919999999998},\n",
       " {'speaker_id': 'FEMALE2', 'time_in_sec': 17.91},\n",
       " {'speaker_id': 'FEMALE3', 'time_in_sec': 27.419999999999998},\n",
       " {'speaker_id': 'FIDO1', 'time_in_sec': 2603.899999999997},\n",
       " {'speaker_id': 'FIDO2', 'time_in_sec': 27.91},\n",
       " {'speaker_id': 'FIDO3', 'time_in_sec': 948.03},\n",
       " {'speaker_id': 'FLIGHTPLAN1', 'time_in_sec': 27.81},\n",
       " {'speaker_id': 'FLIGHTPLAN2', 'time_in_sec': 7.27},\n",
       " {'speaker_id': 'FLIGHTPLANSUPPORT', 'time_in_sec': 88.89999999999998},\n",
       " {'speaker_id': 'FORTYEIGHT', 'time_in_sec': 14.0},\n",
       " {'speaker_id': 'FRANK', 'time_in_sec': 21.03},\n",
       " {'speaker_id': 'GBM', 'time_in_sec': 7.460000000000001},\n",
       " {'speaker_id': 'GCC', 'time_in_sec': 26.89},\n",
       " {'speaker_id': 'GEORGE', 'time_in_sec': 78.9},\n",
       " {'speaker_id': 'GMIL', 'time_in_sec': 25.78},\n",
       " {'speaker_id': 'GNC1', 'time_in_sec': 1804.940000000001},\n",
       " {'speaker_id': 'GNC2', 'time_in_sec': 799.9200000000004},\n",
       " {'speaker_id': 'GNC3', 'time_in_sec': 570.0600000000002},\n",
       " {'speaker_id': 'GNC4', 'time_in_sec': 958.5799999999999},\n",
       " {'speaker_id': 'GNN1', 'time_in_sec': 555.6700000000003},\n",
       " {'speaker_id': 'GNN2', 'time_in_sec': 590.3799999999999},\n",
       " {'speaker_id': 'GNN3', 'time_in_sec': 41.760000000000005},\n",
       " {'speaker_id': 'GNN4', 'time_in_sec': 99.12},\n",
       " {'speaker_id': 'GODDARDOPS', 'time_in_sec': 58.720000000000006},\n",
       " {'speaker_id': 'GODDARDVOICE', 'time_in_sec': 106.77999999999999},\n",
       " {'speaker_id': 'GOLDSTONE', 'time_in_sec': 911.4300000000003},\n",
       " {'speaker_id': 'GOLDSTONECOMMTECH', 'time_in_sec': 90.69},\n",
       " {'speaker_id': 'GOLDSTONEVIDEO', 'time_in_sec': 90.75000000000001},\n",
       " {'speaker_id': 'GUAM', 'time_in_sec': 15.840000000000002},\n",
       " {'speaker_id': 'GUAYMAS', 'time_in_sec': 11.440000000000001},\n",
       " {'speaker_id': 'GUIDANCE1', 'time_in_sec': 2016.5200000000011},\n",
       " {'speaker_id': 'GUIDANCE2', 'time_in_sec': 137.88},\n",
       " {'speaker_id': 'GUIDANCE3', 'time_in_sec': 1028.48},\n",
       " {'speaker_id': 'GUIDANCE4', 'time_in_sec': 2188.5700000000015},\n",
       " {'speaker_id': 'HARRY', 'time_in_sec': 7.08},\n",
       " {'speaker_id': 'HAWAII', 'time_in_sec': 49.43},\n",
       " {'speaker_id': 'HONEYSUCKLE', 'time_in_sec': 804.9600000000002},\n",
       " {'speaker_id': 'HOUSTONCOMMTECH1', 'time_in_sec': 603.19},\n",
       " {'speaker_id': 'HOUSTONCOMMTECH2', 'time_in_sec': 1061.1199999999997},\n",
       " {'speaker_id': 'HOUSTONCOMMTECH3', 'time_in_sec': 279.4599999999998},\n",
       " {'speaker_id': 'HOUSTONCOMMTECH4', 'time_in_sec': 25.569999999999997},\n",
       " {'speaker_id': 'HOUSTONTV1', 'time_in_sec': 816.8},\n",
       " {'speaker_id': 'HOUSTONTV2', 'time_in_sec': 7.67},\n",
       " {'speaker_id': 'HUNTSVILLE', 'time_in_sec': 13.649999999999999},\n",
       " {'speaker_id': 'INCO1', 'time_in_sec': 249.50000000000006},\n",
       " {'speaker_id': 'INCO2', 'time_in_sec': 64.79},\n",
       " {'speaker_id': 'INCO3', 'time_in_sec': 6.93},\n",
       " {'speaker_id': 'INCO4', 'time_in_sec': 73.29},\n",
       " {'speaker_id': 'JACK', 'time_in_sec': 61.93000000000001},\n",
       " {'speaker_id': 'JOHN', 'time_in_sec': 60.24},\n",
       " {'speaker_id': 'LC', 'time_in_sec': 26.54},\n",
       " {'speaker_id': 'LCG2', 'time_in_sec': 10.01},\n",
       " {'speaker_id': 'LMPGNS', 'time_in_sec': 41.67},\n",
       " {'speaker_id': 'LMPROPULSION', 'time_in_sec': 11.77},\n",
       " {'speaker_id': 'LOADCONTROL', 'time_in_sec': 54.29999999999998},\n",
       " {'speaker_id': 'MADRID', 'time_in_sec': 1363.7299999999996},\n",
       " {'speaker_id': 'MADRIDCOMMTECH', 'time_in_sec': 226.56},\n",
       " {'speaker_id': 'MCSC', 'time_in_sec': 82.69999999999999},\n",
       " {'speaker_id': 'MECS', 'time_in_sec': 88.29999999999998},\n",
       " {'speaker_id': 'MEPS', 'time_in_sec': 11.85},\n",
       " {'speaker_id': 'MERCURY', 'time_in_sec': 197.14000000000004},\n",
       " {'speaker_id': 'MGTC', 'time_in_sec': 6.89},\n",
       " {'speaker_id': 'MILA', 'time_in_sec': 235.08999999999997},\n",
       " {'speaker_id': 'MLSC', 'time_in_sec': 107.23},\n",
       " {'speaker_id': 'MSTC1', 'time_in_sec': 1742.830000000001},\n",
       " {'speaker_id': 'MSTC2', 'time_in_sec': 31.609999999999996},\n",
       " {'speaker_id': 'NEIL', 'time_in_sec': 5946.7699999999995},\n",
       " {'speaker_id': 'NETWORK0', 'time_in_sec': 177.35999999999993},\n",
       " {'speaker_id': 'NETWORK1', 'time_in_sec': 2034.1900000000005},\n",
       " {'speaker_id': 'NETWORK2', 'time_in_sec': 1492.6900000000014},\n",
       " {'speaker_id': 'NETWORK3', 'time_in_sec': 2327.0600000000004},\n",
       " {'speaker_id': 'NETWORK4', 'time_in_sec': 19.92},\n",
       " {'speaker_id': 'NETWORK5', 'time_in_sec': 972.4599999999997},\n",
       " {'speaker_id': 'NETWORK6', 'time_in_sec': 536.0299999999999},\n",
       " {'speaker_id': 'NETWORK7', 'time_in_sec': 336.96999999999986},\n",
       " {'speaker_id': 'NETWORK8', 'time_in_sec': 110.42},\n",
       " {'speaker_id': 'NETWORK9', 'time_in_sec': 65.31},\n",
       " {'speaker_id': 'NIXON', 'time_in_sec': 216.6},\n",
       " {'speaker_id': 'NSCTM', 'time_in_sec': 18.15},\n",
       " {'speaker_id': 'OPS', 'time_in_sec': 321.02},\n",
       " {'speaker_id': 'PAO', 'time_in_sec': 87.73},\n",
       " {'speaker_id': 'PETE', 'time_in_sec': 18.37},\n",
       " {'speaker_id': 'PGNS', 'time_in_sec': 11.969999999999999},\n",
       " {'speaker_id': 'PLSS1', 'time_in_sec': 89.16000000000001},\n",
       " {'speaker_id': 'PLSS2', 'time_in_sec': 68.26},\n",
       " {'speaker_id': 'PLSSCOMM', 'time_in_sec': 136.07},\n",
       " {'speaker_id': 'POWERCORD', 'time_in_sec': 15.55},\n",
       " {'speaker_id': 'PROCEDURES1', 'time_in_sec': 464.02000000000015},\n",
       " {'speaker_id': 'PROCEDURES2', 'time_in_sec': 38.08},\n",
       " {'speaker_id': 'PROCEDURES3', 'time_in_sec': 28.97},\n",
       " {'speaker_id': 'PROPULSION1', 'time_in_sec': 521.1900000000002},\n",
       " {'speaker_id': 'PROPULSION2', 'time_in_sec': 310.71},\n",
       " {'speaker_id': 'PROPULSION3', 'time_in_sec': 751.3399999999998},\n",
       " {'speaker_id': 'PROPULSION4', 'time_in_sec': 92.88},\n",
       " {'speaker_id': 'RCS', 'time_in_sec': 8.16},\n",
       " {'speaker_id': 'RECOVERY', 'time_in_sec': 109.64},\n",
       " {'speaker_id': 'REDSTONE', 'time_in_sec': 112.21999999999998},\n",
       " {'speaker_id': 'RETRO1', 'time_in_sec': 1351.28},\n",
       " {'speaker_id': 'RETRO2', 'time_in_sec': 253.25999999999996},\n",
       " {'speaker_id': 'RETRO3', 'time_in_sec': 692.5599999999995},\n",
       " {'speaker_id': 'RSO', 'time_in_sec': 46.61},\n",
       " {'speaker_id': 'RTC1', 'time_in_sec': 264.27000000000004},\n",
       " {'speaker_id': 'RTC2', 'time_in_sec': 32.03},\n",
       " {'speaker_id': 'RTC3', 'time_in_sec': 179.69999999999993},\n",
       " {'speaker_id': 'RTC4', 'time_in_sec': 134.28},\n",
       " {'speaker_id': 'RTC5', 'time_in_sec': 13.83},\n",
       " {'speaker_id': 'SCHEDULING', 'time_in_sec': 107.61999999999999},\n",
       " {'speaker_id': 'SCOTTY', 'time_in_sec': 72.45},\n",
       " {'speaker_id': 'SELECT', 'time_in_sec': 62.43},\n",
       " {'speaker_id': 'SEQUENCER', 'time_in_sec': 43.10000000000001},\n",
       " {'speaker_id': 'SPAN1', 'time_in_sec': 527.4199999999997},\n",
       " {'speaker_id': 'SPAN2', 'time_in_sec': 16.57},\n",
       " {'speaker_id': 'SPAN3', 'time_in_sec': 67.21000000000001},\n",
       " {'speaker_id': 'SPAN4', 'time_in_sec': 20.68},\n",
       " {'speaker_id': 'SPAN5', 'time_in_sec': 291.65999999999997},\n",
       " {'speaker_id': 'SPARKS', 'time_in_sec': 13.55},\n",
       " {'speaker_id': 'SRO2', 'time_in_sec': 92.54},\n",
       " {'speaker_id': 'STATUS', 'time_in_sec': 89.58999999999999},\n",
       " {'speaker_id': 'STONY', 'time_in_sec': 24.39},\n",
       " {'speaker_id': 'SURGEON1', 'time_in_sec': 141.48},\n",
       " {'speaker_id': 'SURGEON2', 'time_in_sec': 65.17},\n",
       " {'speaker_id': 'SURGEON3', 'time_in_sec': 55.44},\n",
       " {'speaker_id': 'SYDNEYVIDEO', 'time_in_sec': 126.44000000000003},\n",
       " {'speaker_id': 'TANANARIVE', 'time_in_sec': 59.580000000000005},\n",
       " {'speaker_id': 'TECHOPS1', 'time_in_sec': 15.370000000000001},\n",
       " {'speaker_id': 'TECHOPS2', 'time_in_sec': 28.450000000000003},\n",
       " {'speaker_id': 'TELCOM1', 'time_in_sec': 965.4599999999999},\n",
       " {'speaker_id': 'TELCOM2', 'time_in_sec': 938.8099999999997},\n",
       " {'speaker_id': 'TELCOM3', 'time_in_sec': 316.8100000000001},\n",
       " {'speaker_id': 'TEXAS', 'time_in_sec': 89.54},\n",
       " {'speaker_id': 'TIC0', 'time_in_sec': 275.6899999999999},\n",
       " {'speaker_id': 'TIC1', 'time_in_sec': 1123.8400000000004},\n",
       " {'speaker_id': 'TIC2', 'time_in_sec': 261.15999999999997},\n",
       " {'speaker_id': 'TIC4', 'time_in_sec': 88.56},\n",
       " {'speaker_id': 'TIC5', 'time_in_sec': 82.27999999999997},\n",
       " {'speaker_id': 'TMSPK', 'time_in_sec': 6.89},\n",
       " {'speaker_id': 'TRACK0', 'time_in_sec': 451.8299999999998},\n",
       " {'speaker_id': 'TRACK1', 'time_in_sec': 173.44},\n",
       " {'speaker_id': 'TRACK2', 'time_in_sec': 12.7},\n",
       " {'speaker_id': 'TRACK3', 'time_in_sec': 78.10000000000001},\n",
       " {'speaker_id': 'TRACK4', 'time_in_sec': 585.0600000000001},\n",
       " {'speaker_id': 'TRACK5', 'time_in_sec': 283.3600000000001},\n",
       " {'speaker_id': 'TRACK6', 'time_in_sec': 119.44},\n",
       " {'speaker_id': 'TRAJECTORY1', 'time_in_sec': 89.83999999999999},\n",
       " {'speaker_id': 'TUCKER', 'time_in_sec': 8.379999999999999},\n",
       " {'speaker_id': 'VANGUARD', 'time_in_sec': 80.55000000000001},\n",
       " {'speaker_id': 'VANGUARDCOMMTECH', 'time_in_sec': 20.31},\n",
       " {'speaker_id': 'VOICE', 'time_in_sec': 121.01}]"
      ]
     },
     "execution_count": 24,
     "metadata": {},
     "output_type": "execute_result"
    }
   ],
   "source": [
    "#1. Average speech activity per speaker in seconds, dataset = Train_SID\n",
    "avg_speech_activity_tr_sid = (df_tr_sid\n",
    "   .groupby(['speaker_id'], as_index=False)\n",
    "   .time_in_sec.sum()\n",
    "   .to_dict('r'))\n",
    "avg_speech_activity_tr_sid"
   ]
  },
  {
   "cell_type": "code",
   "execution_count": 25,
   "metadata": {},
   "outputs": [
    {
     "data": {
      "text/plain": [
       "218"
      ]
     },
     "execution_count": 25,
     "metadata": {},
     "output_type": "execute_result"
    }
   ],
   "source": [
    "#2. no. of speakers in a dataset, dataset = Train_SID\n",
    "speakers_tr_sid = df_tr_sid['speaker_id']\n",
    "speakers_tr_sid = set(speakers_tr_sid)\n",
    "len(speakers_tr_sid)"
   ]
  },
  {
   "cell_type": "markdown",
   "metadata": {},
   "source": [
    "### 4. Dev_SID"
   ]
  },
  {
   "cell_type": "code",
   "execution_count": 26,
   "metadata": {},
   "outputs": [
    {
     "data": {
      "text/html": [
       "<div>\n",
       "<style scoped>\n",
       "    .dataframe tbody tr th:only-of-type {\n",
       "        vertical-align: middle;\n",
       "    }\n",
       "\n",
       "    .dataframe tbody tr th {\n",
       "        vertical-align: top;\n",
       "    }\n",
       "\n",
       "    .dataframe thead th {\n",
       "        text-align: right;\n",
       "    }\n",
       "</style>\n",
       "<table border=\"1\" class=\"dataframe\">\n",
       "  <thead>\n",
       "    <tr style=\"text-align: right;\">\n",
       "      <th></th>\n",
       "      <th>audio_path</th>\n",
       "      <th>num_samples</th>\n",
       "      <th>speaker_id</th>\n",
       "      <th>example_id</th>\n",
       "      <th>dataset</th>\n",
       "      <th>time_in_sec</th>\n",
       "    </tr>\n",
       "  </thead>\n",
       "  <tbody>\n",
       "    <tr>\n",
       "      <th>0</th>\n",
       "      <td>{'observation': '/net/db/fearless/Audio/Segmen...</td>\n",
       "      <td>25760</td>\n",
       "      <td>NETWORK5</td>\n",
       "      <td>FS02_SID_dev_0001</td>\n",
       "      <td>Dev_SID</td>\n",
       "      <td>3.22</td>\n",
       "    </tr>\n",
       "    <tr>\n",
       "      <th>1</th>\n",
       "      <td>{'observation': '/net/db/fearless/Audio/Segmen...</td>\n",
       "      <td>33440</td>\n",
       "      <td>CAPCOM1</td>\n",
       "      <td>FS02_SID_dev_0002</td>\n",
       "      <td>Dev_SID</td>\n",
       "      <td>4.18</td>\n",
       "    </tr>\n",
       "    <tr>\n",
       "      <th>2</th>\n",
       "      <td>{'observation': '/net/db/fearless/Audio/Segmen...</td>\n",
       "      <td>27760</td>\n",
       "      <td>FD3</td>\n",
       "      <td>FS02_SID_dev_0003</td>\n",
       "      <td>Dev_SID</td>\n",
       "      <td>3.47</td>\n",
       "    </tr>\n",
       "    <tr>\n",
       "      <th>3</th>\n",
       "      <td>{'observation': '/net/db/fearless/Audio/Segmen...</td>\n",
       "      <td>33760</td>\n",
       "      <td>FIDO1</td>\n",
       "      <td>FS02_SID_dev_0004</td>\n",
       "      <td>Dev_SID</td>\n",
       "      <td>4.22</td>\n",
       "    </tr>\n",
       "    <tr>\n",
       "      <th>4</th>\n",
       "      <td>{'observation': '/net/db/fearless/Audio/Segmen...</td>\n",
       "      <td>35760</td>\n",
       "      <td>FIDO1</td>\n",
       "      <td>FS02_SID_dev_0005</td>\n",
       "      <td>Dev_SID</td>\n",
       "      <td>4.47</td>\n",
       "    </tr>\n",
       "  </tbody>\n",
       "</table>\n",
       "</div>"
      ],
      "text/plain": [
       "                                          audio_path  num_samples speaker_id  \\\n",
       "0  {'observation': '/net/db/fearless/Audio/Segmen...        25760   NETWORK5   \n",
       "1  {'observation': '/net/db/fearless/Audio/Segmen...        33440    CAPCOM1   \n",
       "2  {'observation': '/net/db/fearless/Audio/Segmen...        27760        FD3   \n",
       "3  {'observation': '/net/db/fearless/Audio/Segmen...        33760      FIDO1   \n",
       "4  {'observation': '/net/db/fearless/Audio/Segmen...        35760      FIDO1   \n",
       "\n",
       "          example_id  dataset  time_in_sec  \n",
       "0  FS02_SID_dev_0001  Dev_SID         3.22  \n",
       "1  FS02_SID_dev_0002  Dev_SID         4.18  \n",
       "2  FS02_SID_dev_0003  Dev_SID         3.47  \n",
       "3  FS02_SID_dev_0004  Dev_SID         4.22  \n",
       "4  FS02_SID_dev_0005  Dev_SID         4.47  "
      ]
     },
     "execution_count": 26,
     "metadata": {},
     "output_type": "execute_result"
    }
   ],
   "source": [
    "dataset_Dev_SID = db.get_dataset('Dev_SID')\n",
    "df_dev_sid = pd.DataFrame(dataset_Dev_SID)\n",
    "df_dev_sid['time_in_sec'] = df_dev_sid['num_samples']/8000\n",
    "df_dev_sid.head()"
   ]
  },
  {
   "cell_type": "code",
   "execution_count": 27,
   "metadata": {},
   "outputs": [
    {
     "data": {
      "text/plain": [
       "[{'speaker_id': 'AFD1', 'time_in_sec': 41.02},\n",
       " {'speaker_id': 'AFD3', 'time_in_sec': 17.4},\n",
       " {'speaker_id': 'AFD5', 'time_in_sec': 97.66999999999997},\n",
       " {'speaker_id': 'AGC', 'time_in_sec': 22.63},\n",
       " {'speaker_id': 'AGCSUPPORT', 'time_in_sec': 3.44},\n",
       " {'speaker_id': 'ALDS', 'time_in_sec': 10.04},\n",
       " {'speaker_id': 'ALSEP', 'time_in_sec': 26.489999999999995},\n",
       " {'speaker_id': 'ANTIGUA', 'time_in_sec': 8.64},\n",
       " {'speaker_id': 'ARIA', 'time_in_sec': 18.93},\n",
       " {'speaker_id': 'ASCENSION', 'time_in_sec': 171.13999999999996},\n",
       " {'speaker_id': 'ASCENSIONCOMMTECH', 'time_in_sec': 27.54},\n",
       " {'speaker_id': 'BERMUDA', 'time_in_sec': 16.009999999999998},\n",
       " {'speaker_id': 'BERMUDACOMMTECH', 'time_in_sec': 3.76},\n",
       " {'speaker_id': 'BOB', 'time_in_sec': 7.699999999999999},\n",
       " {'speaker_id': 'BOOSTER1', 'time_in_sec': 124.89999999999999},\n",
       " {'speaker_id': 'BUZZ', 'time_in_sec': 2060.560000000001},\n",
       " {'speaker_id': 'CALIFORNIA', 'time_in_sec': 4.17},\n",
       " {'speaker_id': 'CANARY', 'time_in_sec': 40.489999999999995},\n",
       " {'speaker_id': 'CANARYCOMMTECH', 'time_in_sec': 7.93},\n",
       " {'speaker_id': 'CAPCOM1', 'time_in_sec': 1941.2000000000016},\n",
       " {'speaker_id': 'CAPCOM2', 'time_in_sec': 1056.7799999999997},\n",
       " {'speaker_id': 'CAPCOM3', 'time_in_sec': 210.71},\n",
       " {'speaker_id': 'CAPCOM4', 'time_in_sec': 146.54999999999995},\n",
       " {'speaker_id': 'CARNARVON', 'time_in_sec': 35.05},\n",
       " {'speaker_id': 'CCATSCOMMAND', 'time_in_sec': 27.799999999999997},\n",
       " {'speaker_id': 'CCATSTELEMETRY', 'time_in_sec': 101.64000000000001},\n",
       " {'speaker_id': 'CLTC', 'time_in_sec': 16.68},\n",
       " {'speaker_id': 'COLLINS', 'time_in_sec': 559.4699999999999},\n",
       " {'speaker_id': 'COMM', 'time_in_sec': 24.31},\n",
       " {'speaker_id': 'COMMANAGER1', 'time_in_sec': 54.8},\n",
       " {'speaker_id': 'COMMCONTROL1', 'time_in_sec': 22.04},\n",
       " {'speaker_id': 'COMMCONTROL2', 'time_in_sec': 36.120000000000005},\n",
       " {'speaker_id': 'COMMCONTROL3', 'time_in_sec': 104.84000000000002},\n",
       " {'speaker_id': 'COMMCONTROL4', 'time_in_sec': 6.85},\n",
       " {'speaker_id': 'COMPUTERMNO', 'time_in_sec': 6.8},\n",
       " {'speaker_id': 'CONSUMABLES', 'time_in_sec': 11.81},\n",
       " {'speaker_id': 'CONTROL1', 'time_in_sec': 228.05999999999997},\n",
       " {'speaker_id': 'CONTROL2', 'time_in_sec': 66.53},\n",
       " {'speaker_id': 'CPSPK', 'time_in_sec': 17.54},\n",
       " {'speaker_id': 'CPSS', 'time_in_sec': 6.75},\n",
       " {'speaker_id': 'CSANINE', 'time_in_sec': 8.45},\n",
       " {'speaker_id': 'CSAT', 'time_in_sec': 4.25},\n",
       " {'speaker_id': 'CTSC', 'time_in_sec': 10.87},\n",
       " {'speaker_id': 'CVTS', 'time_in_sec': 85.54000000000002},\n",
       " {'speaker_id': 'DEPUTYLOM', 'time_in_sec': 13.7},\n",
       " {'speaker_id': 'DISPLAY', 'time_in_sec': 22.689999999999998},\n",
       " {'speaker_id': 'DOCUMENTATION', 'time_in_sec': 7.91},\n",
       " {'speaker_id': 'DONHUGHES', 'time_in_sec': 11.24},\n",
       " {'speaker_id': 'DYNAMICS', 'time_in_sec': 6.16},\n",
       " {'speaker_id': 'ECS1', 'time_in_sec': 167.88000000000002},\n",
       " {'speaker_id': 'ECS2', 'time_in_sec': 41.53000000000001},\n",
       " {'speaker_id': 'ECS3', 'time_in_sec': 26.409999999999997},\n",
       " {'speaker_id': 'ECS4', 'time_in_sec': 43.010000000000005},\n",
       " {'speaker_id': 'EECOM1', 'time_in_sec': 522.0600000000002},\n",
       " {'speaker_id': 'EECOM2', 'time_in_sec': 196.84},\n",
       " {'speaker_id': 'EECOM3', 'time_in_sec': 292.27000000000004},\n",
       " {'speaker_id': 'EECOM5', 'time_in_sec': 181.56000000000003},\n",
       " {'speaker_id': 'EMU', 'time_in_sec': 147.31000000000003},\n",
       " {'speaker_id': 'EPE', 'time_in_sec': 9.91},\n",
       " {'speaker_id': 'EPS1', 'time_in_sec': 32.62},\n",
       " {'speaker_id': 'EPS2', 'time_in_sec': 141.83},\n",
       " {'speaker_id': 'EPS3', 'time_in_sec': 75.75},\n",
       " {'speaker_id': 'ERNIE', 'time_in_sec': 7.83},\n",
       " {'speaker_id': 'EVA', 'time_in_sec': 71.32000000000001},\n",
       " {'speaker_id': 'EXPERIMENTS', 'time_in_sec': 63.070000000000014},\n",
       " {'speaker_id': 'FAO1', 'time_in_sec': 186.51},\n",
       " {'speaker_id': 'FAO2', 'time_in_sec': 54.06999999999999},\n",
       " {'speaker_id': 'FAO3', 'time_in_sec': 43.42},\n",
       " {'speaker_id': 'FD1', 'time_in_sec': 2596.180000000002},\n",
       " {'speaker_id': 'FD2', 'time_in_sec': 125.88999999999997},\n",
       " {'speaker_id': 'FD3', 'time_in_sec': 656.4800000000001},\n",
       " {'speaker_id': 'FEMALE2', 'time_in_sec': 6.68},\n",
       " {'speaker_id': 'FEMALE3', 'time_in_sec': 9.01},\n",
       " {'speaker_id': 'FIDO1', 'time_in_sec': 607.92},\n",
       " {'speaker_id': 'FIDO2', 'time_in_sec': 11.94},\n",
       " {'speaker_id': 'FIDO3', 'time_in_sec': 222.54000000000002},\n",
       " {'speaker_id': 'FLIGHTPLAN1', 'time_in_sec': 10.48},\n",
       " {'speaker_id': 'FLIGHTPLAN2', 'time_in_sec': 4.0},\n",
       " {'speaker_id': 'FLIGHTPLANSUPPORT', 'time_in_sec': 19.52},\n",
       " {'speaker_id': 'FORTYEIGHT', 'time_in_sec': 7.6899999999999995},\n",
       " {'speaker_id': 'FRANK', 'time_in_sec': 12.66},\n",
       " {'speaker_id': 'GBM', 'time_in_sec': 3.24},\n",
       " {'speaker_id': 'GCC', 'time_in_sec': 10.74},\n",
       " {'speaker_id': 'GEORGE', 'time_in_sec': 22.810000000000002},\n",
       " {'speaker_id': 'GMIL', 'time_in_sec': 6.119999999999999},\n",
       " {'speaker_id': 'GNC1', 'time_in_sec': 416.1399999999999},\n",
       " {'speaker_id': 'GNC2', 'time_in_sec': 180.11999999999998},\n",
       " {'speaker_id': 'GNC3', 'time_in_sec': 129.43999999999997},\n",
       " {'speaker_id': 'GNC4', 'time_in_sec': 218.9},\n",
       " {'speaker_id': 'GNN1', 'time_in_sec': 135.6},\n",
       " {'speaker_id': 'GNN2', 'time_in_sec': 137.63},\n",
       " {'speaker_id': 'GNN3', 'time_in_sec': 17.83},\n",
       " {'speaker_id': 'GNN4', 'time_in_sec': 24.769999999999996},\n",
       " {'speaker_id': 'GODDARDOPS', 'time_in_sec': 12.709999999999999},\n",
       " {'speaker_id': 'GODDARDVOICE', 'time_in_sec': 29.580000000000002},\n",
       " {'speaker_id': 'GOLDSTONE', 'time_in_sec': 215.26999999999998},\n",
       " {'speaker_id': 'GOLDSTONECOMMTECH', 'time_in_sec': 19.49},\n",
       " {'speaker_id': 'GOLDSTONEVIDEO', 'time_in_sec': 20.869999999999997},\n",
       " {'speaker_id': 'GUAM', 'time_in_sec': 7.94},\n",
       " {'speaker_id': 'GUAYMAS', 'time_in_sec': 8.059999999999999},\n",
       " {'speaker_id': 'GUIDANCE1', 'time_in_sec': 476.25999999999993},\n",
       " {'speaker_id': 'GUIDANCE2', 'time_in_sec': 34.370000000000005},\n",
       " {'speaker_id': 'GUIDANCE3', 'time_in_sec': 247.32000000000005},\n",
       " {'speaker_id': 'GUIDANCE4', 'time_in_sec': 506.5500000000001},\n",
       " {'speaker_id': 'HARRY', 'time_in_sec': 4.25},\n",
       " {'speaker_id': 'HAWAII', 'time_in_sec': 11.260000000000002},\n",
       " {'speaker_id': 'HONEYSUCKLE', 'time_in_sec': 188.1},\n",
       " {'speaker_id': 'HOUSTONCOMMTECH1', 'time_in_sec': 147.78999999999996},\n",
       " {'speaker_id': 'HOUSTONCOMMTECH2', 'time_in_sec': 272.6000000000001},\n",
       " {'speaker_id': 'HOUSTONCOMMTECH3', 'time_in_sec': 63.32000000000001},\n",
       " {'speaker_id': 'HOUSTONCOMMTECH4', 'time_in_sec': 7.82},\n",
       " {'speaker_id': 'HOUSTONTV1', 'time_in_sec': 186.76},\n",
       " {'speaker_id': 'HOUSTONTV2', 'time_in_sec': 9.280000000000001},\n",
       " {'speaker_id': 'HUNTSVILLE', 'time_in_sec': 7.470000000000001},\n",
       " {'speaker_id': 'INCO1', 'time_in_sec': 61.980000000000004},\n",
       " {'speaker_id': 'INCO2', 'time_in_sec': 17.12},\n",
       " {'speaker_id': 'INCO3', 'time_in_sec': 7.75},\n",
       " {'speaker_id': 'INCO4', 'time_in_sec': 13.94},\n",
       " {'speaker_id': 'JACK', 'time_in_sec': 13.719999999999999},\n",
       " {'speaker_id': 'JOHN', 'time_in_sec': 10.54},\n",
       " {'speaker_id': 'LC', 'time_in_sec': 11.51},\n",
       " {'speaker_id': 'LCG2', 'time_in_sec': 3.13},\n",
       " {'speaker_id': 'LMPGNS', 'time_in_sec': 10.86},\n",
       " {'speaker_id': 'LMPROPULSION', 'time_in_sec': 3.5},\n",
       " {'speaker_id': 'LOADCONTROL', 'time_in_sec': 13.25},\n",
       " {'speaker_id': 'MADRID', 'time_in_sec': 309.7699999999999},\n",
       " {'speaker_id': 'MADRIDCOMMTECH', 'time_in_sec': 52.169999999999995},\n",
       " {'speaker_id': 'MCSC', 'time_in_sec': 17.78},\n",
       " {'speaker_id': 'MECS', 'time_in_sec': 24.28},\n",
       " {'speaker_id': 'MEPS', 'time_in_sec': 7.35},\n",
       " {'speaker_id': 'MERCURY', 'time_in_sec': 42.58},\n",
       " {'speaker_id': 'MGTC', 'time_in_sec': 4.25},\n",
       " {'speaker_id': 'MILA', 'time_in_sec': 53.72},\n",
       " {'speaker_id': 'MLSC', 'time_in_sec': 27.67},\n",
       " {'speaker_id': 'MSTC1', 'time_in_sec': 402.22999999999996},\n",
       " {'speaker_id': 'MSTC2', 'time_in_sec': 12.89},\n",
       " {'speaker_id': 'NEIL', 'time_in_sec': 1366.7099999999984},\n",
       " {'speaker_id': 'NETWORK0', 'time_in_sec': 39.04},\n",
       " {'speaker_id': 'NETWORK1', 'time_in_sec': 492.2499999999999},\n",
       " {'speaker_id': 'NETWORK2', 'time_in_sec': 349.6699999999999},\n",
       " {'speaker_id': 'NETWORK3', 'time_in_sec': 541.2100000000002},\n",
       " {'speaker_id': 'NETWORK4', 'time_in_sec': 6.79},\n",
       " {'speaker_id': 'NETWORK5', 'time_in_sec': 227.87999999999997},\n",
       " {'speaker_id': 'NETWORK6', 'time_in_sec': 133.04000000000002},\n",
       " {'speaker_id': 'NETWORK7', 'time_in_sec': 76.94},\n",
       " {'speaker_id': 'NETWORK8', 'time_in_sec': 25.14},\n",
       " {'speaker_id': 'NETWORK9', 'time_in_sec': 16.490000000000002},\n",
       " {'speaker_id': 'NIXON', 'time_in_sec': 51.550000000000004},\n",
       " {'speaker_id': 'NSCTM', 'time_in_sec': 7.1},\n",
       " {'speaker_id': 'OPS', 'time_in_sec': 70.84},\n",
       " {'speaker_id': 'PAO', 'time_in_sec': 16.35},\n",
       " {'speaker_id': 'PETE', 'time_in_sec': 7.57},\n",
       " {'speaker_id': 'PGNS', 'time_in_sec': 3.88},\n",
       " {'speaker_id': 'PLSS1', 'time_in_sec': 23.919999999999998},\n",
       " {'speaker_id': 'PLSS2', 'time_in_sec': 14.88},\n",
       " {'speaker_id': 'PLSSCOMM', 'time_in_sec': 29.81},\n",
       " {'speaker_id': 'POWERCORD', 'time_in_sec': 8.39},\n",
       " {'speaker_id': 'PROCEDURES1', 'time_in_sec': 107.78999999999999},\n",
       " {'speaker_id': 'PROCEDURES2', 'time_in_sec': 15.829999999999998},\n",
       " {'speaker_id': 'PROCEDURES3', 'time_in_sec': 7.68},\n",
       " {'speaker_id': 'PROPULSION1', 'time_in_sec': 117.01},\n",
       " {'speaker_id': 'PROPULSION2', 'time_in_sec': 77.39000000000003},\n",
       " {'speaker_id': 'PROPULSION3', 'time_in_sec': 178.43999999999997},\n",
       " {'speaker_id': 'PROPULSION4', 'time_in_sec': 19.95},\n",
       " {'speaker_id': 'RCS', 'time_in_sec': 8.38},\n",
       " {'speaker_id': 'RECOVERY', 'time_in_sec': 25.689999999999998},\n",
       " {'speaker_id': 'REDSTONE', 'time_in_sec': 29.720000000000002},\n",
       " {'speaker_id': 'RETRO1', 'time_in_sec': 313.9},\n",
       " {'speaker_id': 'RETRO2', 'time_in_sec': 59.87},\n",
       " {'speaker_id': 'RETRO3', 'time_in_sec': 165.81999999999996},\n",
       " {'speaker_id': 'RSO', 'time_in_sec': 10.71},\n",
       " {'speaker_id': 'RTC1', 'time_in_sec': 59.22},\n",
       " {'speaker_id': 'RTC2', 'time_in_sec': 11.41},\n",
       " {'speaker_id': 'RTC3', 'time_in_sec': 42.92999999999999},\n",
       " {'speaker_id': 'RTC4', 'time_in_sec': 31.259999999999998},\n",
       " {'speaker_id': 'RTC5', 'time_in_sec': 9.13},\n",
       " {'speaker_id': 'SCHEDULING', 'time_in_sec': 22.52},\n",
       " {'speaker_id': 'SCOTTY', 'time_in_sec': 13.3},\n",
       " {'speaker_id': 'SELECT', 'time_in_sec': 14.5},\n",
       " {'speaker_id': 'SEQUENCER', 'time_in_sec': 15.02},\n",
       " {'speaker_id': 'SPAN1', 'time_in_sec': 135.20000000000002},\n",
       " {'speaker_id': 'SPAN2', 'time_in_sec': 6.47},\n",
       " {'speaker_id': 'SPAN3', 'time_in_sec': 14.68},\n",
       " {'speaker_id': 'SPAN4', 'time_in_sec': 11.2},\n",
       " {'speaker_id': 'SPAN5', 'time_in_sec': 65.27},\n",
       " {'speaker_id': 'SPARKS', 'time_in_sec': 7.97},\n",
       " {'speaker_id': 'SRO2', 'time_in_sec': 16.81},\n",
       " {'speaker_id': 'STATUS', 'time_in_sec': 22.14},\n",
       " {'speaker_id': 'STONY', 'time_in_sec': 11.879999999999999},\n",
       " {'speaker_id': 'SURGEON1', 'time_in_sec': 31.039999999999996},\n",
       " {'speaker_id': 'SURGEON2', 'time_in_sec': 15.55},\n",
       " {'speaker_id': 'SURGEON3', 'time_in_sec': 11.91},\n",
       " {'speaker_id': 'SYDNEYVIDEO', 'time_in_sec': 29.66},\n",
       " {'speaker_id': 'TANANARIVE', 'time_in_sec': 14.59},\n",
       " {'speaker_id': 'TECHOPS1', 'time_in_sec': 8.4},\n",
       " {'speaker_id': 'TECHOPS2', 'time_in_sec': 9.61},\n",
       " {'speaker_id': 'TELCOM1', 'time_in_sec': 200.87000000000006},\n",
       " {'speaker_id': 'TELCOM2', 'time_in_sec': 217.35000000000005},\n",
       " {'speaker_id': 'TELCOM3', 'time_in_sec': 76.65},\n",
       " {'speaker_id': 'TEXAS', 'time_in_sec': 17.47},\n",
       " {'speaker_id': 'TIC0', 'time_in_sec': 62.89},\n",
       " {'speaker_id': 'TIC1', 'time_in_sec': 265.7900000000001},\n",
       " {'speaker_id': 'TIC2', 'time_in_sec': 61.38000000000001},\n",
       " {'speaker_id': 'TIC4', 'time_in_sec': 17.759999999999998},\n",
       " {'speaker_id': 'TIC5', 'time_in_sec': 18.05},\n",
       " {'speaker_id': 'TMSPK', 'time_in_sec': 4.32},\n",
       " {'speaker_id': 'TRACK0', 'time_in_sec': 105.57},\n",
       " {'speaker_id': 'TRACK1', 'time_in_sec': 40.35},\n",
       " {'speaker_id': 'TRACK2', 'time_in_sec': 6.38},\n",
       " {'speaker_id': 'TRACK3', 'time_in_sec': 14.27},\n",
       " {'speaker_id': 'TRACK4', 'time_in_sec': 130.53000000000003},\n",
       " {'speaker_id': 'TRACK5', 'time_in_sec': 61.74999999999999},\n",
       " {'speaker_id': 'TRACK6', 'time_in_sec': 21.87},\n",
       " {'speaker_id': 'TRAJECTORY1', 'time_in_sec': 20.34},\n",
       " {'speaker_id': 'TUCKER', 'time_in_sec': 7.49},\n",
       " {'speaker_id': 'VANGUARD', 'time_in_sec': 19.83},\n",
       " {'speaker_id': 'VANGUARDCOMMTECH', 'time_in_sec': 8.3},\n",
       " {'speaker_id': 'VOICE', 'time_in_sec': 27.740000000000002}]"
      ]
     },
     "execution_count": 27,
     "metadata": {},
     "output_type": "execute_result"
    }
   ],
   "source": [
    "#1. Average speech activity per speaker in seconds, dataset = Train_SID\n",
    "avg_speech_activity_dev_sid = (df_dev_sid\n",
    "   .groupby(['speaker_id'], as_index=False)\n",
    "   .time_in_sec.sum()\n",
    "   .to_dict('r'))\n",
    "avg_speech_activity_dev_sid"
   ]
  },
  {
   "cell_type": "code",
   "execution_count": 28,
   "metadata": {},
   "outputs": [
    {
     "data": {
      "text/plain": [
       "218"
      ]
     },
     "execution_count": 28,
     "metadata": {},
     "output_type": "execute_result"
    }
   ],
   "source": [
    "#2. no. of speakers in a dataset, dataset = Dev_SID\n",
    "speakers_dev_sid = df_dev_sid['speaker_id']\n",
    "speakers_dev_sid = set(speakers_dev_sid)\n",
    "len(speakers_dev_sid)"
   ]
  },
  {
   "cell_type": "code",
   "execution_count": 30,
   "metadata": {},
   "outputs": [
    {
     "data": {
      "text/plain": [
       "True"
      ]
     },
     "execution_count": 30,
     "metadata": {},
     "output_type": "execute_result"
    }
   ],
   "source": [
    "set(speakers_tr_sid).issubset(speakers_dev_sid)"
   ]
  },
  {
   "cell_type": "code",
   "execution_count": 31,
   "metadata": {},
   "outputs": [
    {
     "name": "stdout",
     "output_type": "stream",
     "text": [
      "['AFD1' 'AFD3' 'AFD5' 'AGC' 'AGCSUPPORT' 'ALDS' 'ALSEP' 'ANTIGUA' 'ARIA'\n",
      " 'ASCENSION' 'ASCENSIONCOMMTECH' 'BERMUDA' 'BERMUDACOMMTECH' 'BOB'\n",
      " 'BOOSTER1' 'BUZZ' 'CALIFORNIA' 'CANARY' 'CANARYCOMMTECH' 'CAPCOM1'\n",
      " 'CAPCOM2' 'CAPCOM3' 'CAPCOM4' 'CARNARVON' 'CCATSCOMMAND' 'CCATSTELEMETRY'\n",
      " 'CLTC' 'COLLINS' 'COMM' 'COMMANAGER1' 'COMMCONTROL1' 'COMMCONTROL2'\n",
      " 'COMMCONTROL3' 'COMMCONTROL4' 'COMPUTERMNO' 'CONSUMABLES' 'CONTROL1'\n",
      " 'CONTROL2' 'CPSPK' 'CPSS' 'CSANINE' 'CSAT' 'CTSC' 'CVTS' 'DEPUTYLOM'\n",
      " 'DISPLAY' 'DOCUMENTATION' 'DONHUGHES' 'DYNAMICS' 'ECS1' 'ECS2' 'ECS3'\n",
      " 'ECS4' 'EECOM1' 'EECOM2' 'EECOM3' 'EECOM5' 'EMU' 'EPE' 'EPS1' 'EPS2'\n",
      " 'EPS3' 'ERNIE' 'EVA' 'EXPERIMENTS' 'FAO1' 'FAO2' 'FAO3' 'FD1' 'FD2' 'FD3'\n",
      " 'FEMALE2' 'FEMALE3' 'FIDO1' 'FIDO2' 'FIDO3' 'FLIGHTPLAN1' 'FLIGHTPLAN2'\n",
      " 'FLIGHTPLANSUPPORT' 'FORTYEIGHT' 'FRANK' 'GBM' 'GCC' 'GEORGE' 'GMIL'\n",
      " 'GNC1' 'GNC2' 'GNC3' 'GNC4' 'GNN1' 'GNN2' 'GNN3' 'GNN4' 'GODDARDOPS'\n",
      " 'GODDARDVOICE' 'GOLDSTONE' 'GOLDSTONECOMMTECH' 'GOLDSTONEVIDEO' 'GUAM'\n",
      " 'GUAYMAS' 'GUIDANCE1' 'GUIDANCE2' 'GUIDANCE3' 'GUIDANCE4' 'HARRY'\n",
      " 'HAWAII' 'HONEYSUCKLE' 'HOUSTONCOMMTECH1' 'HOUSTONCOMMTECH2'\n",
      " 'HOUSTONCOMMTECH3' 'HOUSTONCOMMTECH4' 'HOUSTONTV1' 'HOUSTONTV2'\n",
      " 'HUNTSVILLE' 'INCO1' 'INCO2' 'INCO3' 'INCO4' 'JACK' 'JOHN' 'LC' 'LCG2'\n",
      " 'LMPGNS' 'LMPROPULSION' 'LOADCONTROL' 'MADRID' 'MADRIDCOMMTECH' 'MCSC'\n",
      " 'MECS' 'MEPS' 'MERCURY' 'MGTC' 'MILA' 'MLSC' 'MSTC1' 'MSTC2' 'NEIL'\n",
      " 'NETWORK0' 'NETWORK1' 'NETWORK2' 'NETWORK3' 'NETWORK4' 'NETWORK5'\n",
      " 'NETWORK6' 'NETWORK7' 'NETWORK8' 'NETWORK9' 'NIXON' 'NSCTM' 'OPS' 'PAO'\n",
      " 'PETE' 'PGNS' 'PLSS1' 'PLSS2' 'PLSSCOMM' 'POWERCORD' 'PROCEDURES1'\n",
      " 'PROCEDURES2' 'PROCEDURES3' 'PROPULSION1' 'PROPULSION2' 'PROPULSION3'\n",
      " 'PROPULSION4' 'RCS' 'RECOVERY' 'REDSTONE' 'RETRO1' 'RETRO2' 'RETRO3'\n",
      " 'RSO' 'RTC1' 'RTC2' 'RTC3' 'RTC4' 'RTC5' 'SCHEDULING' 'SCOTTY' 'SELECT'\n",
      " 'SEQUENCER' 'SPAN1' 'SPAN2' 'SPAN3' 'SPAN4' 'SPAN5' 'SPARKS' 'SRO2'\n",
      " 'STATUS' 'STONY' 'SURGEON1' 'SURGEON2' 'SURGEON3' 'SYDNEYVIDEO'\n",
      " 'TANANARIVE' 'TECHOPS1' 'TECHOPS2' 'TELCOM1' 'TELCOM2' 'TELCOM3' 'TEXAS'\n",
      " 'TIC0' 'TIC1' 'TIC2' 'TIC4' 'TIC5' 'TMSPK' 'TRACK0' 'TRACK1' 'TRACK2'\n",
      " 'TRACK3' 'TRACK4' 'TRACK5' 'TRACK6' 'TRAJECTORY1' 'TUCKER' 'VANGUARD'\n",
      " 'VANGUARDCOMMTECH' 'VOICE'] length:  218\n"
     ]
    }
   ],
   "source": [
    "#5. Speaker intersection between datasets, dataset = Dev_SID & Train_SID\n",
    "speaker_intersection_between_datasets_SID = np.intersect1d(df_dev_sid.speaker_id, \n",
    "                                        np.intersect1d(df_tr_sid.speaker_id, df_dev_sid.speaker_id))\n",
    "print(speaker_intersection_between_datasets_SID, 'length: ',len(speaker_intersection_between_datasets_SID))"
   ]
  },
  {
   "cell_type": "code",
   "execution_count": null,
   "metadata": {},
   "outputs": [],
   "source": []
  },
  {
   "cell_type": "code",
   "execution_count": 32,
   "metadata": {},
   "outputs": [
    {
     "data": {
      "text/plain": [
       "False"
      ]
     },
     "execution_count": 32,
     "metadata": {},
     "output_type": "execute_result"
    }
   ],
   "source": [
    "set(speaker_intersection_between_datasets).issubset(speaker_intersection_between_datasets_SID)"
   ]
  },
  {
   "cell_type": "markdown",
   "metadata": {},
   "source": [
    "### Eval_SID"
   ]
  },
  {
   "cell_type": "code",
   "execution_count": null,
   "metadata": {},
   "outputs": [],
   "source": [
    "dataset_Eval_SID = db.get_dataset('Eval_SID')\n",
    "df_eval_sid = pd.DataFrame(dataset_Eval_SID)\n",
    "df_eval_sid['time_in_sec'] = df_eval_sid['num_samples']/8000\n",
    "df_eval_sid.head()"
   ]
  },
  {
   "cell_type": "markdown",
   "metadata": {},
   "source": [
    "## Streams"
   ]
  },
  {
   "cell_type": "code",
   "execution_count": null,
   "metadata": {},
   "outputs": [],
   "source": [
    "datasets = [\n",
    " 'Dev_stream',\n",
    " 'Eval_stream',\n",
    " 'Train_stream',\n",
    "]\n",
    "datasets"
   ]
  },
  {
   "cell_type": "markdown",
   "metadata": {},
   "source": [
    "### Dev Stream"
   ]
  },
  {
   "cell_type": "code",
   "execution_count": null,
   "metadata": {
    "scrolled": true
   },
   "outputs": [],
   "source": [
    "dataset_Dev_str = db.get_dataset('Dev_stream')\n",
    "df_dev_str = pd.DataFrame(dataset_Dev_str)\n",
    "#df_dev_str = df_dev_str.drop(columns=['audio_path', 'example_id'])\n",
    "df_dev_str.head()"
   ]
  },
  {
   "cell_type": "code",
   "execution_count": null,
   "metadata": {},
   "outputs": [],
   "source": [
    "diff = []\n",
    "for i in range(len(df_dev_str)):\n",
    "    diff.append((np.subtract(df_dev_str['end'][i], df_dev_str['start'][i])/8000))\n",
    "df_dev_str['speech_time'] = diff "
   ]
  },
  {
   "cell_type": "code",
   "execution_count": null,
   "metadata": {},
   "outputs": [],
   "source": [
    "#1. Average speech activity per speaker in seconds, dataset = Dev_stream\n",
    "speech_diary = []\n",
    "for i in range(len(df_dev_str)):\n",
    "    tempDF = df_dev_str.loc[[i],['speaker_id','speech_time']]\n",
    "    speaker_id = tempDF['speaker_id'].to_list()\n",
    "    speech_time = tempDF['speech_time'].to_list()\n",
    "    tempdf = pd.DataFrame({'speaker_id': speaker_id[0],\n",
    "                   'speech_time': speech_time[0]})\n",
    "\n",
    "    avg_speech_activity = (tempdf\n",
    "       .groupby(['speaker_id'], as_index=False)\n",
    "       .speech_time.sum()\n",
    "       .to_dict('r'))\n",
    "    \n",
    "    speech_diary+=avg_speech_activity"
   ]
  },
  {
   "cell_type": "code",
   "execution_count": null,
   "metadata": {},
   "outputs": [],
   "source": [
    "speech_diary_df = pd.DataFrame(speech_diary)\n",
    "avg_speech_activity = (speech_diary_df\n",
    "       .groupby(['speaker_id'], as_index=False)\n",
    "       .speech_time.sum()\n",
    "       .to_dict('r'))\n",
    "avg_speech_activity"
   ]
  },
  {
   "cell_type": "code",
   "execution_count": null,
   "metadata": {},
   "outputs": [],
   "source": [
    "#2. no. of speakers in a dataset, dataset = Dev_stream\n",
    "len(avg_speech_activity)\n"
   ]
  },
  {
   "cell_type": "code",
   "execution_count": null,
   "metadata": {},
   "outputs": [],
   "source": [
    "#3. no. of words per dataset, dataset = Dev_stream\n",
    "df_dev_str['liststring'] = [' '.join(map(str, l)) for l in df_dev_str['transcription']]\n",
    "df_dev_str['totalwords'] = df_dev_str['liststring'].str.split().str.len()\n",
    "\n",
    "df_dev_str.head()"
   ]
  },
  {
   "cell_type": "code",
   "execution_count": null,
   "metadata": {},
   "outputs": [],
   "source": [
    "sum(df_dev_str['totalwords'])"
   ]
  },
  {
   "cell_type": "code",
   "execution_count": null,
   "metadata": {},
   "outputs": [],
   "source": [
    "#4. Avg word length per dataset, dataset = Dev_stream\n",
    "df_dev_str['totalwords'] = df_dev_str['liststring'].str.split().str.len()\n",
    "WL = df_dev_str['liststring']\n",
    "df_dev_str['totl_wrd_lngth'] = WL.str.split().explode().str.len().sum(level=0)\n",
    "sum(df_dev_str.totl_wrd_lngth)/sum(df_dev_str.totalwords)"
   ]
  },
  {
   "cell_type": "markdown",
   "metadata": {},
   "source": [
    "### Train Stream"
   ]
  },
  {
   "cell_type": "code",
   "execution_count": null,
   "metadata": {},
   "outputs": [],
   "source": [
    "dataset_Train_str = db.get_dataset('Train_stream')\n",
    "df_tr_str = pd.DataFrame(dataset_Train_str)\n",
    "df_tr_str = df_tr_str.drop(columns=['audio_path', 'example_id'])\n",
    "df_tr_str.head()"
   ]
  },
  {
   "cell_type": "code",
   "execution_count": null,
   "metadata": {},
   "outputs": [],
   "source": [
    "diff = []\n",
    "for i in range(len(df_tr_str)):\n",
    "    diff.append((np.subtract(df_tr_str['end'][i], df_tr_str['start'][i])/8000))\n",
    "df_tr_str['speech_time'] = diff "
   ]
  },
  {
   "cell_type": "code",
   "execution_count": null,
   "metadata": {},
   "outputs": [],
   "source": [
    "#1. Average speech activity per speaker in seconds, dataset = Train_stream\n",
    "speech_diary = []\n",
    "for i in range(len(df_tr_str)):\n",
    "    tempDF = df_tr_str.loc[[i],['speaker_id','speech_time']]\n",
    "    speaker_id = tempDF['speaker_id'].to_list()\n",
    "    speech_time = tempDF['speech_time'].to_list()\n",
    "    tempdf = pd.DataFrame({'speaker_id': speaker_id[0],\n",
    "                   'speech_time': speech_time[0]})\n",
    "\n",
    "    avg_speech_activity = (tempdf\n",
    "       .groupby(['speaker_id'], as_index=False)\n",
    "       .speech_time.sum()\n",
    "       .to_dict('r'))\n",
    "    \n",
    "    speech_diary+=avg_speech_activity"
   ]
  },
  {
   "cell_type": "code",
   "execution_count": null,
   "metadata": {},
   "outputs": [],
   "source": [
    "speech_diary_df = pd.DataFrame(speech_diary)\n",
    "avg_speech_activity = (speech_diary_df\n",
    "       .groupby(['speaker_id'], as_index=False)\n",
    "       .speech_time.sum()\n",
    "       .to_dict('r'))\n",
    "avg_speech_activity"
   ]
  },
  {
   "cell_type": "code",
   "execution_count": null,
   "metadata": {},
   "outputs": [],
   "source": [
    "#2. no. of speakers in a dataset, dataset = Train_segment\n",
    "len(avg_speech_activity)"
   ]
  },
  {
   "cell_type": "code",
   "execution_count": null,
   "metadata": {},
   "outputs": [],
   "source": [
    "#3. No. of words per dataset, dataset = Train_segment"
   ]
  },
  {
   "cell_type": "code",
   "execution_count": null,
   "metadata": {},
   "outputs": [],
   "source": [
    "df_tr_str['liststring'] = [' '.join(map(str, l)) for l in df_tr_str['transcription']]\n",
    "df_tr_str['totalwords'] = df_tr_str['liststring'].str.split().str.len()\n",
    "\n",
    "df_tr_str.head()"
   ]
  },
  {
   "cell_type": "code",
   "execution_count": null,
   "metadata": {},
   "outputs": [],
   "source": [
    "sum(df_tr_str['totalwords'])"
   ]
  },
  {
   "cell_type": "code",
   "execution_count": null,
   "metadata": {},
   "outputs": [],
   "source": [
    "#4. Avg word length per dataset, dataset = Dev_stream\n",
    "df_tr_str['totalwords'] = df_tr_str['liststring'].str.split().str.len()\n",
    "WL = df_tr_str['liststring']\n",
    "df_tr_str['totl_wrd_lngth'] = WL.str.split().explode().str.len().sum(level=0)\n",
    "print('Average word lengh for Dev_stream dataset is: ', sum(df_tr_str.totl_wrd_lngth)/sum(df_tr_str.totalwords))"
   ]
  },
  {
   "cell_type": "code",
   "execution_count": null,
   "metadata": {},
   "outputs": [],
   "source": []
  },
  {
   "cell_type": "code",
   "execution_count": null,
   "metadata": {},
   "outputs": [],
   "source": [
    "#5. Speaker intersection between datasets, dataset = Dev_stream, Train_stream\n",
    "result_between_dataset = []\n",
    "for i in range(len(dataset_Dev_str)):\n",
    "    for j in range(len(dataset_Train_str)):\n",
    "        result_between_dataset += set(dataset_Dev_str[i]['speaker_id']).intersection(dataset_Train_str[j]['speaker_id'])\n",
    "print('Speaker intersection between Dev_stream and Train_stream: ', len(set(result_between_dataset)))"
   ]
  },
  {
   "cell_type": "code",
   "execution_count": null,
   "metadata": {},
   "outputs": [],
   "source": [
    "#6. Length of silence between utterances, dataset = Dev_stream"
   ]
  },
  {
   "cell_type": "code",
   "execution_count": null,
   "metadata": {},
   "outputs": [],
   "source": [
    "import matplotlib.pyplot as plt"
   ]
  },
  {
   "cell_type": "code",
   "execution_count": null,
   "metadata": {},
   "outputs": [],
   "source": [
    "append_ = []\n",
    "for i in range(len(df_dev_str)):\n",
    "    activity = db.get_activity(dataset_Dev_str[i])\n",
    "    no_speech = interval.zeros(activity.shape[0])\n",
    "    intervals = ((0, 0), *activity.intervals, (activity.shape[0], activity.shape[0]))\n",
    "    no_speech.intervals = [\n",
    "        (start[1], end[0]) for start, end in zip(intervals[:-1], intervals[1:])]\n",
    "    append_.append(no_speech.intervals)\n",
    "\n",
    "for j in range(len(df_dev_str)):\n",
    "    left_values = []\n",
    "    duration_values = []\n",
    "    for start, end in append_[j]:\n",
    "        left_values.append(start)\n",
    "        duration_values.append(end-start)\n",
    "    x = duration_values \n",
    "    bins = left_values\n",
    "    fig, ax = plt.subplots(figsize=(20, 10))\n",
    "    plt.hist(np.clip(x, bins[0], bins[-1]), bins=bins, label='%s x' % j)\n",
    "    plt.legend(loc='upper right')\n",
    "    plt.show()"
   ]
  },
  {
   "cell_type": "code",
   "execution_count": null,
   "metadata": {},
   "outputs": [],
   "source": [
    "append_ = []\n",
    "for i in range(len(df_tr_str)):\n",
    "    activity = db.get_activity(dataset_Train_str[i])\n",
    "    no_speech = interval.zeros(activity.shape[0])\n",
    "    intervals = ((0, 0), *activity.intervals, (activity.shape[0], activity.shape[0]))\n",
    "    no_speech.intervals = [\n",
    "        (start[1], end[0]) for start, end in zip(intervals[:-1], intervals[1:])]\n",
    "    append_.append(no_speech.intervals)\n",
    "\n",
    "for j in range(len(df_tr_str)):\n",
    "    left_values = []\n",
    "    duration_values = []\n",
    "    for start, end in append_[j]:\n",
    "        left_values.append(start)\n",
    "        duration_values.append(end-start)\n",
    "    x = duration_values \n",
    "    bins = left_values\n",
    "    fig, ax = plt.subplots(figsize=(20, 10))\n",
    "    plt.hist(np.clip(x, bins[0], bins[-1]), bins=bins, label='%s x' % j)\n",
    "    plt.legend(loc='upper right')\n",
    "    plt.show()"
   ]
  },
  {
   "cell_type": "code",
   "execution_count": null,
   "metadata": {},
   "outputs": [],
   "source": [
    "#activity = db.get_activity(dataset_Dev_str[1])\n",
    "#30 min long audio recordings 125\n",
    "#activity"
   ]
  },
  {
   "cell_type": "code",
   "execution_count": null,
   "metadata": {},
   "outputs": [],
   "source": []
  }
 ],
 "metadata": {
  "kernelspec": {
   "display_name": "project_2020",
   "language": "python",
   "name": "project_2020"
  },
  "language_info": {
   "codemirror_mode": {
    "name": "ipython",
    "version": 3
   },
   "file_extension": ".py",
   "mimetype": "text/x-python",
   "name": "python",
   "nbconvert_exporter": "python",
   "pygments_lexer": "ipython3",
   "version": "3.7.6"
  }
 },
 "nbformat": 4,
 "nbformat_minor": 4
}

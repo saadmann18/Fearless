{
 "cells": [
  {
   "cell_type": "code",
   "execution_count": 1,
   "metadata": {},
   "outputs": [],
   "source": [
    "import numpy as np\n",
    "import pandas as pd\n",
    "import os\n",
    "import tqdm as tqdm\n",
    "from scipy import spatial"
   ]
  },
  {
   "cell_type": "code",
   "execution_count": 2,
   "metadata": {},
   "outputs": [],
   "source": [
    "# Get the positive and Negative pairs files"
   ]
  },
  {
   "cell_type": "code",
   "execution_count": 3,
   "metadata": {},
   "outputs": [
    {
     "name": "stderr",
     "output_type": "stream",
     "text": [
      "/net/software/python/2020_06/anaconda/lib/python3.7/site-packages/ipykernel_launcher.py:1: ParserWarning: Falling back to the 'python' engine because the 'c' engine does not support regex separators (separators > 1 char and different from '\\s+' are interpreted as regex); you can avoid this warning by specifying engine='python'.\n",
      "  \"\"\"Entry point for launching an IPython kernel.\n",
      "/net/software/python/2020_06/anaconda/lib/python3.7/site-packages/ipykernel_launcher.py:2: ParserWarning: Falling back to the 'python' engine because the 'c' engine does not support regex separators (separators > 1 char and different from '\\s+' are interpreted as regex); you can avoid this warning by specifying engine='python'.\n",
      "  \n"
     ]
    }
   ],
   "source": [
    "positive_pair = pd.read_csv('/home/bibash_01/my_project/fearless/fearless/diary/Files_folder/positive_pair', sep = '  ', header = None, names=['Pos_vector1', 'Pos_vector2'])\n",
    "negative_pair = pd.read_csv('/home/bibash_01/my_project/fearless/fearless/diary/Files_folder/negative_pair', sep = '  ', header = None, names=['Neg_vector1', 'Neg_vector2'])"
   ]
  },
  {
   "cell_type": "code",
   "execution_count": 4,
   "metadata": {},
   "outputs": [],
   "source": [
    "positive_pair['positive_similarity_measure']=np.nan\n",
    "positive_pair['True_False']= 1\n",
    "positive_pair['True_positive']= np.nan\n",
    "positive_pair['True_negative']= np.nan\n",
    "\n",
    "negative_pair['negative_similarity_measure']=np.nan\n",
    "negative_pair['True_False']= 0\n",
    "negative_pair['False_positive']= np.nan\n",
    "negative_pair['False_negative']= np.nan"
   ]
  },
  {
   "cell_type": "code",
   "execution_count": 5,
   "metadata": {},
   "outputs": [],
   "source": [
    "#vector location for devset\n",
    "vectors_dir = '/net/vol/saadmann/experiments/fearless/asr2/dump/raw/devset/embedding_vectors/'"
   ]
  },
  {
   "cell_type": "code",
   "execution_count": 6,
   "metadata": {},
   "outputs": [],
   "source": [
    "for i in range(len(positive_pair)):\n",
    "    dataSetI = np.load(vectors_dir + positive_pair['Pos_vector1'][i]+'.npy')\n",
    "    dataSetII = np.load(vectors_dir + positive_pair['Pos_vector2'][i]+'.npy')\n",
    "    result = 1 - spatial.distance.cosine(dataSetI, dataSetII)\n",
    "    positive_pair.loc[i, 'positive_similarity_measure']= result\n"
   ]
  },
  {
   "cell_type": "code",
   "execution_count": 7,
   "metadata": {},
   "outputs": [
    {
     "data": {
      "text/html": [
       "<div>\n",
       "<style scoped>\n",
       "    .dataframe tbody tr th:only-of-type {\n",
       "        vertical-align: middle;\n",
       "    }\n",
       "\n",
       "    .dataframe tbody tr th {\n",
       "        vertical-align: top;\n",
       "    }\n",
       "\n",
       "    .dataframe thead th {\n",
       "        text-align: right;\n",
       "    }\n",
       "</style>\n",
       "<table border=\"1\" class=\"dataframe\">\n",
       "  <thead>\n",
       "    <tr style=\"text-align: right;\">\n",
       "      <th></th>\n",
       "      <th>Pos_vector1</th>\n",
       "      <th>Pos_vector2</th>\n",
       "      <th>positive_similarity_measure</th>\n",
       "      <th>True_False</th>\n",
       "      <th>True_positive</th>\n",
       "      <th>True_negative</th>\n",
       "    </tr>\n",
       "  </thead>\n",
       "  <tbody>\n",
       "    <tr>\n",
       "      <th>0</th>\n",
       "      <td>AFD1-FS02_ASR_track2_dev_1107</td>\n",
       "      <td>AFD1-FS02_ASR_track2_dev_4538</td>\n",
       "      <td>0.810736</td>\n",
       "      <td>1</td>\n",
       "      <td>NaN</td>\n",
       "      <td>NaN</td>\n",
       "    </tr>\n",
       "    <tr>\n",
       "      <th>1</th>\n",
       "      <td>AFD1-FS02_ASR_track2_dev_4318</td>\n",
       "      <td>AFD1-FS02_ASR_track2_dev_0282</td>\n",
       "      <td>0.997387</td>\n",
       "      <td>1</td>\n",
       "      <td>NaN</td>\n",
       "      <td>NaN</td>\n",
       "    </tr>\n",
       "    <tr>\n",
       "      <th>2</th>\n",
       "      <td>AFD1-FS02_ASR_track2_dev_1516</td>\n",
       "      <td>AFD1-FS02_ASR_track2_dev_2025</td>\n",
       "      <td>0.849581</td>\n",
       "      <td>1</td>\n",
       "      <td>NaN</td>\n",
       "      <td>NaN</td>\n",
       "    </tr>\n",
       "    <tr>\n",
       "      <th>3</th>\n",
       "      <td>AFD1-FS02_ASR_track2_dev_2025</td>\n",
       "      <td>AFD1-FS02_ASR_track2_dev_7930</td>\n",
       "      <td>0.763018</td>\n",
       "      <td>1</td>\n",
       "      <td>NaN</td>\n",
       "      <td>NaN</td>\n",
       "    </tr>\n",
       "    <tr>\n",
       "      <th>4</th>\n",
       "      <td>AFD1-FS02_ASR_track2_dev_2595</td>\n",
       "      <td>AFD1-FS02_ASR_track2_dev_0144</td>\n",
       "      <td>0.965914</td>\n",
       "      <td>1</td>\n",
       "      <td>NaN</td>\n",
       "      <td>NaN</td>\n",
       "    </tr>\n",
       "    <tr>\n",
       "      <th>...</th>\n",
       "      <td>...</td>\n",
       "      <td>...</td>\n",
       "      <td>...</td>\n",
       "      <td>...</td>\n",
       "      <td>...</td>\n",
       "      <td>...</td>\n",
       "    </tr>\n",
       "    <tr>\n",
       "      <th>15195</th>\n",
       "      <td>VOICE-FS02_ASR_track2_dev_6367</td>\n",
       "      <td>VOICE-FS02_ASR_track2_dev_6560</td>\n",
       "      <td>0.936647</td>\n",
       "      <td>1</td>\n",
       "      <td>NaN</td>\n",
       "      <td>NaN</td>\n",
       "    </tr>\n",
       "    <tr>\n",
       "      <th>15196</th>\n",
       "      <td>VOICE-FS02_ASR_track2_dev_8347</td>\n",
       "      <td>VOICE-FS02_ASR_track2_dev_0698</td>\n",
       "      <td>0.987523</td>\n",
       "      <td>1</td>\n",
       "      <td>NaN</td>\n",
       "      <td>NaN</td>\n",
       "    </tr>\n",
       "    <tr>\n",
       "      <th>15197</th>\n",
       "      <td>VOICE-FS02_ASR_track2_dev_6367</td>\n",
       "      <td>VOICE-FS02_ASR_track2_dev_0963</td>\n",
       "      <td>0.980772</td>\n",
       "      <td>1</td>\n",
       "      <td>NaN</td>\n",
       "      <td>NaN</td>\n",
       "    </tr>\n",
       "    <tr>\n",
       "      <th>15198</th>\n",
       "      <td>VOICE-FS02_ASR_track2_dev_4618</td>\n",
       "      <td>VOICE-FS02_ASR_track2_dev_4502</td>\n",
       "      <td>0.962772</td>\n",
       "      <td>1</td>\n",
       "      <td>NaN</td>\n",
       "      <td>NaN</td>\n",
       "    </tr>\n",
       "    <tr>\n",
       "      <th>15199</th>\n",
       "      <td>VOICE-FS02_ASR_track2_dev_8347</td>\n",
       "      <td>VOICE-FS02_ASR_track2_dev_1938</td>\n",
       "      <td>0.995351</td>\n",
       "      <td>1</td>\n",
       "      <td>NaN</td>\n",
       "      <td>NaN</td>\n",
       "    </tr>\n",
       "  </tbody>\n",
       "</table>\n",
       "<p>15200 rows × 6 columns</p>\n",
       "</div>"
      ],
      "text/plain": [
       "                          Pos_vector1                     Pos_vector2  \\\n",
       "0       AFD1-FS02_ASR_track2_dev_1107   AFD1-FS02_ASR_track2_dev_4538   \n",
       "1       AFD1-FS02_ASR_track2_dev_4318   AFD1-FS02_ASR_track2_dev_0282   \n",
       "2       AFD1-FS02_ASR_track2_dev_1516   AFD1-FS02_ASR_track2_dev_2025   \n",
       "3       AFD1-FS02_ASR_track2_dev_2025   AFD1-FS02_ASR_track2_dev_7930   \n",
       "4       AFD1-FS02_ASR_track2_dev_2595   AFD1-FS02_ASR_track2_dev_0144   \n",
       "...                               ...                             ...   \n",
       "15195  VOICE-FS02_ASR_track2_dev_6367  VOICE-FS02_ASR_track2_dev_6560   \n",
       "15196  VOICE-FS02_ASR_track2_dev_8347  VOICE-FS02_ASR_track2_dev_0698   \n",
       "15197  VOICE-FS02_ASR_track2_dev_6367  VOICE-FS02_ASR_track2_dev_0963   \n",
       "15198  VOICE-FS02_ASR_track2_dev_4618  VOICE-FS02_ASR_track2_dev_4502   \n",
       "15199  VOICE-FS02_ASR_track2_dev_8347  VOICE-FS02_ASR_track2_dev_1938   \n",
       "\n",
       "       positive_similarity_measure  True_False  True_positive  True_negative  \n",
       "0                         0.810736           1            NaN            NaN  \n",
       "1                         0.997387           1            NaN            NaN  \n",
       "2                         0.849581           1            NaN            NaN  \n",
       "3                         0.763018           1            NaN            NaN  \n",
       "4                         0.965914           1            NaN            NaN  \n",
       "...                            ...         ...            ...            ...  \n",
       "15195                     0.936647           1            NaN            NaN  \n",
       "15196                     0.987523           1            NaN            NaN  \n",
       "15197                     0.980772           1            NaN            NaN  \n",
       "15198                     0.962772           1            NaN            NaN  \n",
       "15199                     0.995351           1            NaN            NaN  \n",
       "\n",
       "[15200 rows x 6 columns]"
      ]
     },
     "execution_count": 7,
     "metadata": {},
     "output_type": "execute_result"
    }
   ],
   "source": [
    "positive_pair"
   ]
  },
  {
   "cell_type": "code",
   "execution_count": 8,
   "metadata": {},
   "outputs": [],
   "source": [
    "for i in range(len(negative_pair)):\n",
    "    dataSetI = np.load(vectors_dir + negative_pair['Neg_vector1'][i]+'.npy')\n",
    "    dataSetII = np.load(vectors_dir + negative_pair['Neg_vector2'][i]+'.npy')\n",
    "    result = 1 - spatial.distance.cosine(dataSetI, dataSetII)\n",
    "    negative_pair.loc[i, 'negative_similarity_measure']= result\n"
   ]
  },
  {
   "cell_type": "code",
   "execution_count": 9,
   "metadata": {},
   "outputs": [
    {
     "data": {
      "text/html": [
       "<div>\n",
       "<style scoped>\n",
       "    .dataframe tbody tr th:only-of-type {\n",
       "        vertical-align: middle;\n",
       "    }\n",
       "\n",
       "    .dataframe tbody tr th {\n",
       "        vertical-align: top;\n",
       "    }\n",
       "\n",
       "    .dataframe thead th {\n",
       "        text-align: right;\n",
       "    }\n",
       "</style>\n",
       "<table border=\"1\" class=\"dataframe\">\n",
       "  <thead>\n",
       "    <tr style=\"text-align: right;\">\n",
       "      <th></th>\n",
       "      <th>Neg_vector1</th>\n",
       "      <th>Neg_vector2</th>\n",
       "      <th>negative_similarity_measure</th>\n",
       "      <th>True_False</th>\n",
       "      <th>False_positive</th>\n",
       "      <th>False_negative</th>\n",
       "    </tr>\n",
       "  </thead>\n",
       "  <tbody>\n",
       "    <tr>\n",
       "      <th>0</th>\n",
       "      <td>AFD1-FS02_ASR_track2_dev_1107</td>\n",
       "      <td>NETWORK9-FS02_ASR_track2_dev_0930</td>\n",
       "      <td>0.990749</td>\n",
       "      <td>0</td>\n",
       "      <td>NaN</td>\n",
       "      <td>NaN</td>\n",
       "    </tr>\n",
       "    <tr>\n",
       "      <th>1</th>\n",
       "      <td>AFD1-FS02_ASR_track2_dev_4318</td>\n",
       "      <td>GNC4-FS02_ASR_track2_dev_5475</td>\n",
       "      <td>0.972053</td>\n",
       "      <td>0</td>\n",
       "      <td>NaN</td>\n",
       "      <td>NaN</td>\n",
       "    </tr>\n",
       "    <tr>\n",
       "      <th>2</th>\n",
       "      <td>AFD1-FS02_ASR_track2_dev_1516</td>\n",
       "      <td>GOLDSTONEVIDEO-FS02_ASR_track2_dev_8020</td>\n",
       "      <td>0.978513</td>\n",
       "      <td>0</td>\n",
       "      <td>NaN</td>\n",
       "      <td>NaN</td>\n",
       "    </tr>\n",
       "    <tr>\n",
       "      <th>3</th>\n",
       "      <td>AFD1-FS02_ASR_track2_dev_2025</td>\n",
       "      <td>MLSC-FS02_ASR_track2_dev_3961</td>\n",
       "      <td>0.849558</td>\n",
       "      <td>0</td>\n",
       "      <td>NaN</td>\n",
       "      <td>NaN</td>\n",
       "    </tr>\n",
       "    <tr>\n",
       "      <th>4</th>\n",
       "      <td>AFD1-FS02_ASR_track2_dev_2595</td>\n",
       "      <td>COMM-FS02_ASR_track2_dev_6638</td>\n",
       "      <td>0.998278</td>\n",
       "      <td>0</td>\n",
       "      <td>NaN</td>\n",
       "      <td>NaN</td>\n",
       "    </tr>\n",
       "    <tr>\n",
       "      <th>...</th>\n",
       "      <td>...</td>\n",
       "      <td>...</td>\n",
       "      <td>...</td>\n",
       "      <td>...</td>\n",
       "      <td>...</td>\n",
       "      <td>...</td>\n",
       "    </tr>\n",
       "    <tr>\n",
       "      <th>15195</th>\n",
       "      <td>VOICE-FS02_ASR_track2_dev_6367</td>\n",
       "      <td>TRACK4-FS02_ASR_track2_dev_5834</td>\n",
       "      <td>0.791040</td>\n",
       "      <td>0</td>\n",
       "      <td>NaN</td>\n",
       "      <td>NaN</td>\n",
       "    </tr>\n",
       "    <tr>\n",
       "      <th>15196</th>\n",
       "      <td>VOICE-FS02_ASR_track2_dev_8347</td>\n",
       "      <td>RTC1-FS02_ASR_track2_dev_4090</td>\n",
       "      <td>0.991239</td>\n",
       "      <td>0</td>\n",
       "      <td>NaN</td>\n",
       "      <td>NaN</td>\n",
       "    </tr>\n",
       "    <tr>\n",
       "      <th>15197</th>\n",
       "      <td>VOICE-FS02_ASR_track2_dev_6367</td>\n",
       "      <td>CCATSCOMMAND-FS02_ASR_track2_dev_3888</td>\n",
       "      <td>0.875373</td>\n",
       "      <td>0</td>\n",
       "      <td>NaN</td>\n",
       "      <td>NaN</td>\n",
       "    </tr>\n",
       "    <tr>\n",
       "      <th>15198</th>\n",
       "      <td>VOICE-FS02_ASR_track2_dev_4618</td>\n",
       "      <td>TRACK0-FS02_ASR_track2_dev_7771</td>\n",
       "      <td>0.925817</td>\n",
       "      <td>0</td>\n",
       "      <td>NaN</td>\n",
       "      <td>NaN</td>\n",
       "    </tr>\n",
       "    <tr>\n",
       "      <th>15199</th>\n",
       "      <td>VOICE-FS02_ASR_track2_dev_8347</td>\n",
       "      <td>REDSTONE-FS02_ASR_track2_dev_0524</td>\n",
       "      <td>0.995515</td>\n",
       "      <td>0</td>\n",
       "      <td>NaN</td>\n",
       "      <td>NaN</td>\n",
       "    </tr>\n",
       "  </tbody>\n",
       "</table>\n",
       "<p>15200 rows × 6 columns</p>\n",
       "</div>"
      ],
      "text/plain": [
       "                          Neg_vector1  \\\n",
       "0       AFD1-FS02_ASR_track2_dev_1107   \n",
       "1       AFD1-FS02_ASR_track2_dev_4318   \n",
       "2       AFD1-FS02_ASR_track2_dev_1516   \n",
       "3       AFD1-FS02_ASR_track2_dev_2025   \n",
       "4       AFD1-FS02_ASR_track2_dev_2595   \n",
       "...                               ...   \n",
       "15195  VOICE-FS02_ASR_track2_dev_6367   \n",
       "15196  VOICE-FS02_ASR_track2_dev_8347   \n",
       "15197  VOICE-FS02_ASR_track2_dev_6367   \n",
       "15198  VOICE-FS02_ASR_track2_dev_4618   \n",
       "15199  VOICE-FS02_ASR_track2_dev_8347   \n",
       "\n",
       "                                   Neg_vector2  negative_similarity_measure  \\\n",
       "0            NETWORK9-FS02_ASR_track2_dev_0930                     0.990749   \n",
       "1                GNC4-FS02_ASR_track2_dev_5475                     0.972053   \n",
       "2      GOLDSTONEVIDEO-FS02_ASR_track2_dev_8020                     0.978513   \n",
       "3                MLSC-FS02_ASR_track2_dev_3961                     0.849558   \n",
       "4                COMM-FS02_ASR_track2_dev_6638                     0.998278   \n",
       "...                                        ...                          ...   \n",
       "15195          TRACK4-FS02_ASR_track2_dev_5834                     0.791040   \n",
       "15196            RTC1-FS02_ASR_track2_dev_4090                     0.991239   \n",
       "15197    CCATSCOMMAND-FS02_ASR_track2_dev_3888                     0.875373   \n",
       "15198          TRACK0-FS02_ASR_track2_dev_7771                     0.925817   \n",
       "15199        REDSTONE-FS02_ASR_track2_dev_0524                     0.995515   \n",
       "\n",
       "       True_False  False_positive  False_negative  \n",
       "0               0             NaN             NaN  \n",
       "1               0             NaN             NaN  \n",
       "2               0             NaN             NaN  \n",
       "3               0             NaN             NaN  \n",
       "4               0             NaN             NaN  \n",
       "...           ...             ...             ...  \n",
       "15195           0             NaN             NaN  \n",
       "15196           0             NaN             NaN  \n",
       "15197           0             NaN             NaN  \n",
       "15198           0             NaN             NaN  \n",
       "15199           0             NaN             NaN  \n",
       "\n",
       "[15200 rows x 6 columns]"
      ]
     },
     "execution_count": 9,
     "metadata": {},
     "output_type": "execute_result"
    }
   ],
   "source": [
    "negative_pair"
   ]
  },
  {
   "cell_type": "markdown",
   "metadata": {},
   "source": [
    "# threshold = ??? \n",
    "false positive rate \n",
    "false negative rate\n",
    "\n",
    "The margin is chosen so that the false positive rate and the false negative rate (comparing the true and estimated labels) are equal (or, if not possible, at least as close as possible) -- thus its name \"equal\" error rate\n",
    "The error rate that you obtain is the EER (EER = false postivie rate = false negative rate)."
   ]
  },
  {
   "cell_type": "code",
   "execution_count": 19,
   "metadata": {},
   "outputs": [
    {
     "data": {
      "text/plain": [
       "0.9999105334281921"
      ]
     },
     "execution_count": 19,
     "metadata": {},
     "output_type": "execute_result"
    }
   ],
   "source": [
    "dataSetI = np.load(vectors_dir + positive_pair['Pos_vector1'][1501]+'.npy')\n",
    "dataSetII = np.load(vectors_dir + positive_pair['Pos_vector2'][1501]+'.npy')\n",
    "result = 1 - spatial.distance.cosine(dataSetI, dataSetII)\n",
    "result"
   ]
  },
  {
   "cell_type": "code",
   "execution_count": 20,
   "metadata": {},
   "outputs": [
    {
     "data": {
      "text/plain": [
       "0.9623380303382874"
      ]
     },
     "execution_count": 20,
     "metadata": {},
     "output_type": "execute_result"
    }
   ],
   "source": [
    "dataSetI = np.load(vectors_dir + negative_pair['Neg_vector1'][1501]+'.npy')\n",
    "dataSetII = np.load(vectors_dir + negative_pair['Neg_vector2'][1501]+'.npy')\n",
    "result = 1 - spatial.distance.cosine(dataSetI, dataSetII)\n",
    "result"
   ]
  },
  {
   "cell_type": "code",
   "execution_count": 12,
   "metadata": {},
   "outputs": [
    {
     "data": {
      "text/plain": [
       "(1, 100)"
      ]
     },
     "execution_count": 12,
     "metadata": {},
     "output_type": "execute_result"
    }
   ],
   "source": [
    "dataSetI.shape"
   ]
  },
  {
   "cell_type": "code",
   "execution_count": null,
   "metadata": {},
   "outputs": [],
   "source": []
  }
 ],
 "metadata": {
  "kernelspec": {
   "display_name": "project_2020",
   "language": "python",
   "name": "project_2020"
  },
  "language_info": {
   "codemirror_mode": {
    "name": "ipython",
    "version": 3
   },
   "file_extension": ".py",
   "mimetype": "text/x-python",
   "name": "python",
   "nbconvert_exporter": "python",
   "pygments_lexer": "ipython3",
   "version": "3.7.6"
  }
 },
 "nbformat": 4,
 "nbformat_minor": 4
}
